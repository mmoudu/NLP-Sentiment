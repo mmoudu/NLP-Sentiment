{
 "cells": [
  {
   "cell_type": "markdown",
   "id": "97ece8b6",
   "metadata": {},
   "source": [
    "# Reading and analyzing the data "
   ]
  },
  {
   "cell_type": "code",
   "execution_count": null,
   "id": "3c44d598",
   "metadata": {},
   "outputs": [],
   "source": [
    "rawData = open(\"/Users/mahmoudwatfa/Documents/TorontoMetropolitanUni/Capstone820/Coding/tripadvisor_hotel_reviews.csv\").read()"
   ]
  },
  {
   "cell_type": "code",
   "execution_count": 29,
   "id": "08b61f93",
   "metadata": {},
   "outputs": [
    {
     "name": "stderr",
     "output_type": "stream",
     "text": [
      "[nltk_data] Downloading package stopwords to\n",
      "[nltk_data]     /Users/mahmoudwatfa/nltk_data...\n",
      "[nltk_data]   Package stopwords is already up-to-date!\n"
     ]
    },
    {
     "data": {
      "text/plain": [
       "True"
      ]
     },
     "execution_count": 29,
     "metadata": {},
     "output_type": "execute_result"
    }
   ],
   "source": [
    "import nltk\n",
    "from nltk.corpus import stopwords\n",
    "nltk.download('stopwords')"
   ]
  },
  {
   "cell_type": "code",
   "execution_count": 2,
   "id": "7e19ff82",
   "metadata": {},
   "outputs": [
    {
     "data": {
      "text/plain": [
       "'Review,Rating\\n\"nice hotel expensive parking got good deal stay hotel anniversary, arrived late evening took advice previous reviews did valet parking, check quick easy, little disappointed non-existent view room room clean nice size, bed comfortable woke stiff neck high pillows, not soundproof like heard music room night morning loud bangs doors opening closing hear people talking hallway, maybe just noisy neighbors, aveda bath products nice, did not goldfish stay nice touch taken advantage staying longer, location great walking distance shopping, overall nice experience having pay 40 parking night,  \",4\\n\"ok nothing special charge diamond member hilton decided chain shot 20th anniversary seattle, start booked suite paid extra website description not, suite bedroom bathroom standard hotel room, took printed reservation desk showed said things like tv couch ect desk clerk told oh mixed suites description kimpton website sorry free breakfast, got kidding, embassy suits sitting room bathroom bedroom unlike kimpton calls suite, 5 day stay offer correct false advertising, send kimpton preferred guest website email asking failure provide suite advertised website reservation description furnished hard copy reservation printout website desk manager duty did not reply solution, send email trip guest survey did not follow email mail, guess tell concerned guest.the staff ranged indifferent not helpful, asked desk good breakfast spots neighborhood hood told no hotels, gee best breakfast spots seattle 1/2 block away convenient hotel does not know exist, arrived late night 11 pm inside run bellman busy chating cell phone help bags.prior arrival emailed hotel inform 20th anniversary half really picky wanted make sure good, got nice email saying like deliver bottle champagne chocolate covered strawberries room arrival celebrate, told needed foam pillows, arrival no champagne strawberries no foam pillows great room view alley high rise building good not better housekeeping staff cleaner room property, impressed left morning shopping room got short trips 2 hours, beds comfortable.not good ac-heat control 4 x 4 inch screen bring green shine directly eyes night, light sensitive tape controls.this not 4 start hotel clean business hotel super high rates, better chain hotels seattle,  \",2\\n'"
      ]
     },
     "execution_count": 2,
     "metadata": {},
     "output_type": "execute_result"
    }
   ],
   "source": [
    "# Print some parts of the data to understand a bit about its structure\n",
    "rawData[0:2306]"
   ]
  },
  {
   "cell_type": "code",
   "execution_count": 3,
   "id": "2da08072",
   "metadata": {},
   "outputs": [],
   "source": [
    "# We want to form a list of review text followed by rating.\n",
    "# We observe that the review text ends with a comma, few spaces and double quotation.\n",
    "# This is then followed by the rating as a number, after which a new review text is available and so on\n",
    "# We parse the data by replacing the comma, spaces and double quote with a new line and then we split on a new line\n",
    "parsedData = rawData.replace(',  \",', '\\n').split('\\n')"
   ]
  },
  {
   "cell_type": "code",
   "execution_count": 4,
   "id": "e56fd2d8",
   "metadata": {},
   "outputs": [
    {
     "data": {
      "text/plain": [
       "['Review,Rating',\n",
       " '\"nice hotel expensive parking got good deal stay hotel anniversary, arrived late evening took advice previous reviews did valet parking, check quick easy, little disappointed non-existent view room room clean nice size, bed comfortable woke stiff neck high pillows, not soundproof like heard music room night morning loud bangs doors opening closing hear people talking hallway, maybe just noisy neighbors, aveda bath products nice, did not goldfish stay nice touch taken advantage staying longer, location great walking distance shopping, overall nice experience having pay 40 parking night',\n",
       " '4',\n",
       " '\"ok nothing special charge diamond member hilton decided chain shot 20th anniversary seattle, start booked suite paid extra website description not, suite bedroom bathroom standard hotel room, took printed reservation desk showed said things like tv couch ect desk clerk told oh mixed suites description kimpton website sorry free breakfast, got kidding, embassy suits sitting room bathroom bedroom unlike kimpton calls suite, 5 day stay offer correct false advertising, send kimpton preferred guest website email asking failure provide suite advertised website reservation description furnished hard copy reservation printout website desk manager duty did not reply solution, send email trip guest survey did not follow email mail, guess tell concerned guest.the staff ranged indifferent not helpful, asked desk good breakfast spots neighborhood hood told no hotels, gee best breakfast spots seattle 1/2 block away convenient hotel does not know exist, arrived late night 11 pm inside run bellman busy chating cell phone help bags.prior arrival emailed hotel inform 20th anniversary half really picky wanted make sure good, got nice email saying like deliver bottle champagne chocolate covered strawberries room arrival celebrate, told needed foam pillows, arrival no champagne strawberries no foam pillows great room view alley high rise building good not better housekeeping staff cleaner room property, impressed left morning shopping room got short trips 2 hours, beds comfortable.not good ac-heat control 4 x 4 inch screen bring green shine directly eyes night, light sensitive tape controls.this not 4 start hotel clean business hotel super high rates, better chain hotels seattle',\n",
       " '2']"
      ]
     },
     "execution_count": 4,
     "metadata": {},
     "output_type": "execute_result"
    }
   ],
   "source": [
    "# We print the result for the first 5 entries, noting that the first entry is a column title\n",
    "# Now all the reviews and number ratings are in the form of a list\n",
    "parsedData[0:5]"
   ]
  },
  {
   "cell_type": "code",
   "execution_count": 5,
   "id": "9c7523b1",
   "metadata": {},
   "outputs": [],
   "source": [
    "# We extract the review text starting at the second entry and then increments of 2\n",
    "reviewList = parsedData[1::2]\n",
    "# We extract the number rating starting at the third entry and then increments of 2\n",
    "ratingList = parsedData[2::2]"
   ]
  },
  {
   "cell_type": "code",
   "execution_count": 6,
   "id": "0927e88f",
   "metadata": {},
   "outputs": [
    {
     "name": "stdout",
     "output_type": "stream",
     "text": [
      "['\"nice hotel expensive parking got good deal stay hotel anniversary, arrived late evening took advice previous reviews did valet parking, check quick easy, little disappointed non-existent view room room clean nice size, bed comfortable woke stiff neck high pillows, not soundproof like heard music room night morning loud bangs doors opening closing hear people talking hallway, maybe just noisy neighbors, aveda bath products nice, did not goldfish stay nice touch taken advantage staying longer, location great walking distance shopping, overall nice experience having pay 40 parking night', '\"ok nothing special charge diamond member hilton decided chain shot 20th anniversary seattle, start booked suite paid extra website description not, suite bedroom bathroom standard hotel room, took printed reservation desk showed said things like tv couch ect desk clerk told oh mixed suites description kimpton website sorry free breakfast, got kidding, embassy suits sitting room bathroom bedroom unlike kimpton calls suite, 5 day stay offer correct false advertising, send kimpton preferred guest website email asking failure provide suite advertised website reservation description furnished hard copy reservation printout website desk manager duty did not reply solution, send email trip guest survey did not follow email mail, guess tell concerned guest.the staff ranged indifferent not helpful, asked desk good breakfast spots neighborhood hood told no hotels, gee best breakfast spots seattle 1/2 block away convenient hotel does not know exist, arrived late night 11 pm inside run bellman busy chating cell phone help bags.prior arrival emailed hotel inform 20th anniversary half really picky wanted make sure good, got nice email saying like deliver bottle champagne chocolate covered strawberries room arrival celebrate, told needed foam pillows, arrival no champagne strawberries no foam pillows great room view alley high rise building good not better housekeeping staff cleaner room property, impressed left morning shopping room got short trips 2 hours, beds comfortable.not good ac-heat control 4 x 4 inch screen bring green shine directly eyes night, light sensitive tape controls.this not 4 start hotel clean business hotel super high rates, better chain hotels seattle']\n",
      "['4', '2']\n"
     ]
    }
   ],
   "source": [
    "# We print some of the entries to verify the result\n",
    "print(reviewList[0:2])\n",
    "print(ratingList[0:2])"
   ]
  },
  {
   "cell_type": "code",
   "execution_count": 7,
   "id": "26b4cbba",
   "metadata": {},
   "outputs": [
    {
     "name": "stdout",
     "output_type": "stream",
     "text": [
      "The number of review entries is: 20492\n",
      "The number of rating entries is: 20491\n"
     ]
    }
   ],
   "source": [
    "# We verify the length of the review list and the length of the number ratings\n",
    "print('The number of review entries is:', len(reviewList))\n",
    "print('The number of rating entries is:', len(ratingList))"
   ]
  },
  {
   "cell_type": "code",
   "execution_count": 8,
   "id": "369bc10c",
   "metadata": {},
   "outputs": [
    {
     "data": {
      "text/plain": [
       "''"
      ]
     },
     "execution_count": 8,
     "metadata": {},
     "output_type": "execute_result"
    }
   ],
   "source": [
    "# Try to see what the last entry is\n",
    "reviewList[-1]"
   ]
  },
  {
   "cell_type": "code",
   "execution_count": 9,
   "id": "1228be44",
   "metadata": {},
   "outputs": [
    {
     "data": {
      "text/plain": [
       "''"
      ]
     },
     "execution_count": 9,
     "metadata": {},
     "output_type": "execute_result"
    }
   ],
   "source": [
    "# We remove the last entry as it is not associated with any review or rating\n",
    "reviewList.pop()"
   ]
  },
  {
   "cell_type": "code",
   "execution_count": 10,
   "id": "aa56f46c",
   "metadata": {},
   "outputs": [
    {
     "name": "stdout",
     "output_type": "stream",
     "text": [
      "The number of review entries is: 20491\n",
      "The number of rating entries is: 20491\n"
     ]
    }
   ],
   "source": [
    "# We verify again the length of the review list and the length of the number ratings\n",
    "print('The number of review entries is:', len(reviewList))\n",
    "print('The number of rating entries is:', len(ratingList))"
   ]
  },
  {
   "cell_type": "markdown",
   "id": "842c5ffd",
   "metadata": {},
   "source": [
    "## Convert data into a dataframe & check for NULL entries"
   ]
  },
  {
   "cell_type": "code",
   "execution_count": 11,
   "id": "cb34361c",
   "metadata": {},
   "outputs": [
    {
     "data": {
      "text/html": [
       "<div>\n",
       "<style scoped>\n",
       "    .dataframe tbody tr th:only-of-type {\n",
       "        vertical-align: middle;\n",
       "    }\n",
       "\n",
       "    .dataframe tbody tr th {\n",
       "        vertical-align: top;\n",
       "    }\n",
       "\n",
       "    .dataframe thead th {\n",
       "        text-align: right;\n",
       "    }\n",
       "</style>\n",
       "<table border=\"1\" class=\"dataframe\">\n",
       "  <thead>\n",
       "    <tr style=\"text-align: right;\">\n",
       "      <th></th>\n",
       "      <th>rating</th>\n",
       "      <th>review</th>\n",
       "    </tr>\n",
       "  </thead>\n",
       "  <tbody>\n",
       "    <tr>\n",
       "      <th>0</th>\n",
       "      <td>4</td>\n",
       "      <td>\"nice hotel expensive parking got good deal stay hotel anniversary, arrived late evening took ad...</td>\n",
       "    </tr>\n",
       "    <tr>\n",
       "      <th>1</th>\n",
       "      <td>2</td>\n",
       "      <td>\"ok nothing special charge diamond member hilton decided chain shot 20th anniversary seattle, st...</td>\n",
       "    </tr>\n",
       "    <tr>\n",
       "      <th>2</th>\n",
       "      <td>3</td>\n",
       "      <td>\"nice rooms not 4* experience hotel monaco seattle good hotel n't 4* level.positives large bathr...</td>\n",
       "    </tr>\n",
       "    <tr>\n",
       "      <th>3</th>\n",
       "      <td>5</td>\n",
       "      <td>\"unique, great stay, wonderful time hotel monaco, location excellent short stroll main downtown ...</td>\n",
       "    </tr>\n",
       "    <tr>\n",
       "      <th>4</th>\n",
       "      <td>5</td>\n",
       "      <td>\"great stay great stay, went seahawk game awesome, downfall view building did n't complain, room...</td>\n",
       "    </tr>\n",
       "  </tbody>\n",
       "</table>\n",
       "</div>"
      ],
      "text/plain": [
       "  rating  \\\n",
       "0      4   \n",
       "1      2   \n",
       "2      3   \n",
       "3      5   \n",
       "4      5   \n",
       "\n",
       "                                                                                                review  \n",
       "0  \"nice hotel expensive parking got good deal stay hotel anniversary, arrived late evening took ad...  \n",
       "1  \"ok nothing special charge diamond member hilton decided chain shot 20th anniversary seattle, st...  \n",
       "2  \"nice rooms not 4* experience hotel monaco seattle good hotel n't 4* level.positives large bathr...  \n",
       "3  \"unique, great stay, wonderful time hotel monaco, location excellent short stroll main downtown ...  \n",
       "4  \"great stay great stay, went seahawk game awesome, downfall view building did n't complain, room...  "
      ]
     },
     "execution_count": 11,
     "metadata": {},
     "output_type": "execute_result"
    }
   ],
   "source": [
    "# Create a panda dataframe consisting of the rating and the review text\n",
    "import pandas as pd\n",
    "pd.set_option('display.max_colwidth', 100)\n",
    "raw_rated_reviews = pd.DataFrame({\n",
    "    'rating': ratingList,\n",
    "    'review': reviewList\n",
    "})\n",
    "\n",
    "raw_rated_reviews.head()"
   ]
  },
  {
   "cell_type": "code",
   "execution_count": 12,
   "id": "2ad54b54",
   "metadata": {},
   "outputs": [
    {
     "name": "stdout",
     "output_type": "stream",
     "text": [
      "<class 'pandas.core.frame.DataFrame'>\n",
      "RangeIndex: 20491 entries, 0 to 20490\n",
      "Data columns (total 2 columns):\n",
      " #   Column  Non-Null Count  Dtype \n",
      "---  ------  --------------  ----- \n",
      " 0   rating  20491 non-null  object\n",
      " 1   review  20491 non-null  object\n",
      "dtypes: object(2)\n",
      "memory usage: 320.3+ KB\n"
     ]
    }
   ],
   "source": [
    "raw_rated_reviews.info()"
   ]
  },
  {
   "cell_type": "code",
   "execution_count": 13,
   "id": "6ad68f87",
   "metadata": {},
   "outputs": [
    {
     "name": "stdout",
     "output_type": "stream",
     "text": [
      "The number of missing review entries is: 0\n"
     ]
    }
   ],
   "source": [
    "raw_rated_reviews.isnull()\n",
    "\n",
    "# Check if there is any missing review entry\n",
    "count_1 = raw_rated_reviews[\"review\"].isna().sum()\n",
    "print('The number of missing review entries is:', count_1)"
   ]
  },
  {
   "cell_type": "markdown",
   "id": "64311729",
   "metadata": {},
   "source": [
    "## Check how many reviews there are per rating"
   ]
  },
  {
   "cell_type": "code",
   "execution_count": 14,
   "id": "d806d5f0",
   "metadata": {},
   "outputs": [
    {
     "name": "stdout",
     "output_type": "stream",
     "text": [
      "There are 1421 reviews with a rating of:  1\n",
      "There are 1793 reviews with a rating of:  2\n",
      "There are 2184 reviews with a rating of:  3\n",
      "There are 6039 reviews with a rating of:  4\n",
      "There are 9054 reviews with a rating of:  5\n"
     ]
    }
   ],
   "source": [
    "import numpy as np\n",
    "\n",
    "unique_ratings, count_ratings = np.unique(ratingList, return_counts=True)\n",
    "\n",
    "for i in range(0,len(unique_ratings)):\n",
    "    print('There are', count_ratings[i], 'reviews with a rating of: ', unique_ratings[i])"
   ]
  },
  {
   "cell_type": "code",
   "execution_count": 16,
   "id": "443a2941",
   "metadata": {},
   "outputs": [
    {
     "data": {
      "image/png": "[encoded data removed]",
      "text/plain": [
       "<Figure size 640x480 with 1 Axes>"
      ]
     },
     "metadata": {},
     "output_type": "display_data"
    }
   ],
   "source": [
    "import matplotlib.pyplot as plt\n",
    "\n",
    "plt.bar(unique_ratings, count_ratings)\n",
    "plt.xlabel(\"Ratings\")\n",
    "plt.ylabel(\"Number of ratings\")\n",
    "plt.title(\"Bar plot of available ratings\")\n",
    "plt.show()"
   ]
  },
  {
   "cell_type": "code",
   "execution_count": 15,
   "id": "f7d170bb",
   "metadata": {},
   "outputs": [
    {
     "data": {
      "text/html": [
       "<div>\n",
       "<style scoped>\n",
       "    .dataframe tbody tr th:only-of-type {\n",
       "        vertical-align: middle;\n",
       "    }\n",
       "\n",
       "    .dataframe tbody tr th {\n",
       "        vertical-align: top;\n",
       "    }\n",
       "\n",
       "    .dataframe thead th {\n",
       "        text-align: right;\n",
       "    }\n",
       "</style>\n",
       "<table border=\"1\" class=\"dataframe\">\n",
       "  <thead>\n",
       "    <tr style=\"text-align: right;\">\n",
       "      <th></th>\n",
       "      <th>rating</th>\n",
       "      <th>review</th>\n",
       "    </tr>\n",
       "  </thead>\n",
       "  <tbody>\n",
       "    <tr>\n",
       "      <th>0</th>\n",
       "      <td>4</td>\n",
       "      <td>\"nice hotel expensive parking got good deal stay hotel anniversary, arrived late evening took ad...</td>\n",
       "    </tr>\n",
       "    <tr>\n",
       "      <th>1</th>\n",
       "      <td>2</td>\n",
       "      <td>\"ok nothing special charge diamond member hilton decided chain shot 20th anniversary seattle, st...</td>\n",
       "    </tr>\n",
       "    <tr>\n",
       "      <th>2</th>\n",
       "      <td>3</td>\n",
       "      <td>\"nice rooms not 4* experience hotel monaco seattle good hotel n't 4* level.positives large bathr...</td>\n",
       "    </tr>\n",
       "    <tr>\n",
       "      <th>3</th>\n",
       "      <td>5</td>\n",
       "      <td>\"unique, great stay, wonderful time hotel monaco, location excellent short stroll main downtown ...</td>\n",
       "    </tr>\n",
       "    <tr>\n",
       "      <th>4</th>\n",
       "      <td>5</td>\n",
       "      <td>\"great stay great stay, went seahawk game awesome, downfall view building did n't complain, room...</td>\n",
       "    </tr>\n",
       "    <tr>\n",
       "      <th>5</th>\n",
       "      <td>5</td>\n",
       "      <td>\"love monaco staff husband stayed hotel crazy weekend attending memorial service best friend hus...</td>\n",
       "    </tr>\n",
       "    <tr>\n",
       "      <th>6</th>\n",
       "      <td>5</td>\n",
       "      <td>\"cozy stay rainy city, husband spent 7 nights monaco early january 2008. business trip chance co...</td>\n",
       "    </tr>\n",
       "    <tr>\n",
       "      <th>7</th>\n",
       "      <td>4</td>\n",
       "      <td>\"excellent staff, housekeeping quality hotel chocked staff make feel home, experienced exception...</td>\n",
       "    </tr>\n",
       "    <tr>\n",
       "      <th>8</th>\n",
       "      <td>5</td>\n",
       "      <td>\"hotel stayed hotel monaco cruise, rooms generous decorated uniquely, hotel remodeled pacific be...</td>\n",
       "    </tr>\n",
       "    <tr>\n",
       "      <th>9</th>\n",
       "      <td>5</td>\n",
       "      <td>\"excellent stayed hotel monaco past w/e delight, reception staff friendly professional room smar...</td>\n",
       "    </tr>\n",
       "    <tr>\n",
       "      <th>10</th>\n",
       "      <td>2</td>\n",
       "      <td>\"poor value stayed monaco seattle july, nice hotel priced 100- 150 night not, hotel takes beatin...</td>\n",
       "    </tr>\n",
       "    <tr>\n",
       "      <th>11</th>\n",
       "      <td>4</td>\n",
       "      <td>\"nice value seattle stayed 4 nights late 2007. looked comparable hilton marriott westin area poi...</td>\n",
       "    </tr>\n",
       "    <tr>\n",
       "      <th>12</th>\n",
       "      <td>4</td>\n",
       "      <td>\"nice hotel good location hotel kimpton design whimsical vibe fun, staff young casual problem ho...</td>\n",
       "    </tr>\n",
       "    <tr>\n",
       "      <th>13</th>\n",
       "      <td>3</td>\n",
       "      <td>\"nice hotel not nice staff hotel lovely staff quite rude, bellhop desk clerk going way make thin...</td>\n",
       "    </tr>\n",
       "    <tr>\n",
       "      <th>14</th>\n",
       "      <td>4</td>\n",
       "      <td>\"great hotel night quick business trip, loved little touches like goldfish leopard print robe, c...</td>\n",
       "    </tr>\n",
       "    <tr>\n",
       "      <th>15</th>\n",
       "      <td>1</td>\n",
       "      <td>\"horrible customer service hotel stay february 3rd 4th 2007my friend picked hotel monaco appeali...</td>\n",
       "    </tr>\n",
       "    <tr>\n",
       "      <th>16</th>\n",
       "      <td>2</td>\n",
       "      <td>\"disappointed say anticipating stay hotel monaco based reviews seen tripadvisor, definitely disp...</td>\n",
       "    </tr>\n",
       "    <tr>\n",
       "      <th>17</th>\n",
       "      <td>5</td>\n",
       "      <td>\"fantastic stay monaco seattle hotel monaco holds high standards kimpton hotel line, having stay...</td>\n",
       "    </tr>\n",
       "    <tr>\n",
       "      <th>18</th>\n",
       "      <td>5</td>\n",
       "      <td>\"good choice hotel recommended sister, great location room nice, comfortable bed- quiet- staff h...</td>\n",
       "    </tr>\n",
       "    <tr>\n",
       "      <th>19</th>\n",
       "      <td>3</td>\n",
       "      <td>\"hmmmmm say really high hopes hotel monaco chose base girlfriend shopping trip seattle, stay say...</td>\n",
       "    </tr>\n",
       "    <tr>\n",
       "      <th>20</th>\n",
       "      <td>5</td>\n",
       "      <td>\"service service service spent week g-friend labor day bumbershoot, gray line airporter drops co...</td>\n",
       "    </tr>\n",
       "  </tbody>\n",
       "</table>\n",
       "</div>"
      ],
      "text/plain": [
       "   rating  \\\n",
       "0       4   \n",
       "1       2   \n",
       "2       3   \n",
       "3       5   \n",
       "4       5   \n",
       "5       5   \n",
       "6       5   \n",
       "7       4   \n",
       "8       5   \n",
       "9       5   \n",
       "10      2   \n",
       "11      4   \n",
       "12      4   \n",
       "13      3   \n",
       "14      4   \n",
       "15      1   \n",
       "16      2   \n",
       "17      5   \n",
       "18      5   \n",
       "19      3   \n",
       "20      5   \n",
       "\n",
       "                                                                                                 review  \n",
       "0   \"nice hotel expensive parking got good deal stay hotel anniversary, arrived late evening took ad...  \n",
       "1   \"ok nothing special charge diamond member hilton decided chain shot 20th anniversary seattle, st...  \n",
       "2   \"nice rooms not 4* experience hotel monaco seattle good hotel n't 4* level.positives large bathr...  \n",
       "3   \"unique, great stay, wonderful time hotel monaco, location excellent short stroll main downtown ...  \n",
       "4   \"great stay great stay, went seahawk game awesome, downfall view building did n't complain, room...  \n",
       "5   \"love monaco staff husband stayed hotel crazy weekend attending memorial service best friend hus...  \n",
       "6   \"cozy stay rainy city, husband spent 7 nights monaco early january 2008. business trip chance co...  \n",
       "7   \"excellent staff, housekeeping quality hotel chocked staff make feel home, experienced exception...  \n",
       "8   \"hotel stayed hotel monaco cruise, rooms generous decorated uniquely, hotel remodeled pacific be...  \n",
       "9   \"excellent stayed hotel monaco past w/e delight, reception staff friendly professional room smar...  \n",
       "10  \"poor value stayed monaco seattle july, nice hotel priced 100- 150 night not, hotel takes beatin...  \n",
       "11  \"nice value seattle stayed 4 nights late 2007. looked comparable hilton marriott westin area poi...  \n",
       "12  \"nice hotel good location hotel kimpton design whimsical vibe fun, staff young casual problem ho...  \n",
       "13  \"nice hotel not nice staff hotel lovely staff quite rude, bellhop desk clerk going way make thin...  \n",
       "14  \"great hotel night quick business trip, loved little touches like goldfish leopard print robe, c...  \n",
       "15  \"horrible customer service hotel stay february 3rd 4th 2007my friend picked hotel monaco appeali...  \n",
       "16  \"disappointed say anticipating stay hotel monaco based reviews seen tripadvisor, definitely disp...  \n",
       "17  \"fantastic stay monaco seattle hotel monaco holds high standards kimpton hotel line, having stay...  \n",
       "18  \"good choice hotel recommended sister, great location room nice, comfortable bed- quiet- staff h...  \n",
       "19  \"hmmmmm say really high hopes hotel monaco chose base girlfriend shopping trip seattle, stay say...  \n",
       "20  \"service service service spent week g-friend labor day bumbershoot, gray line airporter drops co...  "
      ]
     },
     "execution_count": 15,
     "metadata": {},
     "output_type": "execute_result"
    }
   ],
   "source": [
    "raw_rated_reviews.loc[0:20,:]"
   ]
  },
  {
   "cell_type": "code",
   "execution_count": 16,
   "id": "05404c9f",
   "metadata": {},
   "outputs": [
    {
     "name": "stdout",
     "output_type": "stream",
     "text": [
      "<class 'pandas.core.frame.DataFrame'>\n",
      "RangeIndex: 20491 entries, 0 to 20490\n",
      "Data columns (total 2 columns):\n",
      " #   Column  Non-Null Count  Dtype \n",
      "---  ------  --------------  ----- \n",
      " 0   rating  20491 non-null  object\n",
      " 1   review  20491 non-null  object\n",
      "dtypes: object(2)\n",
      "memory usage: 320.3+ KB\n"
     ]
    }
   ],
   "source": [
    "# Save the data into another dataframe\n",
    "processed_data = raw_rated_reviews\n",
    "processed_data.info()"
   ]
  },
  {
   "cell_type": "markdown",
   "id": "016a154d",
   "metadata": {},
   "source": [
    "## Drop ratings that have value 3 (i.e. drop neutral ratings)"
   ]
  },
  {
   "cell_type": "code",
   "execution_count": 17,
   "id": "a94b008d",
   "metadata": {},
   "outputs": [
    {
     "data": {
      "text/plain": [
       "2184"
      ]
     },
     "execution_count": 17,
     "metadata": {},
     "output_type": "execute_result"
    }
   ],
   "source": [
    "# Drop rows with ratings of 3 as they are neutral\n",
    "drop_condition = processed_data['rating'] == '3'\n",
    "# Verify length of reviews with rating of '3' to ensure it matches 2184 which was printed\n",
    "# earlier\n",
    "drop_condition.sum()"
   ]
  },
  {
   "cell_type": "code",
   "execution_count": 18,
   "id": "38f05fec",
   "metadata": {},
   "outputs": [
    {
     "data": {
      "text/plain": [
       "(18307, 2)"
      ]
     },
     "execution_count": 18,
     "metadata": {},
     "output_type": "execute_result"
    }
   ],
   "source": [
    "processed_data = processed_data[~drop_condition]\n",
    "processed_data.shape"
   ]
  },
  {
   "cell_type": "code",
   "execution_count": 19,
   "id": "8494757d",
   "metadata": {},
   "outputs": [
    {
     "data": {
      "text/plain": [
       "2184"
      ]
     },
     "execution_count": 19,
     "metadata": {},
     "output_type": "execute_result"
    }
   ],
   "source": [
    "# Confirm how many reviews are dropped with a rating of 3\n",
    "20491 - 18307"
   ]
  },
  {
   "cell_type": "code",
   "execution_count": 20,
   "id": "1b00d301",
   "metadata": {},
   "outputs": [
    {
     "data": {
      "text/html": [
       "<div>\n",
       "<style scoped>\n",
       "    .dataframe tbody tr th:only-of-type {\n",
       "        vertical-align: middle;\n",
       "    }\n",
       "\n",
       "    .dataframe tbody tr th {\n",
       "        vertical-align: top;\n",
       "    }\n",
       "\n",
       "    .dataframe thead th {\n",
       "        text-align: right;\n",
       "    }\n",
       "</style>\n",
       "<table border=\"1\" class=\"dataframe\">\n",
       "  <thead>\n",
       "    <tr style=\"text-align: right;\">\n",
       "      <th></th>\n",
       "      <th>rating</th>\n",
       "      <th>label</th>\n",
       "      <th>review</th>\n",
       "    </tr>\n",
       "  </thead>\n",
       "  <tbody>\n",
       "    <tr>\n",
       "      <th>0</th>\n",
       "      <td>4</td>\n",
       "      <td>0</td>\n",
       "      <td>\"nice hotel expensive parking got good deal stay hotel anniversary, arrived late evening took ad...</td>\n",
       "    </tr>\n",
       "    <tr>\n",
       "      <th>1</th>\n",
       "      <td>2</td>\n",
       "      <td>0</td>\n",
       "      <td>\"ok nothing special charge diamond member hilton decided chain shot 20th anniversary seattle, st...</td>\n",
       "    </tr>\n",
       "    <tr>\n",
       "      <th>3</th>\n",
       "      <td>5</td>\n",
       "      <td>0</td>\n",
       "      <td>\"unique, great stay, wonderful time hotel monaco, location excellent short stroll main downtown ...</td>\n",
       "    </tr>\n",
       "    <tr>\n",
       "      <th>4</th>\n",
       "      <td>5</td>\n",
       "      <td>0</td>\n",
       "      <td>\"great stay great stay, went seahawk game awesome, downfall view building did n't complain, room...</td>\n",
       "    </tr>\n",
       "    <tr>\n",
       "      <th>5</th>\n",
       "      <td>5</td>\n",
       "      <td>0</td>\n",
       "      <td>\"love monaco staff husband stayed hotel crazy weekend attending memorial service best friend hus...</td>\n",
       "    </tr>\n",
       "  </tbody>\n",
       "</table>\n",
       "</div>"
      ],
      "text/plain": [
       "  rating  label  \\\n",
       "0      4      0   \n",
       "1      2      0   \n",
       "3      5      0   \n",
       "4      5      0   \n",
       "5      5      0   \n",
       "\n",
       "                                                                                                review  \n",
       "0  \"nice hotel expensive parking got good deal stay hotel anniversary, arrived late evening took ad...  \n",
       "1  \"ok nothing special charge diamond member hilton decided chain shot 20th anniversary seattle, st...  \n",
       "3  \"unique, great stay, wonderful time hotel monaco, location excellent short stroll main downtown ...  \n",
       "4  \"great stay great stay, went seahawk game awesome, downfall view building did n't complain, room...  \n",
       "5  \"love monaco staff husband stayed hotel crazy weekend attending memorial service best friend hus...  "
      ]
     },
     "execution_count": 20,
     "metadata": {},
     "output_type": "execute_result"
    }
   ],
   "source": [
    "# Insert a 'label' column after 'rating' and set it to zero\n",
    "processed_data.insert(1, 'label', 0)\n",
    "processed_data.head()"
   ]
  },
  {
   "cell_type": "code",
   "execution_count": 48,
   "id": "59d59cdd",
   "metadata": {},
   "outputs": [
    {
     "data": {
      "text/html": [
       "<div>\n",
       "<style scoped>\n",
       "    .dataframe tbody tr th:only-of-type {\n",
       "        vertical-align: middle;\n",
       "    }\n",
       "\n",
       "    .dataframe tbody tr th {\n",
       "        vertical-align: top;\n",
       "    }\n",
       "\n",
       "    .dataframe thead th {\n",
       "        text-align: right;\n",
       "    }\n",
       "</style>\n",
       "<table border=\"1\" class=\"dataframe\">\n",
       "  <thead>\n",
       "    <tr style=\"text-align: right;\">\n",
       "      <th></th>\n",
       "      <th>rating</th>\n",
       "      <th>label</th>\n",
       "      <th>review</th>\n",
       "    </tr>\n",
       "  </thead>\n",
       "  <tbody>\n",
       "    <tr>\n",
       "      <th>0</th>\n",
       "      <td>4</td>\n",
       "      <td>0</td>\n",
       "      <td>\"nice hotel expensive parking got good deal stay hotel anniversary, arrived late evening took ad...</td>\n",
       "    </tr>\n",
       "    <tr>\n",
       "      <th>1</th>\n",
       "      <td>2</td>\n",
       "      <td>0</td>\n",
       "      <td>\"ok nothing special charge diamond member hilton decided chain shot 20th anniversary seattle, st...</td>\n",
       "    </tr>\n",
       "    <tr>\n",
       "      <th>3</th>\n",
       "      <td>5</td>\n",
       "      <td>0</td>\n",
       "      <td>\"unique, great stay, wonderful time hotel monaco, location excellent short stroll main downtown ...</td>\n",
       "    </tr>\n",
       "    <tr>\n",
       "      <th>4</th>\n",
       "      <td>5</td>\n",
       "      <td>0</td>\n",
       "      <td>\"great stay great stay, went seahawk game awesome, downfall view building did n't complain, room...</td>\n",
       "    </tr>\n",
       "    <tr>\n",
       "      <th>5</th>\n",
       "      <td>5</td>\n",
       "      <td>0</td>\n",
       "      <td>\"love monaco staff husband stayed hotel crazy weekend attending memorial service best friend hus...</td>\n",
       "    </tr>\n",
       "    <tr>\n",
       "      <th>6</th>\n",
       "      <td>5</td>\n",
       "      <td>0</td>\n",
       "      <td>\"cozy stay rainy city, husband spent 7 nights monaco early january 2008. business trip chance co...</td>\n",
       "    </tr>\n",
       "    <tr>\n",
       "      <th>7</th>\n",
       "      <td>4</td>\n",
       "      <td>0</td>\n",
       "      <td>\"excellent staff, housekeeping quality hotel chocked staff make feel home, experienced exception...</td>\n",
       "    </tr>\n",
       "    <tr>\n",
       "      <th>8</th>\n",
       "      <td>5</td>\n",
       "      <td>0</td>\n",
       "      <td>\"hotel stayed hotel monaco cruise, rooms generous decorated uniquely, hotel remodeled pacific be...</td>\n",
       "    </tr>\n",
       "    <tr>\n",
       "      <th>9</th>\n",
       "      <td>5</td>\n",
       "      <td>0</td>\n",
       "      <td>\"excellent stayed hotel monaco past w/e delight, reception staff friendly professional room smar...</td>\n",
       "    </tr>\n",
       "    <tr>\n",
       "      <th>10</th>\n",
       "      <td>2</td>\n",
       "      <td>0</td>\n",
       "      <td>\"poor value stayed monaco seattle july, nice hotel priced 100- 150 night not, hotel takes beatin...</td>\n",
       "    </tr>\n",
       "    <tr>\n",
       "      <th>11</th>\n",
       "      <td>4</td>\n",
       "      <td>0</td>\n",
       "      <td>\"nice value seattle stayed 4 nights late 2007. looked comparable hilton marriott westin area poi...</td>\n",
       "    </tr>\n",
       "    <tr>\n",
       "      <th>12</th>\n",
       "      <td>4</td>\n",
       "      <td>0</td>\n",
       "      <td>\"nice hotel good location hotel kimpton design whimsical vibe fun, staff young casual problem ho...</td>\n",
       "    </tr>\n",
       "    <tr>\n",
       "      <th>14</th>\n",
       "      <td>4</td>\n",
       "      <td>0</td>\n",
       "      <td>\"great hotel night quick business trip, loved little touches like goldfish leopard print robe, c...</td>\n",
       "    </tr>\n",
       "    <tr>\n",
       "      <th>15</th>\n",
       "      <td>1</td>\n",
       "      <td>0</td>\n",
       "      <td>\"horrible customer service hotel stay february 3rd 4th 2007my friend picked hotel monaco appeali...</td>\n",
       "    </tr>\n",
       "    <tr>\n",
       "      <th>16</th>\n",
       "      <td>2</td>\n",
       "      <td>0</td>\n",
       "      <td>\"disappointed say anticipating stay hotel monaco based reviews seen tripadvisor, definitely disp...</td>\n",
       "    </tr>\n",
       "    <tr>\n",
       "      <th>17</th>\n",
       "      <td>5</td>\n",
       "      <td>0</td>\n",
       "      <td>\"fantastic stay monaco seattle hotel monaco holds high standards kimpton hotel line, having stay...</td>\n",
       "    </tr>\n",
       "    <tr>\n",
       "      <th>18</th>\n",
       "      <td>5</td>\n",
       "      <td>0</td>\n",
       "      <td>\"good choice hotel recommended sister, great location room nice, comfortable bed- quiet- staff h...</td>\n",
       "    </tr>\n",
       "    <tr>\n",
       "      <th>20</th>\n",
       "      <td>5</td>\n",
       "      <td>0</td>\n",
       "      <td>\"service service service spent week g-friend labor day bumbershoot, gray line airporter drops co...</td>\n",
       "    </tr>\n",
       "  </tbody>\n",
       "</table>\n",
       "</div>"
      ],
      "text/plain": [
       "   rating  label  \\\n",
       "0       4      0   \n",
       "1       2      0   \n",
       "3       5      0   \n",
       "4       5      0   \n",
       "5       5      0   \n",
       "6       5      0   \n",
       "7       4      0   \n",
       "8       5      0   \n",
       "9       5      0   \n",
       "10      2      0   \n",
       "11      4      0   \n",
       "12      4      0   \n",
       "14      4      0   \n",
       "15      1      0   \n",
       "16      2      0   \n",
       "17      5      0   \n",
       "18      5      0   \n",
       "20      5      0   \n",
       "\n",
       "                                                                                                 review  \n",
       "0   \"nice hotel expensive parking got good deal stay hotel anniversary, arrived late evening took ad...  \n",
       "1   \"ok nothing special charge diamond member hilton decided chain shot 20th anniversary seattle, st...  \n",
       "3   \"unique, great stay, wonderful time hotel monaco, location excellent short stroll main downtown ...  \n",
       "4   \"great stay great stay, went seahawk game awesome, downfall view building did n't complain, room...  \n",
       "5   \"love monaco staff husband stayed hotel crazy weekend attending memorial service best friend hus...  \n",
       "6   \"cozy stay rainy city, husband spent 7 nights monaco early january 2008. business trip chance co...  \n",
       "7   \"excellent staff, housekeeping quality hotel chocked staff make feel home, experienced exception...  \n",
       "8   \"hotel stayed hotel monaco cruise, rooms generous decorated uniquely, hotel remodeled pacific be...  \n",
       "9   \"excellent stayed hotel monaco past w/e delight, reception staff friendly professional room smar...  \n",
       "10  \"poor value stayed monaco seattle july, nice hotel priced 100- 150 night not, hotel takes beatin...  \n",
       "11  \"nice value seattle stayed 4 nights late 2007. looked comparable hilton marriott westin area poi...  \n",
       "12  \"nice hotel good location hotel kimpton design whimsical vibe fun, staff young casual problem ho...  \n",
       "14  \"great hotel night quick business trip, loved little touches like goldfish leopard print robe, c...  \n",
       "15  \"horrible customer service hotel stay february 3rd 4th 2007my friend picked hotel monaco appeali...  \n",
       "16  \"disappointed say anticipating stay hotel monaco based reviews seen tripadvisor, definitely disp...  \n",
       "17  \"fantastic stay monaco seattle hotel monaco holds high standards kimpton hotel line, having stay...  \n",
       "18  \"good choice hotel recommended sister, great location room nice, comfortable bed- quiet- staff h...  \n",
       "20  \"service service service spent week g-friend labor day bumbershoot, gray line airporter drops co...  "
      ]
     },
     "execution_count": 48,
     "metadata": {},
     "output_type": "execute_result"
    }
   ],
   "source": [
    "processed_data.loc[0:20]"
   ]
  },
  {
   "cell_type": "code",
   "execution_count": 22,
   "id": "fa194832",
   "metadata": {},
   "outputs": [
    {
     "data": {
      "text/html": [
       "<div>\n",
       "<style scoped>\n",
       "    .dataframe tbody tr th:only-of-type {\n",
       "        vertical-align: middle;\n",
       "    }\n",
       "\n",
       "    .dataframe tbody tr th {\n",
       "        vertical-align: top;\n",
       "    }\n",
       "\n",
       "    .dataframe thead th {\n",
       "        text-align: right;\n",
       "    }\n",
       "</style>\n",
       "<table border=\"1\" class=\"dataframe\">\n",
       "  <thead>\n",
       "    <tr style=\"text-align: right;\">\n",
       "      <th></th>\n",
       "      <th>rating</th>\n",
       "      <th>label</th>\n",
       "      <th>review</th>\n",
       "    </tr>\n",
       "  </thead>\n",
       "  <tbody>\n",
       "    <tr>\n",
       "      <th>0</th>\n",
       "      <td>4</td>\n",
       "      <td>0</td>\n",
       "      <td>\"nice hotel expensive parking got good deal stay hotel anniversary, arrived late evening took ad...</td>\n",
       "    </tr>\n",
       "    <tr>\n",
       "      <th>1</th>\n",
       "      <td>2</td>\n",
       "      <td>0</td>\n",
       "      <td>\"ok nothing special charge diamond member hilton decided chain shot 20th anniversary seattle, st...</td>\n",
       "    </tr>\n",
       "    <tr>\n",
       "      <th>2</th>\n",
       "      <td>5</td>\n",
       "      <td>0</td>\n",
       "      <td>\"unique, great stay, wonderful time hotel monaco, location excellent short stroll main downtown ...</td>\n",
       "    </tr>\n",
       "    <tr>\n",
       "      <th>3</th>\n",
       "      <td>5</td>\n",
       "      <td>0</td>\n",
       "      <td>\"great stay great stay, went seahawk game awesome, downfall view building did n't complain, room...</td>\n",
       "    </tr>\n",
       "    <tr>\n",
       "      <th>4</th>\n",
       "      <td>5</td>\n",
       "      <td>0</td>\n",
       "      <td>\"love monaco staff husband stayed hotel crazy weekend attending memorial service best friend hus...</td>\n",
       "    </tr>\n",
       "    <tr>\n",
       "      <th>5</th>\n",
       "      <td>5</td>\n",
       "      <td>0</td>\n",
       "      <td>\"cozy stay rainy city, husband spent 7 nights monaco early january 2008. business trip chance co...</td>\n",
       "    </tr>\n",
       "    <tr>\n",
       "      <th>6</th>\n",
       "      <td>4</td>\n",
       "      <td>0</td>\n",
       "      <td>\"excellent staff, housekeeping quality hotel chocked staff make feel home, experienced exception...</td>\n",
       "    </tr>\n",
       "    <tr>\n",
       "      <th>7</th>\n",
       "      <td>5</td>\n",
       "      <td>0</td>\n",
       "      <td>\"hotel stayed hotel monaco cruise, rooms generous decorated uniquely, hotel remodeled pacific be...</td>\n",
       "    </tr>\n",
       "    <tr>\n",
       "      <th>8</th>\n",
       "      <td>5</td>\n",
       "      <td>0</td>\n",
       "      <td>\"excellent stayed hotel monaco past w/e delight, reception staff friendly professional room smar...</td>\n",
       "    </tr>\n",
       "    <tr>\n",
       "      <th>9</th>\n",
       "      <td>2</td>\n",
       "      <td>0</td>\n",
       "      <td>\"poor value stayed monaco seattle july, nice hotel priced 100- 150 night not, hotel takes beatin...</td>\n",
       "    </tr>\n",
       "    <tr>\n",
       "      <th>10</th>\n",
       "      <td>4</td>\n",
       "      <td>0</td>\n",
       "      <td>\"nice value seattle stayed 4 nights late 2007. looked comparable hilton marriott westin area poi...</td>\n",
       "    </tr>\n",
       "    <tr>\n",
       "      <th>11</th>\n",
       "      <td>4</td>\n",
       "      <td>0</td>\n",
       "      <td>\"nice hotel good location hotel kimpton design whimsical vibe fun, staff young casual problem ho...</td>\n",
       "    </tr>\n",
       "    <tr>\n",
       "      <th>12</th>\n",
       "      <td>4</td>\n",
       "      <td>0</td>\n",
       "      <td>\"great hotel night quick business trip, loved little touches like goldfish leopard print robe, c...</td>\n",
       "    </tr>\n",
       "    <tr>\n",
       "      <th>13</th>\n",
       "      <td>1</td>\n",
       "      <td>0</td>\n",
       "      <td>\"horrible customer service hotel stay february 3rd 4th 2007my friend picked hotel monaco appeali...</td>\n",
       "    </tr>\n",
       "    <tr>\n",
       "      <th>14</th>\n",
       "      <td>2</td>\n",
       "      <td>0</td>\n",
       "      <td>\"disappointed say anticipating stay hotel monaco based reviews seen tripadvisor, definitely disp...</td>\n",
       "    </tr>\n",
       "    <tr>\n",
       "      <th>15</th>\n",
       "      <td>5</td>\n",
       "      <td>0</td>\n",
       "      <td>\"fantastic stay monaco seattle hotel monaco holds high standards kimpton hotel line, having stay...</td>\n",
       "    </tr>\n",
       "    <tr>\n",
       "      <th>16</th>\n",
       "      <td>5</td>\n",
       "      <td>0</td>\n",
       "      <td>\"good choice hotel recommended sister, great location room nice, comfortable bed- quiet- staff h...</td>\n",
       "    </tr>\n",
       "    <tr>\n",
       "      <th>17</th>\n",
       "      <td>5</td>\n",
       "      <td>0</td>\n",
       "      <td>\"service service service spent week g-friend labor day bumbershoot, gray line airporter drops co...</td>\n",
       "    </tr>\n",
       "    <tr>\n",
       "      <th>18</th>\n",
       "      <td>5</td>\n",
       "      <td>0</td>\n",
       "      <td>\"excellent stay, delightful surprise stay monaco, thoroughly enjoyed stay, room comfortable love...</td>\n",
       "    </tr>\n",
       "    <tr>\n",
       "      <th>19</th>\n",
       "      <td>4</td>\n",
       "      <td>0</td>\n",
       "      <td>\"good value downtown hotel monaco seattle great option pricey area town, rooms w street going cl...</td>\n",
       "    </tr>\n",
       "    <tr>\n",
       "      <th>20</th>\n",
       "      <td>5</td>\n",
       "      <td>0</td>\n",
       "      <td>\"hotel monaco great location service hotel monaco centrally located provides excellent service, ...</td>\n",
       "    </tr>\n",
       "  </tbody>\n",
       "</table>\n",
       "</div>"
      ],
      "text/plain": [
       "   rating  label  \\\n",
       "0       4      0   \n",
       "1       2      0   \n",
       "2       5      0   \n",
       "3       5      0   \n",
       "4       5      0   \n",
       "5       5      0   \n",
       "6       4      0   \n",
       "7       5      0   \n",
       "8       5      0   \n",
       "9       2      0   \n",
       "10      4      0   \n",
       "11      4      0   \n",
       "12      4      0   \n",
       "13      1      0   \n",
       "14      2      0   \n",
       "15      5      0   \n",
       "16      5      0   \n",
       "17      5      0   \n",
       "18      5      0   \n",
       "19      4      0   \n",
       "20      5      0   \n",
       "\n",
       "                                                                                                 review  \n",
       "0   \"nice hotel expensive parking got good deal stay hotel anniversary, arrived late evening took ad...  \n",
       "1   \"ok nothing special charge diamond member hilton decided chain shot 20th anniversary seattle, st...  \n",
       "2   \"unique, great stay, wonderful time hotel monaco, location excellent short stroll main downtown ...  \n",
       "3   \"great stay great stay, went seahawk game awesome, downfall view building did n't complain, room...  \n",
       "4   \"love monaco staff husband stayed hotel crazy weekend attending memorial service best friend hus...  \n",
       "5   \"cozy stay rainy city, husband spent 7 nights monaco early january 2008. business trip chance co...  \n",
       "6   \"excellent staff, housekeeping quality hotel chocked staff make feel home, experienced exception...  \n",
       "7   \"hotel stayed hotel monaco cruise, rooms generous decorated uniquely, hotel remodeled pacific be...  \n",
       "8   \"excellent stayed hotel monaco past w/e delight, reception staff friendly professional room smar...  \n",
       "9   \"poor value stayed monaco seattle july, nice hotel priced 100- 150 night not, hotel takes beatin...  \n",
       "10  \"nice value seattle stayed 4 nights late 2007. looked comparable hilton marriott westin area poi...  \n",
       "11  \"nice hotel good location hotel kimpton design whimsical vibe fun, staff young casual problem ho...  \n",
       "12  \"great hotel night quick business trip, loved little touches like goldfish leopard print robe, c...  \n",
       "13  \"horrible customer service hotel stay february 3rd 4th 2007my friend picked hotel monaco appeali...  \n",
       "14  \"disappointed say anticipating stay hotel monaco based reviews seen tripadvisor, definitely disp...  \n",
       "15  \"fantastic stay monaco seattle hotel monaco holds high standards kimpton hotel line, having stay...  \n",
       "16  \"good choice hotel recommended sister, great location room nice, comfortable bed- quiet- staff h...  \n",
       "17  \"service service service spent week g-friend labor day bumbershoot, gray line airporter drops co...  \n",
       "18  \"excellent stay, delightful surprise stay monaco, thoroughly enjoyed stay, room comfortable love...  \n",
       "19  \"good value downtown hotel monaco seattle great option pricey area town, rooms w street going cl...  \n",
       "20  \"hotel monaco great location service hotel monaco centrally located provides excellent service, ...  "
      ]
     },
     "execution_count": 22,
     "metadata": {},
     "output_type": "execute_result"
    }
   ],
   "source": [
    "# reset index of dataframe\n",
    "processed_data = processed_data.reset_index(drop=True)\n",
    "processed_data.loc[0:20]"
   ]
  },
  {
   "cell_type": "code",
   "execution_count": 23,
   "id": "c9fcfecb",
   "metadata": {},
   "outputs": [
    {
     "name": "stdout",
     "output_type": "stream",
     "text": [
      "15093\n",
      "3214\n"
     ]
    }
   ],
   "source": [
    "# Convert the 'rating' column to integer\n",
    "processed_data['rating'] = processed_data['rating'].astype(int)\n",
    "# Find indices of rating > 3 and rating < 3\n",
    "pos_label_indices = processed_data[processed_data['rating'] > 3].index\n",
    "neg_label_indices = processed_data[processed_data['rating'] < 3].index\n",
    "print(len(pos_label_indices))\n",
    "print(len(neg_label_indices))"
   ]
  },
  {
   "cell_type": "code",
   "execution_count": 24,
   "id": "70159e73",
   "metadata": {},
   "outputs": [
    {
     "data": {
      "text/html": [
       "<div>\n",
       "<style scoped>\n",
       "    .dataframe tbody tr th:only-of-type {\n",
       "        vertical-align: middle;\n",
       "    }\n",
       "\n",
       "    .dataframe tbody tr th {\n",
       "        vertical-align: top;\n",
       "    }\n",
       "\n",
       "    .dataframe thead th {\n",
       "        text-align: right;\n",
       "    }\n",
       "</style>\n",
       "<table border=\"1\" class=\"dataframe\">\n",
       "  <thead>\n",
       "    <tr style=\"text-align: right;\">\n",
       "      <th></th>\n",
       "      <th>rating</th>\n",
       "      <th>label</th>\n",
       "      <th>review</th>\n",
       "    </tr>\n",
       "  </thead>\n",
       "  <tbody>\n",
       "    <tr>\n",
       "      <th>0</th>\n",
       "      <td>4</td>\n",
       "      <td>0</td>\n",
       "      <td>\"nice hotel expensive parking got good deal stay hotel anniversary, arrived late evening took ad...</td>\n",
       "    </tr>\n",
       "    <tr>\n",
       "      <th>1</th>\n",
       "      <td>2</td>\n",
       "      <td>0</td>\n",
       "      <td>\"ok nothing special charge diamond member hilton decided chain shot 20th anniversary seattle, st...</td>\n",
       "    </tr>\n",
       "    <tr>\n",
       "      <th>2</th>\n",
       "      <td>5</td>\n",
       "      <td>0</td>\n",
       "      <td>\"unique, great stay, wonderful time hotel monaco, location excellent short stroll main downtown ...</td>\n",
       "    </tr>\n",
       "    <tr>\n",
       "      <th>3</th>\n",
       "      <td>5</td>\n",
       "      <td>0</td>\n",
       "      <td>\"great stay great stay, went seahawk game awesome, downfall view building did n't complain, room...</td>\n",
       "    </tr>\n",
       "    <tr>\n",
       "      <th>4</th>\n",
       "      <td>5</td>\n",
       "      <td>0</td>\n",
       "      <td>\"love monaco staff husband stayed hotel crazy weekend attending memorial service best friend hus...</td>\n",
       "    </tr>\n",
       "  </tbody>\n",
       "</table>\n",
       "</div>"
      ],
      "text/plain": [
       "   rating  label  \\\n",
       "0       4      0   \n",
       "1       2      0   \n",
       "2       5      0   \n",
       "3       5      0   \n",
       "4       5      0   \n",
       "\n",
       "                                                                                                review  \n",
       "0  \"nice hotel expensive parking got good deal stay hotel anniversary, arrived late evening took ad...  \n",
       "1  \"ok nothing special charge diamond member hilton decided chain shot 20th anniversary seattle, st...  \n",
       "2  \"unique, great stay, wonderful time hotel monaco, location excellent short stroll main downtown ...  \n",
       "3  \"great stay great stay, went seahawk game awesome, downfall view building did n't complain, room...  \n",
       "4  \"love monaco staff husband stayed hotel crazy weekend attending memorial service best friend hus...  "
      ]
     },
     "execution_count": 24,
     "metadata": {},
     "output_type": "execute_result"
    }
   ],
   "source": [
    "processed_data.head()"
   ]
  },
  {
   "cell_type": "markdown",
   "id": "e09c99d0",
   "metadata": {},
   "source": [
    "## Add new 'label' column of +1 (rating > 3) or -1 (rating < 3)"
   ]
  },
  {
   "cell_type": "code",
   "execution_count": 25,
   "id": "751b3261",
   "metadata": {},
   "outputs": [
    {
     "data": {
      "text/html": [
       "<div>\n",
       "<style scoped>\n",
       "    .dataframe tbody tr th:only-of-type {\n",
       "        vertical-align: middle;\n",
       "    }\n",
       "\n",
       "    .dataframe tbody tr th {\n",
       "        vertical-align: top;\n",
       "    }\n",
       "\n",
       "    .dataframe thead th {\n",
       "        text-align: right;\n",
       "    }\n",
       "</style>\n",
       "<table border=\"1\" class=\"dataframe\">\n",
       "  <thead>\n",
       "    <tr style=\"text-align: right;\">\n",
       "      <th></th>\n",
       "      <th>rating</th>\n",
       "      <th>label</th>\n",
       "      <th>review</th>\n",
       "    </tr>\n",
       "  </thead>\n",
       "  <tbody>\n",
       "    <tr>\n",
       "      <th>0</th>\n",
       "      <td>4</td>\n",
       "      <td>1</td>\n",
       "      <td>\"nice hotel expensive parking got good deal stay hotel anniversary, arrived late evening took ad...</td>\n",
       "    </tr>\n",
       "    <tr>\n",
       "      <th>1</th>\n",
       "      <td>2</td>\n",
       "      <td>-1</td>\n",
       "      <td>\"ok nothing special charge diamond member hilton decided chain shot 20th anniversary seattle, st...</td>\n",
       "    </tr>\n",
       "    <tr>\n",
       "      <th>2</th>\n",
       "      <td>5</td>\n",
       "      <td>1</td>\n",
       "      <td>\"unique, great stay, wonderful time hotel monaco, location excellent short stroll main downtown ...</td>\n",
       "    </tr>\n",
       "    <tr>\n",
       "      <th>3</th>\n",
       "      <td>5</td>\n",
       "      <td>1</td>\n",
       "      <td>\"great stay great stay, went seahawk game awesome, downfall view building did n't complain, room...</td>\n",
       "    </tr>\n",
       "    <tr>\n",
       "      <th>4</th>\n",
       "      <td>5</td>\n",
       "      <td>1</td>\n",
       "      <td>\"love monaco staff husband stayed hotel crazy weekend attending memorial service best friend hus...</td>\n",
       "    </tr>\n",
       "  </tbody>\n",
       "</table>\n",
       "</div>"
      ],
      "text/plain": [
       "   rating  label  \\\n",
       "0       4      1   \n",
       "1       2     -1   \n",
       "2       5      1   \n",
       "3       5      1   \n",
       "4       5      1   \n",
       "\n",
       "                                                                                                review  \n",
       "0  \"nice hotel expensive parking got good deal stay hotel anniversary, arrived late evening took ad...  \n",
       "1  \"ok nothing special charge diamond member hilton decided chain shot 20th anniversary seattle, st...  \n",
       "2  \"unique, great stay, wonderful time hotel monaco, location excellent short stroll main downtown ...  \n",
       "3  \"great stay great stay, went seahawk game awesome, downfall view building did n't complain, room...  \n",
       "4  \"love monaco staff husband stayed hotel crazy weekend attending memorial service best friend hus...  "
      ]
     },
     "execution_count": 25,
     "metadata": {},
     "output_type": "execute_result"
    }
   ],
   "source": [
    "# Set the labels accordingly in the 'label' column\n",
    "# Rating value > 3 will be labelled as +1, otherwise < 3 is -1\n",
    "processed_data.loc[pos_label_indices, 'label'] = 1\n",
    "processed_data.loc[neg_label_indices, 'label'] = -1\n",
    "processed_data.head()"
   ]
  },
  {
   "cell_type": "code",
   "execution_count": 26,
   "id": "4a5aff56",
   "metadata": {},
   "outputs": [
    {
     "data": {
      "text/plain": [
       "pandas.core.series.Series"
      ]
     },
     "execution_count": 26,
     "metadata": {},
     "output_type": "execute_result"
    }
   ],
   "source": [
    "type(processed_data['label'])"
   ]
  },
  {
   "cell_type": "code",
   "execution_count": 27,
   "id": "45cd4d18",
   "metadata": {},
   "outputs": [
    {
     "data": {
      "text/plain": [
       "15093"
      ]
     },
     "execution_count": 27,
     "metadata": {},
     "output_type": "execute_result"
    }
   ],
   "source": [
    "len(processed_data[processed_data['label'] == 1].index)\n",
    "#len(processed_data[processed_data['label'] == -1].index)"
   ]
  },
  {
   "cell_type": "code",
   "execution_count": 1,
   "id": "537b970a",
   "metadata": {},
   "outputs": [
    {
     "data": {
      "image/png": "[encoded data removed]",
      "text/plain": [
       "<Figure size 640x480 with 1 Axes>"
      ]
     },
     "metadata": {},
     "output_type": "display_data"
    }
   ],
   "source": [
    "# Bar chart of counts per labels\n",
    "import matplotlib.pyplot as plt\n",
    "\n",
    "\n",
    "class_labels = ['Class -1', 'Class +1']\n",
    "counts = [3214, 15093]\n",
    "\n",
    "\n",
    "plt.bar(class_labels, counts)\n",
    "\n",
    "\n",
    "plt.xlabel('Class Labels')\n",
    "plt.ylabel('Counts per Class Label')\n",
    "plt.title('Number of Data per Class Label')\n",
    "\n",
    "\n",
    "plt.show()"
   ]
  },
  {
   "cell_type": "markdown",
   "id": "732cb2b7",
   "metadata": {},
   "source": [
    "# Start pre-processing phase"
   ]
  },
  {
   "cell_type": "markdown",
   "id": "953c2522",
   "metadata": {},
   "source": [
    "## Define more stop words (i.e. in addition to those in nltk)"
   ]
  },
  {
   "cell_type": "code",
   "execution_count": 31,
   "id": "88a50c49",
   "metadata": {},
   "outputs": [
    {
     "name": "stdout",
     "output_type": "stream",
     "text": [
      "['i', 'me', 'my', 'myself', 'we', 'our', 'ours', 'ourselves', 'you', \"you're\", \"you've\", \"you'll\", \"you'd\", 'your', 'yours', 'yourself', 'yourselves', 'he', 'him', 'his', 'himself', 'she', \"she's\", 'her', 'hers', 'herself', 'it', \"it's\", 'its', 'itself', 'they', 'them', 'their', 'theirs', 'themselves', 'what', 'which', 'who', 'whom', 'this', 'that', \"that'll\", 'these', 'those', 'am', 'is', 'are', 'was', 'were', 'be', 'been', 'being', 'have', 'has', 'had', 'having', 'do', 'does', 'did', 'doing', 'a', 'an', 'the', 'and', 'but', 'if', 'or', 'because', 'as', 'until', 'while', 'of', 'at', 'by', 'for', 'with', 'about', 'against', 'between', 'into', 'through', 'during', 'before', 'after', 'above', 'below', 'to', 'from', 'up', 'down', 'in', 'out', 'on', 'off', 'over', 'under', 'again', 'further', 'then', 'once', 'here', 'there', 'when', 'where', 'why', 'how', 'all', 'any', 'both', 'each', 'few', 'more', 'most', 'other', 'some', 'such', 'no', 'nor', 'not', 'only', 'own', 'same', 'so', 'than', 'too', 'very', 's', 't', 'can', 'will', 'just', 'don', \"don't\", 'should', \"should've\", 'now', 'd', 'll', 'm', 'o', 're', 've', 'y', 'ain', 'aren', \"aren't\", 'couldn', \"couldn't\", 'didn', \"didn't\", 'doesn', \"doesn't\", 'hadn', \"hadn't\", 'hasn', \"hasn't\", 'haven', \"haven't\", 'isn', \"isn't\", 'ma', 'mightn', \"mightn't\", 'mustn', \"mustn't\", 'needn', \"needn't\", 'shan', \"shan't\", 'shouldn', \"shouldn't\", 'wasn', \"wasn't\", 'weren', \"weren't\", 'won', \"won't\", 'wouldn', \"wouldn't\", \"n't\", 'st', 'nd', 'rd', 'nt', 'youre', 'werent', 'theyre', 'wont', 'youve', 'youll', 'youd', 'thatll', 'hasnt', 'havent', 'wasnt', 'were', \"we'll\", 'th', 'a', 'b', 'c', 'd', 'e', 'f', 'g', 'h', 'i', 'j', 'k', 'l', 'm', 'n', 'o', 'p', 'q', 'r', 's', 't', 'u', 'v', 'w', 'x', 'y', 'z', 'wo', 'hm', 'hmm', 'hmmmm', 'hmmmmm', 'hmmmmmm', 'hmmmmmmm']\n"
     ]
    }
   ],
   "source": [
    "# Add some more stop words as these are not part of the ntltk stopwords and they can\n",
    "# actually appear in reviews. This is to take an extra measure for stopword removal.\n",
    "from nltk.corpus import stopwords\n",
    "stop_words = stopwords.words('english')\n",
    "my_stop_words = stop_words\n",
    "more_stop_words = [\"n't\", \"st\", \"nd\", \"rd\", \"nt\", \"youre\", \"werent\", \"theyre\", \"wont\", \"youve\",\n",
    "                  \"youll\", \"youd\", \"thatll\", \"hasnt\", \"havent\", \"wasnt\", \"were\", \"we'll\", \"th\", \n",
    "                  \"a\", \"b\", \"c\", \"d\", \"e\", \"f\", \"g\", \"h\", \"i\", \"j\", \"k\", \"l\", \"m\", \"n\",\n",
    "                  \"o\", \"p\", \"q\", \"r\", \"s\", \"t\", \"u\", \"v\", \"w\", \"x\", \"y\", \"z\", \"wo\", \"hm\",\n",
    "                  \"hmm\", \"hmmmm\", \"hmmmmm\", \"hmmmmmm\", \"hmmmmmmm\"]\n",
    "\n",
    "# Create stop words to be nltk stopwords plus the stopwords above\n",
    "my_stop_words = my_stop_words + more_stop_words\n",
    "print(my_stop_words)"
   ]
  },
  {
   "cell_type": "code",
   "execution_count": 30,
   "id": "b33e9ea2",
   "metadata": {},
   "outputs": [
    {
     "data": {
      "text/html": [
       "<div>\n",
       "<style scoped>\n",
       "    .dataframe tbody tr th:only-of-type {\n",
       "        vertical-align: middle;\n",
       "    }\n",
       "\n",
       "    .dataframe tbody tr th {\n",
       "        vertical-align: top;\n",
       "    }\n",
       "\n",
       "    .dataframe thead th {\n",
       "        text-align: right;\n",
       "    }\n",
       "</style>\n",
       "<table border=\"1\" class=\"dataframe\">\n",
       "  <thead>\n",
       "    <tr style=\"text-align: right;\">\n",
       "      <th></th>\n",
       "      <th>rating</th>\n",
       "      <th>label</th>\n",
       "      <th>review</th>\n",
       "    </tr>\n",
       "  </thead>\n",
       "  <tbody>\n",
       "    <tr>\n",
       "      <th>0</th>\n",
       "      <td>4</td>\n",
       "      <td>1</td>\n",
       "      <td>\"nice hotel expensive parking got good deal stay hotel anniversary, arrived late evening took advice previous reviews did valet parking, check quick easy, little disappointed non-existent view room room clean nice size, bed comfortable woke stiff neck high pillows, not soundproof like heard music room night morning loud bangs doors opening closing hear people talking hallway, maybe just noisy neighbors, aveda bath products nice, did not goldfish stay nice touch taken advantage staying longer, location great walking distance shopping, overall nice experience having pay 40 parking night</td>\n",
       "    </tr>\n",
       "    <tr>\n",
       "      <th>1</th>\n",
       "      <td>2</td>\n",
       "      <td>-1</td>\n",
       "      <td>\"ok nothing special charge diamond member hilton decided chain shot 20th anniversary seattle, start booked suite paid extra website description not, suite bedroom bathroom standard hotel room, took printed reservation desk showed said things like tv couch ect desk clerk told oh mixed suites description kimpton website sorry free breakfast, got kidding, embassy suits sitting room bathroom bedroom unlike kimpton calls suite, 5 day stay offer correct false advertising, send kimpton preferred guest website email asking failure provide suite advertised website reservation description furnished hard copy reservation printout website desk manager duty did not reply solution, send email trip guest survey did not follow email mail, guess tell concerned guest.the staff ranged indifferent not helpful, asked desk good breakfast spots neighborhood hood told no hotels, gee best breakfast spots seattle 1/2 block away convenient hotel does not know exist, arrived late night 11 pm inside run bellman busy chating cell phone help bags.prior arrival emailed hotel inform 20th anniversary half really picky wanted make sure good, got nice email saying like deliver bottle champagne chocolate covered strawberries room arrival celebrate, told needed foam pillows, arrival no champagne strawberries no foam pillows great room view alley high rise building good not better housekeeping staff cleaner room property, impressed left morning shopping room got short trips 2 hours, beds comfortable.not good ac-heat control 4 x 4 inch screen bring green shine directly eyes night, light sensitive tape controls.this not 4 start hotel clean business hotel super high rates, better chain hotels seattle</td>\n",
       "    </tr>\n",
       "    <tr>\n",
       "      <th>2</th>\n",
       "      <td>5</td>\n",
       "      <td>1</td>\n",
       "      <td>\"unique, great stay, wonderful time hotel monaco, location excellent short stroll main downtown shopping area, pet friendly room showed no signs animal hair smells, monaco suite sleeping area big striped curtains pulled closed nice touch felt cosy, goldfish named brandi enjoyed, did n't partake free wine coffee/tea service lobby thought great feature, great staff friendly, free wireless internet hotel worked suite 2 laptops, decor lovely eclectic mix pattens color palatte, animal print bathrobes feel like rock stars, nice did n't look like sterile chain hotel hotel personality excellent stay</td>\n",
       "    </tr>\n",
       "    <tr>\n",
       "      <th>3</th>\n",
       "      <td>5</td>\n",
       "      <td>1</td>\n",
       "      <td>\"great stay great stay, went seahawk game awesome, downfall view building did n't complain, room huge staff helpful, booked hotels website seahawk package, no charge parking got voucher taxi, problem taxi driver did n't want accept voucher barely spoke english, funny thing speak arabic called started making comments girlfriend cell phone buddy, took second realize just said fact speak language face priceless, ass told, said large city, told head doorman issue called cab company promply answer did n't, apologized offered pay taxi, bucks 2 miles stadium, game plan taxi return going humpin, great walk did n't mind, right christmas wonderful lights, homeless stowed away building entrances leave, police presence not greatest area stadium, activities 7 blocks pike street waterfront great coffee shops way, hotel mantained foyer awesome, wine tasting available evening, best dog, taking st. bernard time family, safes hotel located service desk room, bathroom huge jetted tub huge, funny house keeping walked girlfriend getting dressed, did n't hear knock doing turn service, screamed girlfriend screams hit floor laughing, started talking spanish worked, place recommend price, check online deals just good not better, besite contains deals vouchers travel websites n't tell</td>\n",
       "    </tr>\n",
       "    <tr>\n",
       "      <th>4</th>\n",
       "      <td>5</td>\n",
       "      <td>1</td>\n",
       "      <td>\"love monaco staff husband stayed hotel crazy weekend attending memorial service best friend husband celebrating 12th wedding anniversary, talk mixed emotions, booked suite hotel monte carlos, loaned beautiful fan-tanned goldfish named joliet weekend visited dogs worked desk human companions, room decorated nicely couch used pillows, l'occitane bath amenities welcome sight, room quiet peaceful, wireless internet access wonderful server went morning leaving problems printing boarding passes, afternoon reception serves oenophile-satisfying wine australia scrumptious cookies, restaurant closed renovation stay finally ate food good drinks better, word caution restaurant larger person not sit booths wo n't fit, 5'6 125 lbs husband 5'9 175. table smack-against stomach couple inches space mighty uncomfortable patron larger pregnant, bad design opinion place decorated funky welcoming way metal wood handblown glass light fixtures expect seattle capital glass art industry, definitely stay reason</td>\n",
       "    </tr>\n",
       "  </tbody>\n",
       "</table>\n",
       "</div>"
      ],
      "text/plain": [
       "   rating  label  \\\n",
       "0       4      1   \n",
       "1       2     -1   \n",
       "2       5      1   \n",
       "3       5      1   \n",
       "4       5      1   \n",
       "\n",
       "                                                                                                                                                                                                                                                                                                                                                                                                                                                                                                                                                                                                                                                                                                                                                                                                                                                                                                                                                                                                                                                                                                                                                                                                                                                                                                                                                                                                                                                                                                                                                                                                                                                                                                                                                    review  \n",
       "0                                                                                                                                                                                                                                                                                                                                                                                                                                                                                                                                                                                                                                                                                                                                                                                                                                                                                                                                                                                                                                                                                                                                          \"nice hotel expensive parking got good deal stay hotel anniversary, arrived late evening took advice previous reviews did valet parking, check quick easy, little disappointed non-existent view room room clean nice size, bed comfortable woke stiff neck high pillows, not soundproof like heard music room night morning loud bangs doors opening closing hear people talking hallway, maybe just noisy neighbors, aveda bath products nice, did not goldfish stay nice touch taken advantage staying longer, location great walking distance shopping, overall nice experience having pay 40 parking night  \n",
       "1  \"ok nothing special charge diamond member hilton decided chain shot 20th anniversary seattle, start booked suite paid extra website description not, suite bedroom bathroom standard hotel room, took printed reservation desk showed said things like tv couch ect desk clerk told oh mixed suites description kimpton website sorry free breakfast, got kidding, embassy suits sitting room bathroom bedroom unlike kimpton calls suite, 5 day stay offer correct false advertising, send kimpton preferred guest website email asking failure provide suite advertised website reservation description furnished hard copy reservation printout website desk manager duty did not reply solution, send email trip guest survey did not follow email mail, guess tell concerned guest.the staff ranged indifferent not helpful, asked desk good breakfast spots neighborhood hood told no hotels, gee best breakfast spots seattle 1/2 block away convenient hotel does not know exist, arrived late night 11 pm inside run bellman busy chating cell phone help bags.prior arrival emailed hotel inform 20th anniversary half really picky wanted make sure good, got nice email saying like deliver bottle champagne chocolate covered strawberries room arrival celebrate, told needed foam pillows, arrival no champagne strawberries no foam pillows great room view alley high rise building good not better housekeeping staff cleaner room property, impressed left morning shopping room got short trips 2 hours, beds comfortable.not good ac-heat control 4 x 4 inch screen bring green shine directly eyes night, light sensitive tape controls.this not 4 start hotel clean business hotel super high rates, better chain hotels seattle  \n",
       "2                                                                                                                                                                                                                                                                                                                                                                                                                                                                                                                                                                                                                                                                                                                                                                                                                                                                                                                                                                                                                                                                                                                                   \"unique, great stay, wonderful time hotel monaco, location excellent short stroll main downtown shopping area, pet friendly room showed no signs animal hair smells, monaco suite sleeping area big striped curtains pulled closed nice touch felt cosy, goldfish named brandi enjoyed, did n't partake free wine coffee/tea service lobby thought great feature, great staff friendly, free wireless internet hotel worked suite 2 laptops, decor lovely eclectic mix pattens color palatte, animal print bathrobes feel like rock stars, nice did n't look like sterile chain hotel hotel personality excellent stay  \n",
       "3                                                                                                                                                                                                                                                                                                                                                                                                                          \"great stay great stay, went seahawk game awesome, downfall view building did n't complain, room huge staff helpful, booked hotels website seahawk package, no charge parking got voucher taxi, problem taxi driver did n't want accept voucher barely spoke english, funny thing speak arabic called started making comments girlfriend cell phone buddy, took second realize just said fact speak language face priceless, ass told, said large city, told head doorman issue called cab company promply answer did n't, apologized offered pay taxi, bucks 2 miles stadium, game plan taxi return going humpin, great walk did n't mind, right christmas wonderful lights, homeless stowed away building entrances leave, police presence not greatest area stadium, activities 7 blocks pike street waterfront great coffee shops way, hotel mantained foyer awesome, wine tasting available evening, best dog, taking st. bernard time family, safes hotel located service desk room, bathroom huge jetted tub huge, funny house keeping walked girlfriend getting dressed, did n't hear knock doing turn service, screamed girlfriend screams hit floor laughing, started talking spanish worked, place recommend price, check online deals just good not better, besite contains deals vouchers travel websites n't tell  \n",
       "4                                                                                                                                                                                                                                                                                                                                                                                                                                                                                                                                                                                                                                                                                                                 \"love monaco staff husband stayed hotel crazy weekend attending memorial service best friend husband celebrating 12th wedding anniversary, talk mixed emotions, booked suite hotel monte carlos, loaned beautiful fan-tanned goldfish named joliet weekend visited dogs worked desk human companions, room decorated nicely couch used pillows, l'occitane bath amenities welcome sight, room quiet peaceful, wireless internet access wonderful server went morning leaving problems printing boarding passes, afternoon reception serves oenophile-satisfying wine australia scrumptious cookies, restaurant closed renovation stay finally ate food good drinks better, word caution restaurant larger person not sit booths wo n't fit, 5'6 125 lbs husband 5'9 175. table smack-against stomach couple inches space mighty uncomfortable patron larger pregnant, bad design opinion place decorated funky welcoming way metal wood handblown glass light fixtures expect seattle capital glass art industry, definitely stay reason  "
      ]
     },
     "execution_count": 30,
     "metadata": {},
     "output_type": "execute_result"
    }
   ],
   "source": [
    "pd.set_option('display.max_colwidth', 2000)\n",
    "processed_data.head(5)"
   ]
  },
  {
   "cell_type": "markdown",
   "id": "1d9ddbcb",
   "metadata": {},
   "source": [
    "## Pre-processing: remove punctuation, digits, stop-words\n",
    "## Convert to lower case"
   ]
  },
  {
   "cell_type": "code",
   "execution_count": 32,
   "id": "3119d763",
   "metadata": {},
   "outputs": [],
   "source": [
    "# Data cleaning\n",
    "# Aim: remove punctuation, remove digits, remove extra white spaces\n",
    "# Output: new 'clean_data' column\n",
    "\n",
    "import string\n",
    "import re\n",
    "from nltk.tokenize import word_tokenize\n",
    "\n",
    "def clean_text(text):\n",
    "    \n",
    "    \n",
    "    # Remove punctuation using split. This gives a list of words\n",
    "    text_no_punct = re.split(r'\\W+', text)\n",
    "    # Join each element of the list to get the sentence again\n",
    "    text_no_punct = ' '.join(text_no_punct)\n",
    "    \n",
    "    \n",
    "    # remove punctuation and convert to lower case\n",
    "    #text_no_punct = \"\".join([this_char.lower() for this_char in text if this_char not in string.punctuation])\n",
    "    \n",
    "    #print('After punctuation removal:', text_no_punct)\n",
    "\n",
    "    #remove digits\n",
    "    text_no_digits = re.split(r'\\d+', text_no_punct)\n",
    "    text_no_digits = ''.join(text_no_digits)\n",
    "    \n",
    "    #remove stopwords\n",
    "    words = text_no_digits.split()\n",
    "    no_stop_words = ' '.join([word.lower() for word in words if word.lower() not in my_stop_words])\n",
    "\n",
    "    #print(\"Text after digit removal: \", text_no_digits)\n",
    "\n",
    "    #remove extra white spaces\n",
    "    #cleaned_text = ' '.join(re.split(r'\\s+', text_no_digits))\n",
    "    # The above does not remove leading or trailing whitespaces\n",
    "    \n",
    "    # The below removes leading or trailing whitespaces, we can use it\n",
    "    #cleaned_text = (' '.join(re.split(r'\\s+', text_no_digits))).strip()\n",
    "    \n",
    "    # This also removes leading and trailing whitespaces. Will use this one\n",
    "    cleaned_text = re.sub(r'\\s+', ' ', no_stop_words).strip()\n",
    "    \n",
    "\n",
    "    return cleaned_text"
   ]
  },
  {
   "cell_type": "code",
   "execution_count": 35,
   "id": "b2639fe8",
   "metadata": {},
   "outputs": [],
   "source": [
    "# Clean the data and save it inot a new column called \"clean_review\"\n",
    "processed_data['clean_review'] = processed_data['review'].apply(clean_text)"
   ]
  },
  {
   "cell_type": "code",
   "execution_count": 36,
   "id": "112d0651",
   "metadata": {},
   "outputs": [
    {
     "data": {
      "text/html": [
       "<div>\n",
       "<style scoped>\n",
       "    .dataframe tbody tr th:only-of-type {\n",
       "        vertical-align: middle;\n",
       "    }\n",
       "\n",
       "    .dataframe tbody tr th {\n",
       "        vertical-align: top;\n",
       "    }\n",
       "\n",
       "    .dataframe thead th {\n",
       "        text-align: right;\n",
       "    }\n",
       "</style>\n",
       "<table border=\"1\" class=\"dataframe\">\n",
       "  <thead>\n",
       "    <tr style=\"text-align: right;\">\n",
       "      <th></th>\n",
       "      <th>rating</th>\n",
       "      <th>label</th>\n",
       "      <th>review</th>\n",
       "      <th>clean_review</th>\n",
       "    </tr>\n",
       "  </thead>\n",
       "  <tbody>\n",
       "    <tr>\n",
       "      <th>0</th>\n",
       "      <td>4</td>\n",
       "      <td>1</td>\n",
       "      <td>\"nice hotel expensive parking got good deal stay hotel anniversary, arrived late evening took advice previous reviews did valet parking, check quick easy, little disappointed non-existent view room room clean nice size, bed comfortable woke stiff neck high pillows, not soundproof like heard music room night morning loud bangs doors opening closing hear people talking hallway, maybe just noisy neighbors, aveda bath products nice, did not goldfish stay nice touch taken advantage staying longer, location great walking distance shopping, overall nice experience having pay 40 parking night</td>\n",
       "      <td>nice hotel expensive parking got good deal stay hotel anniversary arrived late evening took advice previous reviews valet parking check quick easy little disappointed non existent view room room clean nice size bed comfortable woke stiff neck high pillows soundproof like heard music room night morning loud bangs doors opening closing hear people talking hallway maybe noisy neighbors aveda bath products nice goldfish stay nice touch taken advantage staying longer location great walking distance shopping overall nice experience pay parking night</td>\n",
       "    </tr>\n",
       "    <tr>\n",
       "      <th>1</th>\n",
       "      <td>2</td>\n",
       "      <td>-1</td>\n",
       "      <td>\"ok nothing special charge diamond member hilton decided chain shot 20th anniversary seattle, start booked suite paid extra website description not, suite bedroom bathroom standard hotel room, took printed reservation desk showed said things like tv couch ect desk clerk told oh mixed suites description kimpton website sorry free breakfast, got kidding, embassy suits sitting room bathroom bedroom unlike kimpton calls suite, 5 day stay offer correct false advertising, send kimpton preferred guest website email asking failure provide suite advertised website reservation description furnished hard copy reservation printout website desk manager duty did not reply solution, send email trip guest survey did not follow email mail, guess tell concerned guest.the staff ranged indifferent not helpful, asked desk good breakfast spots neighborhood hood told no hotels, gee best breakfast spots seattle 1/2 block away convenient hotel does not know exist, arrived late night 11 pm inside run bellman busy chating cell phone help bags.prior arrival emailed hotel inform 20th anniversary half really picky wanted make sure good, got nice email saying like deliver bottle champagne chocolate covered strawberries room arrival celebrate, told needed foam pillows, arrival no champagne strawberries no foam pillows great room view alley high rise building good not better housekeeping staff cleaner room property, impressed left morning shopping room got short trips 2 hours, beds comfortable.not good ac-heat control 4 x 4 inch screen bring green shine directly eyes night, light sensitive tape controls.this not 4 start hotel clean business hotel super high rates, better chain hotels seattle</td>\n",
       "      <td>ok nothing special charge diamond member hilton decided chain shot anniversary seattle start booked suite paid extra website description suite bedroom bathroom standard hotel room took printed reservation desk showed said things like tv couch ect desk clerk told oh mixed suites description kimpton website sorry free breakfast got kidding embassy suits sitting room bathroom bedroom unlike kimpton calls suite day stay offer correct false advertising send kimpton preferred guest website email asking failure provide suite advertised website reservation description furnished hard copy reservation printout website desk manager duty reply solution send email trip guest survey follow email mail guess tell concerned guest staff ranged indifferent helpful asked desk good breakfast spots neighborhood hood told hotels gee best breakfast spots seattle block away convenient hotel know exist arrived late night pm inside run bellman busy chating cell phone help bags prior arrival emailed hotel inform anniversary half really picky wanted make sure good got nice email saying like deliver bottle champagne chocolate covered strawberries room arrival celebrate told needed foam pillows arrival champagne strawberries foam pillows great room view alley high rise building good better housekeeping staff cleaner room property impressed left morning shopping room got short trips hours beds comfortable good ac heat control inch screen bring green shine directly eyes night light sensitive tape controls start hotel clean business hotel super high rates better chain hotels seattle</td>\n",
       "    </tr>\n",
       "    <tr>\n",
       "      <th>2</th>\n",
       "      <td>5</td>\n",
       "      <td>1</td>\n",
       "      <td>\"unique, great stay, wonderful time hotel monaco, location excellent short stroll main downtown shopping area, pet friendly room showed no signs animal hair smells, monaco suite sleeping area big striped curtains pulled closed nice touch felt cosy, goldfish named brandi enjoyed, did n't partake free wine coffee/tea service lobby thought great feature, great staff friendly, free wireless internet hotel worked suite 2 laptops, decor lovely eclectic mix pattens color palatte, animal print bathrobes feel like rock stars, nice did n't look like sterile chain hotel hotel personality excellent stay</td>\n",
       "      <td>unique great stay wonderful time hotel monaco location excellent short stroll main downtown shopping area pet friendly room showed signs animal hair smells monaco suite sleeping area big striped curtains pulled closed nice touch felt cosy goldfish named brandi enjoyed partake free wine coffee tea service lobby thought great feature great staff friendly free wireless internet hotel worked suite laptops decor lovely eclectic mix pattens color palatte animal print bathrobes feel like rock stars nice look like sterile chain hotel hotel personality excellent stay</td>\n",
       "    </tr>\n",
       "    <tr>\n",
       "      <th>3</th>\n",
       "      <td>5</td>\n",
       "      <td>1</td>\n",
       "      <td>\"great stay great stay, went seahawk game awesome, downfall view building did n't complain, room huge staff helpful, booked hotels website seahawk package, no charge parking got voucher taxi, problem taxi driver did n't want accept voucher barely spoke english, funny thing speak arabic called started making comments girlfriend cell phone buddy, took second realize just said fact speak language face priceless, ass told, said large city, told head doorman issue called cab company promply answer did n't, apologized offered pay taxi, bucks 2 miles stadium, game plan taxi return going humpin, great walk did n't mind, right christmas wonderful lights, homeless stowed away building entrances leave, police presence not greatest area stadium, activities 7 blocks pike street waterfront great coffee shops way, hotel mantained foyer awesome, wine tasting available evening, best dog, taking st. bernard time family, safes hotel located service desk room, bathroom huge jetted tub huge, funny house keeping walked girlfriend getting dressed, did n't hear knock doing turn service, screamed girlfriend screams hit floor laughing, started talking spanish worked, place recommend price, check online deals just good not better, besite contains deals vouchers travel websites n't tell</td>\n",
       "      <td>great stay great stay went seahawk game awesome downfall view building complain room huge staff helpful booked hotels website seahawk package charge parking got voucher taxi problem taxi driver want accept voucher barely spoke english funny thing speak arabic called started making comments girlfriend cell phone buddy took second realize said fact speak language face priceless ass told said large city told head doorman issue called cab company promply answer apologized offered pay taxi bucks miles stadium game plan taxi return going humpin great walk mind right christmas wonderful lights homeless stowed away building entrances leave police presence greatest area stadium activities blocks pike street waterfront great coffee shops way hotel mantained foyer awesome wine tasting available evening best dog taking bernard time family safes hotel located service desk room bathroom huge jetted tub huge funny house keeping walked girlfriend getting dressed hear knock turn service screamed girlfriend screams hit floor laughing started talking spanish worked place recommend price check online deals good better besite contains deals vouchers travel websites tell</td>\n",
       "    </tr>\n",
       "    <tr>\n",
       "      <th>4</th>\n",
       "      <td>5</td>\n",
       "      <td>1</td>\n",
       "      <td>\"love monaco staff husband stayed hotel crazy weekend attending memorial service best friend husband celebrating 12th wedding anniversary, talk mixed emotions, booked suite hotel monte carlos, loaned beautiful fan-tanned goldfish named joliet weekend visited dogs worked desk human companions, room decorated nicely couch used pillows, l'occitane bath amenities welcome sight, room quiet peaceful, wireless internet access wonderful server went morning leaving problems printing boarding passes, afternoon reception serves oenophile-satisfying wine australia scrumptious cookies, restaurant closed renovation stay finally ate food good drinks better, word caution restaurant larger person not sit booths wo n't fit, 5'6 125 lbs husband 5'9 175. table smack-against stomach couple inches space mighty uncomfortable patron larger pregnant, bad design opinion place decorated funky welcoming way metal wood handblown glass light fixtures expect seattle capital glass art industry, definitely stay reason</td>\n",
       "      <td>love monaco staff husband stayed hotel crazy weekend attending memorial service best friend husband celebrating wedding anniversary talk mixed emotions booked suite hotel monte carlos loaned beautiful fan tanned goldfish named joliet weekend visited dogs worked desk human companions room decorated nicely couch used pillows occitane bath amenities welcome sight room quiet peaceful wireless internet access wonderful server went morning leaving problems printing boarding passes afternoon reception serves oenophile satisfying wine australia scrumptious cookies restaurant closed renovation stay finally ate food good drinks better word caution restaurant larger person sit booths fit lbs husband table smack stomach couple inches space mighty uncomfortable patron larger pregnant bad design opinion place decorated funky welcoming way metal wood handblown glass light fixtures expect seattle capital glass art industry definitely stay reason</td>\n",
       "    </tr>\n",
       "  </tbody>\n",
       "</table>\n",
       "</div>"
      ],
      "text/plain": [
       "   rating  label  \\\n",
       "0       4      1   \n",
       "1       2     -1   \n",
       "2       5      1   \n",
       "3       5      1   \n",
       "4       5      1   \n",
       "\n",
       "                                                                                                                                                                                                                                                                                                                                                                                                                                                                                                                                                                                                                                                                                                                                                                                                                                                                                                                                                                                                                                                                                                                                                                                                                                                                                                                                                                                                                                                                                                                                                                                                                                                                                                                                                    review  \\\n",
       "0                                                                                                                                                                                                                                                                                                                                                                                                                                                                                                                                                                                                                                                                                                                                                                                                                                                                                                                                                                                                                                                                                                                                          \"nice hotel expensive parking got good deal stay hotel anniversary, arrived late evening took advice previous reviews did valet parking, check quick easy, little disappointed non-existent view room room clean nice size, bed comfortable woke stiff neck high pillows, not soundproof like heard music room night morning loud bangs doors opening closing hear people talking hallway, maybe just noisy neighbors, aveda bath products nice, did not goldfish stay nice touch taken advantage staying longer, location great walking distance shopping, overall nice experience having pay 40 parking night   \n",
       "1  \"ok nothing special charge diamond member hilton decided chain shot 20th anniversary seattle, start booked suite paid extra website description not, suite bedroom bathroom standard hotel room, took printed reservation desk showed said things like tv couch ect desk clerk told oh mixed suites description kimpton website sorry free breakfast, got kidding, embassy suits sitting room bathroom bedroom unlike kimpton calls suite, 5 day stay offer correct false advertising, send kimpton preferred guest website email asking failure provide suite advertised website reservation description furnished hard copy reservation printout website desk manager duty did not reply solution, send email trip guest survey did not follow email mail, guess tell concerned guest.the staff ranged indifferent not helpful, asked desk good breakfast spots neighborhood hood told no hotels, gee best breakfast spots seattle 1/2 block away convenient hotel does not know exist, arrived late night 11 pm inside run bellman busy chating cell phone help bags.prior arrival emailed hotel inform 20th anniversary half really picky wanted make sure good, got nice email saying like deliver bottle champagne chocolate covered strawberries room arrival celebrate, told needed foam pillows, arrival no champagne strawberries no foam pillows great room view alley high rise building good not better housekeeping staff cleaner room property, impressed left morning shopping room got short trips 2 hours, beds comfortable.not good ac-heat control 4 x 4 inch screen bring green shine directly eyes night, light sensitive tape controls.this not 4 start hotel clean business hotel super high rates, better chain hotels seattle   \n",
       "2                                                                                                                                                                                                                                                                                                                                                                                                                                                                                                                                                                                                                                                                                                                                                                                                                                                                                                                                                                                                                                                                                                                                   \"unique, great stay, wonderful time hotel monaco, location excellent short stroll main downtown shopping area, pet friendly room showed no signs animal hair smells, monaco suite sleeping area big striped curtains pulled closed nice touch felt cosy, goldfish named brandi enjoyed, did n't partake free wine coffee/tea service lobby thought great feature, great staff friendly, free wireless internet hotel worked suite 2 laptops, decor lovely eclectic mix pattens color palatte, animal print bathrobes feel like rock stars, nice did n't look like sterile chain hotel hotel personality excellent stay   \n",
       "3                                                                                                                                                                                                                                                                                                                                                                                                                          \"great stay great stay, went seahawk game awesome, downfall view building did n't complain, room huge staff helpful, booked hotels website seahawk package, no charge parking got voucher taxi, problem taxi driver did n't want accept voucher barely spoke english, funny thing speak arabic called started making comments girlfriend cell phone buddy, took second realize just said fact speak language face priceless, ass told, said large city, told head doorman issue called cab company promply answer did n't, apologized offered pay taxi, bucks 2 miles stadium, game plan taxi return going humpin, great walk did n't mind, right christmas wonderful lights, homeless stowed away building entrances leave, police presence not greatest area stadium, activities 7 blocks pike street waterfront great coffee shops way, hotel mantained foyer awesome, wine tasting available evening, best dog, taking st. bernard time family, safes hotel located service desk room, bathroom huge jetted tub huge, funny house keeping walked girlfriend getting dressed, did n't hear knock doing turn service, screamed girlfriend screams hit floor laughing, started talking spanish worked, place recommend price, check online deals just good not better, besite contains deals vouchers travel websites n't tell   \n",
       "4                                                                                                                                                                                                                                                                                                                                                                                                                                                                                                                                                                                                                                                                                                                 \"love monaco staff husband stayed hotel crazy weekend attending memorial service best friend husband celebrating 12th wedding anniversary, talk mixed emotions, booked suite hotel monte carlos, loaned beautiful fan-tanned goldfish named joliet weekend visited dogs worked desk human companions, room decorated nicely couch used pillows, l'occitane bath amenities welcome sight, room quiet peaceful, wireless internet access wonderful server went morning leaving problems printing boarding passes, afternoon reception serves oenophile-satisfying wine australia scrumptious cookies, restaurant closed renovation stay finally ate food good drinks better, word caution restaurant larger person not sit booths wo n't fit, 5'6 125 lbs husband 5'9 175. table smack-against stomach couple inches space mighty uncomfortable patron larger pregnant, bad design opinion place decorated funky welcoming way metal wood handblown glass light fixtures expect seattle capital glass art industry, definitely stay reason   \n",
       "\n",
       "                                                                                                                                                                                                                                                                                                                                                                                                                                                                                                                                                                                                                                                                                                                                                                                                                                                                                                                                                                                                                                                                                                                                                                                                                                                                                                                                                                                                                                                                                                                                                                                                                              clean_review  \n",
       "0                                                                                                                                                                                                                                                                                                                                                                                                                                                                                                                                                                                                                                                                                                                                                                                                                                                                                                                                                                                                                                                                    nice hotel expensive parking got good deal stay hotel anniversary arrived late evening took advice previous reviews valet parking check quick easy little disappointed non existent view room room clean nice size bed comfortable woke stiff neck high pillows soundproof like heard music room night morning loud bangs doors opening closing hear people talking hallway maybe noisy neighbors aveda bath products nice goldfish stay nice touch taken advantage staying longer location great walking distance shopping overall nice experience pay parking night  \n",
       "1  ok nothing special charge diamond member hilton decided chain shot anniversary seattle start booked suite paid extra website description suite bedroom bathroom standard hotel room took printed reservation desk showed said things like tv couch ect desk clerk told oh mixed suites description kimpton website sorry free breakfast got kidding embassy suits sitting room bathroom bedroom unlike kimpton calls suite day stay offer correct false advertising send kimpton preferred guest website email asking failure provide suite advertised website reservation description furnished hard copy reservation printout website desk manager duty reply solution send email trip guest survey follow email mail guess tell concerned guest staff ranged indifferent helpful asked desk good breakfast spots neighborhood hood told hotels gee best breakfast spots seattle block away convenient hotel know exist arrived late night pm inside run bellman busy chating cell phone help bags prior arrival emailed hotel inform anniversary half really picky wanted make sure good got nice email saying like deliver bottle champagne chocolate covered strawberries room arrival celebrate told needed foam pillows arrival champagne strawberries foam pillows great room view alley high rise building good better housekeeping staff cleaner room property impressed left morning shopping room got short trips hours beds comfortable good ac heat control inch screen bring green shine directly eyes night light sensitive tape controls start hotel clean business hotel super high rates better chain hotels seattle  \n",
       "2                                                                                                                                                                                                                                                                                                                                                                                                                                                                                                                                                                                                                                                                                                                                                                                                                                                                                                                                                                                                                                                     unique great stay wonderful time hotel monaco location excellent short stroll main downtown shopping area pet friendly room showed signs animal hair smells monaco suite sleeping area big striped curtains pulled closed nice touch felt cosy goldfish named brandi enjoyed partake free wine coffee tea service lobby thought great feature great staff friendly free wireless internet hotel worked suite laptops decor lovely eclectic mix pattens color palatte animal print bathrobes feel like rock stars nice look like sterile chain hotel hotel personality excellent stay  \n",
       "3                                                                                                                                                                                                                                                                                                                                                                                                                          great stay great stay went seahawk game awesome downfall view building complain room huge staff helpful booked hotels website seahawk package charge parking got voucher taxi problem taxi driver want accept voucher barely spoke english funny thing speak arabic called started making comments girlfriend cell phone buddy took second realize said fact speak language face priceless ass told said large city told head doorman issue called cab company promply answer apologized offered pay taxi bucks miles stadium game plan taxi return going humpin great walk mind right christmas wonderful lights homeless stowed away building entrances leave police presence greatest area stadium activities blocks pike street waterfront great coffee shops way hotel mantained foyer awesome wine tasting available evening best dog taking bernard time family safes hotel located service desk room bathroom huge jetted tub huge funny house keeping walked girlfriend getting dressed hear knock turn service screamed girlfriend screams hit floor laughing started talking spanish worked place recommend price check online deals good better besite contains deals vouchers travel websites tell  \n",
       "4                                                                                                                                                                                                                                                                                                                                                                                                                                                                                                                                                                                                                                                          love monaco staff husband stayed hotel crazy weekend attending memorial service best friend husband celebrating wedding anniversary talk mixed emotions booked suite hotel monte carlos loaned beautiful fan tanned goldfish named joliet weekend visited dogs worked desk human companions room decorated nicely couch used pillows occitane bath amenities welcome sight room quiet peaceful wireless internet access wonderful server went morning leaving problems printing boarding passes afternoon reception serves oenophile satisfying wine australia scrumptious cookies restaurant closed renovation stay finally ate food good drinks better word caution restaurant larger person sit booths fit lbs husband table smack stomach couple inches space mighty uncomfortable patron larger pregnant bad design opinion place decorated funky welcoming way metal wood handblown glass light fixtures expect seattle capital glass art industry definitely stay reason  "
      ]
     },
     "execution_count": 36,
     "metadata": {},
     "output_type": "execute_result"
    }
   ],
   "source": [
    "processed_data.head(5)"
   ]
  },
  {
   "cell_type": "code",
   "execution_count": 39,
   "id": "83c72715",
   "metadata": {},
   "outputs": [
    {
     "data": {
      "text/html": [
       "<div>\n",
       "<style scoped>\n",
       "    .dataframe tbody tr th:only-of-type {\n",
       "        vertical-align: middle;\n",
       "    }\n",
       "\n",
       "    .dataframe tbody tr th {\n",
       "        vertical-align: top;\n",
       "    }\n",
       "\n",
       "    .dataframe thead th {\n",
       "        text-align: right;\n",
       "    }\n",
       "</style>\n",
       "<table border=\"1\" class=\"dataframe\">\n",
       "  <thead>\n",
       "    <tr style=\"text-align: right;\">\n",
       "      <th></th>\n",
       "      <th>rating</th>\n",
       "      <th>label</th>\n",
       "      <th>clean_review</th>\n",
       "    </tr>\n",
       "  </thead>\n",
       "  <tbody>\n",
       "    <tr>\n",
       "      <th>0</th>\n",
       "      <td>4</td>\n",
       "      <td>1</td>\n",
       "      <td>nice hotel expensive parking got good deal stay hotel anniversary arrived late evening took advice previous reviews valet parking check quick easy little disappointed non existent view room room clean nice size bed comfortable woke stiff neck high pillows soundproof like heard music room night morning loud bangs doors opening closing hear people talking hallway maybe noisy neighbors aveda bath products nice goldfish stay nice touch taken advantage staying longer location great walking distance shopping overall nice experience pay parking night</td>\n",
       "    </tr>\n",
       "    <tr>\n",
       "      <th>1</th>\n",
       "      <td>2</td>\n",
       "      <td>-1</td>\n",
       "      <td>ok nothing special charge diamond member hilton decided chain shot anniversary seattle start booked suite paid extra website description suite bedroom bathroom standard hotel room took printed reservation desk showed said things like tv couch ect desk clerk told oh mixed suites description kimpton website sorry free breakfast got kidding embassy suits sitting room bathroom bedroom unlike kimpton calls suite day stay offer correct false advertising send kimpton preferred guest website email asking failure provide suite advertised website reservation description furnished hard copy reservation printout website desk manager duty reply solution send email trip guest survey follow email mail guess tell concerned guest staff ranged indifferent helpful asked desk good breakfast spots neighborhood hood told hotels gee best breakfast spots seattle block away convenient hotel know exist arrived late night pm inside run bellman busy chating cell phone help bags prior arrival emailed hotel inform anniversary half really picky wanted make sure good got nice email saying like deliver bottle champagne chocolate covered strawberries room arrival celebrate told needed foam pillows arrival champagne strawberries foam pillows great room view alley high rise building good better housekeeping staff cleaner room property impressed left morning shopping room got short trips hours beds comfortable good ac heat control inch screen bring green shine directly eyes night light sensitive tape controls start hotel clean business hotel super high rates better chain hotels seattle</td>\n",
       "    </tr>\n",
       "    <tr>\n",
       "      <th>2</th>\n",
       "      <td>5</td>\n",
       "      <td>1</td>\n",
       "      <td>unique great stay wonderful time hotel monaco location excellent short stroll main downtown shopping area pet friendly room showed signs animal hair smells monaco suite sleeping area big striped curtains pulled closed nice touch felt cosy goldfish named brandi enjoyed partake free wine coffee tea service lobby thought great feature great staff friendly free wireless internet hotel worked suite laptops decor lovely eclectic mix pattens color palatte animal print bathrobes feel like rock stars nice look like sterile chain hotel hotel personality excellent stay</td>\n",
       "    </tr>\n",
       "    <tr>\n",
       "      <th>3</th>\n",
       "      <td>5</td>\n",
       "      <td>1</td>\n",
       "      <td>great stay great stay went seahawk game awesome downfall view building complain room huge staff helpful booked hotels website seahawk package charge parking got voucher taxi problem taxi driver want accept voucher barely spoke english funny thing speak arabic called started making comments girlfriend cell phone buddy took second realize said fact speak language face priceless ass told said large city told head doorman issue called cab company promply answer apologized offered pay taxi bucks miles stadium game plan taxi return going humpin great walk mind right christmas wonderful lights homeless stowed away building entrances leave police presence greatest area stadium activities blocks pike street waterfront great coffee shops way hotel mantained foyer awesome wine tasting available evening best dog taking bernard time family safes hotel located service desk room bathroom huge jetted tub huge funny house keeping walked girlfriend getting dressed hear knock turn service screamed girlfriend screams hit floor laughing started talking spanish worked place recommend price check online deals good better besite contains deals vouchers travel websites tell</td>\n",
       "    </tr>\n",
       "    <tr>\n",
       "      <th>4</th>\n",
       "      <td>5</td>\n",
       "      <td>1</td>\n",
       "      <td>love monaco staff husband stayed hotel crazy weekend attending memorial service best friend husband celebrating wedding anniversary talk mixed emotions booked suite hotel monte carlos loaned beautiful fan tanned goldfish named joliet weekend visited dogs worked desk human companions room decorated nicely couch used pillows occitane bath amenities welcome sight room quiet peaceful wireless internet access wonderful server went morning leaving problems printing boarding passes afternoon reception serves oenophile satisfying wine australia scrumptious cookies restaurant closed renovation stay finally ate food good drinks better word caution restaurant larger person sit booths fit lbs husband table smack stomach couple inches space mighty uncomfortable patron larger pregnant bad design opinion place decorated funky welcoming way metal wood handblown glass light fixtures expect seattle capital glass art industry definitely stay reason</td>\n",
       "    </tr>\n",
       "  </tbody>\n",
       "</table>\n",
       "</div>"
      ],
      "text/plain": [
       "   rating  label  \\\n",
       "0       4      1   \n",
       "1       2     -1   \n",
       "2       5      1   \n",
       "3       5      1   \n",
       "4       5      1   \n",
       "\n",
       "                                                                                                                                                                                                                                                                                                                                                                                                                                                                                                                                                                                                                                                                                                                                                                                                                                                                                                                                                                                                                                                                                                                                                                                                                                                                                                                                                                                                                                                                                                                                                                                                                              clean_review  \n",
       "0                                                                                                                                                                                                                                                                                                                                                                                                                                                                                                                                                                                                                                                                                                                                                                                                                                                                                                                                                                                                                                                                    nice hotel expensive parking got good deal stay hotel anniversary arrived late evening took advice previous reviews valet parking check quick easy little disappointed non existent view room room clean nice size bed comfortable woke stiff neck high pillows soundproof like heard music room night morning loud bangs doors opening closing hear people talking hallway maybe noisy neighbors aveda bath products nice goldfish stay nice touch taken advantage staying longer location great walking distance shopping overall nice experience pay parking night  \n",
       "1  ok nothing special charge diamond member hilton decided chain shot anniversary seattle start booked suite paid extra website description suite bedroom bathroom standard hotel room took printed reservation desk showed said things like tv couch ect desk clerk told oh mixed suites description kimpton website sorry free breakfast got kidding embassy suits sitting room bathroom bedroom unlike kimpton calls suite day stay offer correct false advertising send kimpton preferred guest website email asking failure provide suite advertised website reservation description furnished hard copy reservation printout website desk manager duty reply solution send email trip guest survey follow email mail guess tell concerned guest staff ranged indifferent helpful asked desk good breakfast spots neighborhood hood told hotels gee best breakfast spots seattle block away convenient hotel know exist arrived late night pm inside run bellman busy chating cell phone help bags prior arrival emailed hotel inform anniversary half really picky wanted make sure good got nice email saying like deliver bottle champagne chocolate covered strawberries room arrival celebrate told needed foam pillows arrival champagne strawberries foam pillows great room view alley high rise building good better housekeeping staff cleaner room property impressed left morning shopping room got short trips hours beds comfortable good ac heat control inch screen bring green shine directly eyes night light sensitive tape controls start hotel clean business hotel super high rates better chain hotels seattle  \n",
       "2                                                                                                                                                                                                                                                                                                                                                                                                                                                                                                                                                                                                                                                                                                                                                                                                                                                                                                                                                                                                                                                     unique great stay wonderful time hotel monaco location excellent short stroll main downtown shopping area pet friendly room showed signs animal hair smells monaco suite sleeping area big striped curtains pulled closed nice touch felt cosy goldfish named brandi enjoyed partake free wine coffee tea service lobby thought great feature great staff friendly free wireless internet hotel worked suite laptops decor lovely eclectic mix pattens color palatte animal print bathrobes feel like rock stars nice look like sterile chain hotel hotel personality excellent stay  \n",
       "3                                                                                                                                                                                                                                                                                                                                                                                                                          great stay great stay went seahawk game awesome downfall view building complain room huge staff helpful booked hotels website seahawk package charge parking got voucher taxi problem taxi driver want accept voucher barely spoke english funny thing speak arabic called started making comments girlfriend cell phone buddy took second realize said fact speak language face priceless ass told said large city told head doorman issue called cab company promply answer apologized offered pay taxi bucks miles stadium game plan taxi return going humpin great walk mind right christmas wonderful lights homeless stowed away building entrances leave police presence greatest area stadium activities blocks pike street waterfront great coffee shops way hotel mantained foyer awesome wine tasting available evening best dog taking bernard time family safes hotel located service desk room bathroom huge jetted tub huge funny house keeping walked girlfriend getting dressed hear knock turn service screamed girlfriend screams hit floor laughing started talking spanish worked place recommend price check online deals good better besite contains deals vouchers travel websites tell  \n",
       "4                                                                                                                                                                                                                                                                                                                                                                                                                                                                                                                                                                                                                                                          love monaco staff husband stayed hotel crazy weekend attending memorial service best friend husband celebrating wedding anniversary talk mixed emotions booked suite hotel monte carlos loaned beautiful fan tanned goldfish named joliet weekend visited dogs worked desk human companions room decorated nicely couch used pillows occitane bath amenities welcome sight room quiet peaceful wireless internet access wonderful server went morning leaving problems printing boarding passes afternoon reception serves oenophile satisfying wine australia scrumptious cookies restaurant closed renovation stay finally ate food good drinks better word caution restaurant larger person sit booths fit lbs husband table smack stomach couple inches space mighty uncomfortable patron larger pregnant bad design opinion place decorated funky welcoming way metal wood handblown glass light fixtures expect seattle capital glass art industry definitely stay reason  "
      ]
     },
     "execution_count": 39,
     "metadata": {},
     "output_type": "execute_result"
    }
   ],
   "source": [
    "# This is to store the data and re-use later instead of repeating everything again\n",
    "stored_processed_data = processed_data\n",
    "stored_processed_data.head()\n",
    "stored_processed_data = stored_processed_data.drop('review', axis=1)\n",
    "stored_processed_data.head()"
   ]
  },
  {
   "cell_type": "code",
   "execution_count": 40,
   "id": "f076db21",
   "metadata": {},
   "outputs": [],
   "source": [
    "# Save the DataFrame to a CSV file\n",
    "processed_data.to_csv('stored_dataframe.csv', index=False)"
   ]
  },
  {
   "cell_type": "code",
   "execution_count": 42,
   "id": "a1d7dbc0",
   "metadata": {},
   "outputs": [
    {
     "data": {
      "text/html": [
       "<div>\n",
       "<style scoped>\n",
       "    .dataframe tbody tr th:only-of-type {\n",
       "        vertical-align: middle;\n",
       "    }\n",
       "\n",
       "    .dataframe tbody tr th {\n",
       "        vertical-align: top;\n",
       "    }\n",
       "\n",
       "    .dataframe thead th {\n",
       "        text-align: right;\n",
       "    }\n",
       "</style>\n",
       "<table border=\"1\" class=\"dataframe\">\n",
       "  <thead>\n",
       "    <tr style=\"text-align: right;\">\n",
       "      <th></th>\n",
       "      <th>rating</th>\n",
       "      <th>label</th>\n",
       "      <th>review</th>\n",
       "      <th>clean_review</th>\n",
       "    </tr>\n",
       "  </thead>\n",
       "  <tbody>\n",
       "    <tr>\n",
       "      <th>0</th>\n",
       "      <td>4</td>\n",
       "      <td>1</td>\n",
       "      <td>\"nice hotel expensive parking got good deal stay hotel anniversary, arrived late evening took advice previous reviews did valet parking, check quick easy, little disappointed non-existent view room room clean nice size, bed comfortable woke stiff neck high pillows, not soundproof like heard music room night morning loud bangs doors opening closing hear people talking hallway, maybe just noisy neighbors, aveda bath products nice, did not goldfish stay nice touch taken advantage staying longer, location great walking distance shopping, overall nice experience having pay 40 parking night</td>\n",
       "      <td>nice hotel expensive parking got good deal stay hotel anniversary arrived late evening took advice previous reviews valet parking check quick easy little disappointed non existent view room room clean nice size bed comfortable woke stiff neck high pillows soundproof like heard music room night morning loud bangs doors opening closing hear people talking hallway maybe noisy neighbors aveda bath products nice goldfish stay nice touch taken advantage staying longer location great walking distance shopping overall nice experience pay parking night</td>\n",
       "    </tr>\n",
       "    <tr>\n",
       "      <th>1</th>\n",
       "      <td>2</td>\n",
       "      <td>-1</td>\n",
       "      <td>\"ok nothing special charge diamond member hilton decided chain shot 20th anniversary seattle, start booked suite paid extra website description not, suite bedroom bathroom standard hotel room, took printed reservation desk showed said things like tv couch ect desk clerk told oh mixed suites description kimpton website sorry free breakfast, got kidding, embassy suits sitting room bathroom bedroom unlike kimpton calls suite, 5 day stay offer correct false advertising, send kimpton preferred guest website email asking failure provide suite advertised website reservation description furnished hard copy reservation printout website desk manager duty did not reply solution, send email trip guest survey did not follow email mail, guess tell concerned guest.the staff ranged indifferent not helpful, asked desk good breakfast spots neighborhood hood told no hotels, gee best breakfast spots seattle 1/2 block away convenient hotel does not know exist, arrived late night 11 pm inside run bellman busy chating cell phone help bags.prior arrival emailed hotel inform 20th anniversary half really picky wanted make sure good, got nice email saying like deliver bottle champagne chocolate covered strawberries room arrival celebrate, told needed foam pillows, arrival no champagne strawberries no foam pillows great room view alley high rise building good not better housekeeping staff cleaner room property, impressed left morning shopping room got short trips 2 hours, beds comfortable.not good ac-heat control 4 x 4 inch screen bring green shine directly eyes night, light sensitive tape controls.this not 4 start hotel clean business hotel super high rates, better chain hotels seattle</td>\n",
       "      <td>ok nothing special charge diamond member hilton decided chain shot anniversary seattle start booked suite paid extra website description suite bedroom bathroom standard hotel room took printed reservation desk showed said things like tv couch ect desk clerk told oh mixed suites description kimpton website sorry free breakfast got kidding embassy suits sitting room bathroom bedroom unlike kimpton calls suite day stay offer correct false advertising send kimpton preferred guest website email asking failure provide suite advertised website reservation description furnished hard copy reservation printout website desk manager duty reply solution send email trip guest survey follow email mail guess tell concerned guest staff ranged indifferent helpful asked desk good breakfast spots neighborhood hood told hotels gee best breakfast spots seattle block away convenient hotel know exist arrived late night pm inside run bellman busy chating cell phone help bags prior arrival emailed hotel inform anniversary half really picky wanted make sure good got nice email saying like deliver bottle champagne chocolate covered strawberries room arrival celebrate told needed foam pillows arrival champagne strawberries foam pillows great room view alley high rise building good better housekeeping staff cleaner room property impressed left morning shopping room got short trips hours beds comfortable good ac heat control inch screen bring green shine directly eyes night light sensitive tape controls start hotel clean business hotel super high rates better chain hotels seattle</td>\n",
       "    </tr>\n",
       "    <tr>\n",
       "      <th>2</th>\n",
       "      <td>5</td>\n",
       "      <td>1</td>\n",
       "      <td>\"unique, great stay, wonderful time hotel monaco, location excellent short stroll main downtown shopping area, pet friendly room showed no signs animal hair smells, monaco suite sleeping area big striped curtains pulled closed nice touch felt cosy, goldfish named brandi enjoyed, did n't partake free wine coffee/tea service lobby thought great feature, great staff friendly, free wireless internet hotel worked suite 2 laptops, decor lovely eclectic mix pattens color palatte, animal print bathrobes feel like rock stars, nice did n't look like sterile chain hotel hotel personality excellent stay</td>\n",
       "      <td>unique great stay wonderful time hotel monaco location excellent short stroll main downtown shopping area pet friendly room showed signs animal hair smells monaco suite sleeping area big striped curtains pulled closed nice touch felt cosy goldfish named brandi enjoyed partake free wine coffee tea service lobby thought great feature great staff friendly free wireless internet hotel worked suite laptops decor lovely eclectic mix pattens color palatte animal print bathrobes feel like rock stars nice look like sterile chain hotel hotel personality excellent stay</td>\n",
       "    </tr>\n",
       "    <tr>\n",
       "      <th>3</th>\n",
       "      <td>5</td>\n",
       "      <td>1</td>\n",
       "      <td>\"great stay great stay, went seahawk game awesome, downfall view building did n't complain, room huge staff helpful, booked hotels website seahawk package, no charge parking got voucher taxi, problem taxi driver did n't want accept voucher barely spoke english, funny thing speak arabic called started making comments girlfriend cell phone buddy, took second realize just said fact speak language face priceless, ass told, said large city, told head doorman issue called cab company promply answer did n't, apologized offered pay taxi, bucks 2 miles stadium, game plan taxi return going humpin, great walk did n't mind, right christmas wonderful lights, homeless stowed away building entrances leave, police presence not greatest area stadium, activities 7 blocks pike street waterfront great coffee shops way, hotel mantained foyer awesome, wine tasting available evening, best dog, taking st. bernard time family, safes hotel located service desk room, bathroom huge jetted tub huge, funny house keeping walked girlfriend getting dressed, did n't hear knock doing turn service, screamed girlfriend screams hit floor laughing, started talking spanish worked, place recommend price, check online deals just good not better, besite contains deals vouchers travel websites n't tell</td>\n",
       "      <td>great stay great stay went seahawk game awesome downfall view building complain room huge staff helpful booked hotels website seahawk package charge parking got voucher taxi problem taxi driver want accept voucher barely spoke english funny thing speak arabic called started making comments girlfriend cell phone buddy took second realize said fact speak language face priceless ass told said large city told head doorman issue called cab company promply answer apologized offered pay taxi bucks miles stadium game plan taxi return going humpin great walk mind right christmas wonderful lights homeless stowed away building entrances leave police presence greatest area stadium activities blocks pike street waterfront great coffee shops way hotel mantained foyer awesome wine tasting available evening best dog taking bernard time family safes hotel located service desk room bathroom huge jetted tub huge funny house keeping walked girlfriend getting dressed hear knock turn service screamed girlfriend screams hit floor laughing started talking spanish worked place recommend price check online deals good better besite contains deals vouchers travel websites tell</td>\n",
       "    </tr>\n",
       "    <tr>\n",
       "      <th>4</th>\n",
       "      <td>5</td>\n",
       "      <td>1</td>\n",
       "      <td>\"love monaco staff husband stayed hotel crazy weekend attending memorial service best friend husband celebrating 12th wedding anniversary, talk mixed emotions, booked suite hotel monte carlos, loaned beautiful fan-tanned goldfish named joliet weekend visited dogs worked desk human companions, room decorated nicely couch used pillows, l'occitane bath amenities welcome sight, room quiet peaceful, wireless internet access wonderful server went morning leaving problems printing boarding passes, afternoon reception serves oenophile-satisfying wine australia scrumptious cookies, restaurant closed renovation stay finally ate food good drinks better, word caution restaurant larger person not sit booths wo n't fit, 5'6 125 lbs husband 5'9 175. table smack-against stomach couple inches space mighty uncomfortable patron larger pregnant, bad design opinion place decorated funky welcoming way metal wood handblown glass light fixtures expect seattle capital glass art industry, definitely stay reason</td>\n",
       "      <td>love monaco staff husband stayed hotel crazy weekend attending memorial service best friend husband celebrating wedding anniversary talk mixed emotions booked suite hotel monte carlos loaned beautiful fan tanned goldfish named joliet weekend visited dogs worked desk human companions room decorated nicely couch used pillows occitane bath amenities welcome sight room quiet peaceful wireless internet access wonderful server went morning leaving problems printing boarding passes afternoon reception serves oenophile satisfying wine australia scrumptious cookies restaurant closed renovation stay finally ate food good drinks better word caution restaurant larger person sit booths fit lbs husband table smack stomach couple inches space mighty uncomfortable patron larger pregnant bad design opinion place decorated funky welcoming way metal wood handblown glass light fixtures expect seattle capital glass art industry definitely stay reason</td>\n",
       "    </tr>\n",
       "  </tbody>\n",
       "</table>\n",
       "</div>"
      ],
      "text/plain": [
       "   rating  label  \\\n",
       "0       4      1   \n",
       "1       2     -1   \n",
       "2       5      1   \n",
       "3       5      1   \n",
       "4       5      1   \n",
       "\n",
       "                                                                                                                                                                                                                                                                                                                                                                                                                                                                                                                                                                                                                                                                                                                                                                                                                                                                                                                                                                                                                                                                                                                                                                                                                                                                                                                                                                                                                                                                                                                                                                                                                                                                                                                                                    review  \\\n",
       "0                                                                                                                                                                                                                                                                                                                                                                                                                                                                                                                                                                                                                                                                                                                                                                                                                                                                                                                                                                                                                                                                                                                                          \"nice hotel expensive parking got good deal stay hotel anniversary, arrived late evening took advice previous reviews did valet parking, check quick easy, little disappointed non-existent view room room clean nice size, bed comfortable woke stiff neck high pillows, not soundproof like heard music room night morning loud bangs doors opening closing hear people talking hallway, maybe just noisy neighbors, aveda bath products nice, did not goldfish stay nice touch taken advantage staying longer, location great walking distance shopping, overall nice experience having pay 40 parking night   \n",
       "1  \"ok nothing special charge diamond member hilton decided chain shot 20th anniversary seattle, start booked suite paid extra website description not, suite bedroom bathroom standard hotel room, took printed reservation desk showed said things like tv couch ect desk clerk told oh mixed suites description kimpton website sorry free breakfast, got kidding, embassy suits sitting room bathroom bedroom unlike kimpton calls suite, 5 day stay offer correct false advertising, send kimpton preferred guest website email asking failure provide suite advertised website reservation description furnished hard copy reservation printout website desk manager duty did not reply solution, send email trip guest survey did not follow email mail, guess tell concerned guest.the staff ranged indifferent not helpful, asked desk good breakfast spots neighborhood hood told no hotels, gee best breakfast spots seattle 1/2 block away convenient hotel does not know exist, arrived late night 11 pm inside run bellman busy chating cell phone help bags.prior arrival emailed hotel inform 20th anniversary half really picky wanted make sure good, got nice email saying like deliver bottle champagne chocolate covered strawberries room arrival celebrate, told needed foam pillows, arrival no champagne strawberries no foam pillows great room view alley high rise building good not better housekeeping staff cleaner room property, impressed left morning shopping room got short trips 2 hours, beds comfortable.not good ac-heat control 4 x 4 inch screen bring green shine directly eyes night, light sensitive tape controls.this not 4 start hotel clean business hotel super high rates, better chain hotels seattle   \n",
       "2                                                                                                                                                                                                                                                                                                                                                                                                                                                                                                                                                                                                                                                                                                                                                                                                                                                                                                                                                                                                                                                                                                                                   \"unique, great stay, wonderful time hotel monaco, location excellent short stroll main downtown shopping area, pet friendly room showed no signs animal hair smells, monaco suite sleeping area big striped curtains pulled closed nice touch felt cosy, goldfish named brandi enjoyed, did n't partake free wine coffee/tea service lobby thought great feature, great staff friendly, free wireless internet hotel worked suite 2 laptops, decor lovely eclectic mix pattens color palatte, animal print bathrobes feel like rock stars, nice did n't look like sterile chain hotel hotel personality excellent stay   \n",
       "3                                                                                                                                                                                                                                                                                                                                                                                                                          \"great stay great stay, went seahawk game awesome, downfall view building did n't complain, room huge staff helpful, booked hotels website seahawk package, no charge parking got voucher taxi, problem taxi driver did n't want accept voucher barely spoke english, funny thing speak arabic called started making comments girlfriend cell phone buddy, took second realize just said fact speak language face priceless, ass told, said large city, told head doorman issue called cab company promply answer did n't, apologized offered pay taxi, bucks 2 miles stadium, game plan taxi return going humpin, great walk did n't mind, right christmas wonderful lights, homeless stowed away building entrances leave, police presence not greatest area stadium, activities 7 blocks pike street waterfront great coffee shops way, hotel mantained foyer awesome, wine tasting available evening, best dog, taking st. bernard time family, safes hotel located service desk room, bathroom huge jetted tub huge, funny house keeping walked girlfriend getting dressed, did n't hear knock doing turn service, screamed girlfriend screams hit floor laughing, started talking spanish worked, place recommend price, check online deals just good not better, besite contains deals vouchers travel websites n't tell   \n",
       "4                                                                                                                                                                                                                                                                                                                                                                                                                                                                                                                                                                                                                                                                                                                 \"love monaco staff husband stayed hotel crazy weekend attending memorial service best friend husband celebrating 12th wedding anniversary, talk mixed emotions, booked suite hotel monte carlos, loaned beautiful fan-tanned goldfish named joliet weekend visited dogs worked desk human companions, room decorated nicely couch used pillows, l'occitane bath amenities welcome sight, room quiet peaceful, wireless internet access wonderful server went morning leaving problems printing boarding passes, afternoon reception serves oenophile-satisfying wine australia scrumptious cookies, restaurant closed renovation stay finally ate food good drinks better, word caution restaurant larger person not sit booths wo n't fit, 5'6 125 lbs husband 5'9 175. table smack-against stomach couple inches space mighty uncomfortable patron larger pregnant, bad design opinion place decorated funky welcoming way metal wood handblown glass light fixtures expect seattle capital glass art industry, definitely stay reason   \n",
       "\n",
       "                                                                                                                                                                                                                                                                                                                                                                                                                                                                                                                                                                                                                                                                                                                                                                                                                                                                                                                                                                                                                                                                                                                                                                                                                                                                                                                                                                                                                                                                                                                                                                                                                              clean_review  \n",
       "0                                                                                                                                                                                                                                                                                                                                                                                                                                                                                                                                                                                                                                                                                                                                                                                                                                                                                                                                                                                                                                                                    nice hotel expensive parking got good deal stay hotel anniversary arrived late evening took advice previous reviews valet parking check quick easy little disappointed non existent view room room clean nice size bed comfortable woke stiff neck high pillows soundproof like heard music room night morning loud bangs doors opening closing hear people talking hallway maybe noisy neighbors aveda bath products nice goldfish stay nice touch taken advantage staying longer location great walking distance shopping overall nice experience pay parking night  \n",
       "1  ok nothing special charge diamond member hilton decided chain shot anniversary seattle start booked suite paid extra website description suite bedroom bathroom standard hotel room took printed reservation desk showed said things like tv couch ect desk clerk told oh mixed suites description kimpton website sorry free breakfast got kidding embassy suits sitting room bathroom bedroom unlike kimpton calls suite day stay offer correct false advertising send kimpton preferred guest website email asking failure provide suite advertised website reservation description furnished hard copy reservation printout website desk manager duty reply solution send email trip guest survey follow email mail guess tell concerned guest staff ranged indifferent helpful asked desk good breakfast spots neighborhood hood told hotels gee best breakfast spots seattle block away convenient hotel know exist arrived late night pm inside run bellman busy chating cell phone help bags prior arrival emailed hotel inform anniversary half really picky wanted make sure good got nice email saying like deliver bottle champagne chocolate covered strawberries room arrival celebrate told needed foam pillows arrival champagne strawberries foam pillows great room view alley high rise building good better housekeeping staff cleaner room property impressed left morning shopping room got short trips hours beds comfortable good ac heat control inch screen bring green shine directly eyes night light sensitive tape controls start hotel clean business hotel super high rates better chain hotels seattle  \n",
       "2                                                                                                                                                                                                                                                                                                                                                                                                                                                                                                                                                                                                                                                                                                                                                                                                                                                                                                                                                                                                                                                     unique great stay wonderful time hotel monaco location excellent short stroll main downtown shopping area pet friendly room showed signs animal hair smells monaco suite sleeping area big striped curtains pulled closed nice touch felt cosy goldfish named brandi enjoyed partake free wine coffee tea service lobby thought great feature great staff friendly free wireless internet hotel worked suite laptops decor lovely eclectic mix pattens color palatte animal print bathrobes feel like rock stars nice look like sterile chain hotel hotel personality excellent stay  \n",
       "3                                                                                                                                                                                                                                                                                                                                                                                                                          great stay great stay went seahawk game awesome downfall view building complain room huge staff helpful booked hotels website seahawk package charge parking got voucher taxi problem taxi driver want accept voucher barely spoke english funny thing speak arabic called started making comments girlfriend cell phone buddy took second realize said fact speak language face priceless ass told said large city told head doorman issue called cab company promply answer apologized offered pay taxi bucks miles stadium game plan taxi return going humpin great walk mind right christmas wonderful lights homeless stowed away building entrances leave police presence greatest area stadium activities blocks pike street waterfront great coffee shops way hotel mantained foyer awesome wine tasting available evening best dog taking bernard time family safes hotel located service desk room bathroom huge jetted tub huge funny house keeping walked girlfriend getting dressed hear knock turn service screamed girlfriend screams hit floor laughing started talking spanish worked place recommend price check online deals good better besite contains deals vouchers travel websites tell  \n",
       "4                                                                                                                                                                                                                                                                                                                                                                                                                                                                                                                                                                                                                                                          love monaco staff husband stayed hotel crazy weekend attending memorial service best friend husband celebrating wedding anniversary talk mixed emotions booked suite hotel monte carlos loaned beautiful fan tanned goldfish named joliet weekend visited dogs worked desk human companions room decorated nicely couch used pillows occitane bath amenities welcome sight room quiet peaceful wireless internet access wonderful server went morning leaving problems printing boarding passes afternoon reception serves oenophile satisfying wine australia scrumptious cookies restaurant closed renovation stay finally ate food good drinks better word caution restaurant larger person sit booths fit lbs husband table smack stomach couple inches space mighty uncomfortable patron larger pregnant bad design opinion place decorated funky welcoming way metal wood handblown glass light fixtures expect seattle capital glass art industry definitely stay reason  "
      ]
     },
     "execution_count": 42,
     "metadata": {},
     "output_type": "execute_result"
    }
   ],
   "source": [
    "#THIS IS USED JUST FOR MY TESTING\n",
    "\n",
    "# Read the stored data again\n",
    "#loaded_df = pd.read_csv('stored_dataframe.csv')\n",
    "#loaded_df.head()"
   ]
  },
  {
   "cell_type": "code",
   "execution_count": 43,
   "id": "ac263a9f",
   "metadata": {},
   "outputs": [
    {
     "data": {
      "text/html": [
       "<div>\n",
       "<style scoped>\n",
       "    .dataframe tbody tr th:only-of-type {\n",
       "        vertical-align: middle;\n",
       "    }\n",
       "\n",
       "    .dataframe tbody tr th {\n",
       "        vertical-align: top;\n",
       "    }\n",
       "\n",
       "    .dataframe thead th {\n",
       "        text-align: right;\n",
       "    }\n",
       "</style>\n",
       "<table border=\"1\" class=\"dataframe\">\n",
       "  <thead>\n",
       "    <tr style=\"text-align: right;\">\n",
       "      <th></th>\n",
       "      <th>rating</th>\n",
       "      <th>label</th>\n",
       "      <th>review</th>\n",
       "      <th>clean_review</th>\n",
       "    </tr>\n",
       "  </thead>\n",
       "  <tbody>\n",
       "    <tr>\n",
       "      <th>0</th>\n",
       "      <td>4</td>\n",
       "      <td>1</td>\n",
       "      <td>\"nice hotel expensive parking got good deal stay hotel anniversary, arrived late evening took advice previous reviews did valet parking, check quick easy, little disappointed non-existent view room room clean nice size, bed comfortable woke stiff neck high pillows, not soundproof like heard music room night morning loud bangs doors opening closing hear people talking hallway, maybe just noisy neighbors, aveda bath products nice, did not goldfish stay nice touch taken advantage staying longer, location great walking distance shopping, overall nice experience having pay 40 parking night</td>\n",
       "      <td>nice hotel expensive parking got good deal stay hotel anniversary arrived late evening took advice previous reviews valet parking check quick easy little disappointed non existent view room room clean nice size bed comfortable woke stiff neck high pillows soundproof like heard music room night morning loud bangs doors opening closing hear people talking hallway maybe noisy neighbors aveda bath products nice goldfish stay nice touch taken advantage staying longer location great walking distance shopping overall nice experience pay parking night</td>\n",
       "    </tr>\n",
       "    <tr>\n",
       "      <th>1</th>\n",
       "      <td>2</td>\n",
       "      <td>-1</td>\n",
       "      <td>\"ok nothing special charge diamond member hilton decided chain shot 20th anniversary seattle, start booked suite paid extra website description not, suite bedroom bathroom standard hotel room, took printed reservation desk showed said things like tv couch ect desk clerk told oh mixed suites description kimpton website sorry free breakfast, got kidding, embassy suits sitting room bathroom bedroom unlike kimpton calls suite, 5 day stay offer correct false advertising, send kimpton preferred guest website email asking failure provide suite advertised website reservation description furnished hard copy reservation printout website desk manager duty did not reply solution, send email trip guest survey did not follow email mail, guess tell concerned guest.the staff ranged indifferent not helpful, asked desk good breakfast spots neighborhood hood told no hotels, gee best breakfast spots seattle 1/2 block away convenient hotel does not know exist, arrived late night 11 pm inside run bellman busy chating cell phone help bags.prior arrival emailed hotel inform 20th anniversary half really picky wanted make sure good, got nice email saying like deliver bottle champagne chocolate covered strawberries room arrival celebrate, told needed foam pillows, arrival no champagne strawberries no foam pillows great room view alley high rise building good not better housekeeping staff cleaner room property, impressed left morning shopping room got short trips 2 hours, beds comfortable.not good ac-heat control 4 x 4 inch screen bring green shine directly eyes night, light sensitive tape controls.this not 4 start hotel clean business hotel super high rates, better chain hotels seattle</td>\n",
       "      <td>ok nothing special charge diamond member hilton decided chain shot anniversary seattle start booked suite paid extra website description suite bedroom bathroom standard hotel room took printed reservation desk showed said things like tv couch ect desk clerk told oh mixed suites description kimpton website sorry free breakfast got kidding embassy suits sitting room bathroom bedroom unlike kimpton calls suite day stay offer correct false advertising send kimpton preferred guest website email asking failure provide suite advertised website reservation description furnished hard copy reservation printout website desk manager duty reply solution send email trip guest survey follow email mail guess tell concerned guest staff ranged indifferent helpful asked desk good breakfast spots neighborhood hood told hotels gee best breakfast spots seattle block away convenient hotel know exist arrived late night pm inside run bellman busy chating cell phone help bags prior arrival emailed hotel inform anniversary half really picky wanted make sure good got nice email saying like deliver bottle champagne chocolate covered strawberries room arrival celebrate told needed foam pillows arrival champagne strawberries foam pillows great room view alley high rise building good better housekeeping staff cleaner room property impressed left morning shopping room got short trips hours beds comfortable good ac heat control inch screen bring green shine directly eyes night light sensitive tape controls start hotel clean business hotel super high rates better chain hotels seattle</td>\n",
       "    </tr>\n",
       "    <tr>\n",
       "      <th>2</th>\n",
       "      <td>5</td>\n",
       "      <td>1</td>\n",
       "      <td>\"unique, great stay, wonderful time hotel monaco, location excellent short stroll main downtown shopping area, pet friendly room showed no signs animal hair smells, monaco suite sleeping area big striped curtains pulled closed nice touch felt cosy, goldfish named brandi enjoyed, did n't partake free wine coffee/tea service lobby thought great feature, great staff friendly, free wireless internet hotel worked suite 2 laptops, decor lovely eclectic mix pattens color palatte, animal print bathrobes feel like rock stars, nice did n't look like sterile chain hotel hotel personality excellent stay</td>\n",
       "      <td>unique great stay wonderful time hotel monaco location excellent short stroll main downtown shopping area pet friendly room showed signs animal hair smells monaco suite sleeping area big striped curtains pulled closed nice touch felt cosy goldfish named brandi enjoyed partake free wine coffee tea service lobby thought great feature great staff friendly free wireless internet hotel worked suite laptops decor lovely eclectic mix pattens color palatte animal print bathrobes feel like rock stars nice look like sterile chain hotel hotel personality excellent stay</td>\n",
       "    </tr>\n",
       "    <tr>\n",
       "      <th>3</th>\n",
       "      <td>5</td>\n",
       "      <td>1</td>\n",
       "      <td>\"great stay great stay, went seahawk game awesome, downfall view building did n't complain, room huge staff helpful, booked hotels website seahawk package, no charge parking got voucher taxi, problem taxi driver did n't want accept voucher barely spoke english, funny thing speak arabic called started making comments girlfriend cell phone buddy, took second realize just said fact speak language face priceless, ass told, said large city, told head doorman issue called cab company promply answer did n't, apologized offered pay taxi, bucks 2 miles stadium, game plan taxi return going humpin, great walk did n't mind, right christmas wonderful lights, homeless stowed away building entrances leave, police presence not greatest area stadium, activities 7 blocks pike street waterfront great coffee shops way, hotel mantained foyer awesome, wine tasting available evening, best dog, taking st. bernard time family, safes hotel located service desk room, bathroom huge jetted tub huge, funny house keeping walked girlfriend getting dressed, did n't hear knock doing turn service, screamed girlfriend screams hit floor laughing, started talking spanish worked, place recommend price, check online deals just good not better, besite contains deals vouchers travel websites n't tell</td>\n",
       "      <td>great stay great stay went seahawk game awesome downfall view building complain room huge staff helpful booked hotels website seahawk package charge parking got voucher taxi problem taxi driver want accept voucher barely spoke english funny thing speak arabic called started making comments girlfriend cell phone buddy took second realize said fact speak language face priceless ass told said large city told head doorman issue called cab company promply answer apologized offered pay taxi bucks miles stadium game plan taxi return going humpin great walk mind right christmas wonderful lights homeless stowed away building entrances leave police presence greatest area stadium activities blocks pike street waterfront great coffee shops way hotel mantained foyer awesome wine tasting available evening best dog taking bernard time family safes hotel located service desk room bathroom huge jetted tub huge funny house keeping walked girlfriend getting dressed hear knock turn service screamed girlfriend screams hit floor laughing started talking spanish worked place recommend price check online deals good better besite contains deals vouchers travel websites tell</td>\n",
       "    </tr>\n",
       "    <tr>\n",
       "      <th>4</th>\n",
       "      <td>5</td>\n",
       "      <td>1</td>\n",
       "      <td>\"love monaco staff husband stayed hotel crazy weekend attending memorial service best friend husband celebrating 12th wedding anniversary, talk mixed emotions, booked suite hotel monte carlos, loaned beautiful fan-tanned goldfish named joliet weekend visited dogs worked desk human companions, room decorated nicely couch used pillows, l'occitane bath amenities welcome sight, room quiet peaceful, wireless internet access wonderful server went morning leaving problems printing boarding passes, afternoon reception serves oenophile-satisfying wine australia scrumptious cookies, restaurant closed renovation stay finally ate food good drinks better, word caution restaurant larger person not sit booths wo n't fit, 5'6 125 lbs husband 5'9 175. table smack-against stomach couple inches space mighty uncomfortable patron larger pregnant, bad design opinion place decorated funky welcoming way metal wood handblown glass light fixtures expect seattle capital glass art industry, definitely stay reason</td>\n",
       "      <td>love monaco staff husband stayed hotel crazy weekend attending memorial service best friend husband celebrating wedding anniversary talk mixed emotions booked suite hotel monte carlos loaned beautiful fan tanned goldfish named joliet weekend visited dogs worked desk human companions room decorated nicely couch used pillows occitane bath amenities welcome sight room quiet peaceful wireless internet access wonderful server went morning leaving problems printing boarding passes afternoon reception serves oenophile satisfying wine australia scrumptious cookies restaurant closed renovation stay finally ate food good drinks better word caution restaurant larger person sit booths fit lbs husband table smack stomach couple inches space mighty uncomfortable patron larger pregnant bad design opinion place decorated funky welcoming way metal wood handblown glass light fixtures expect seattle capital glass art industry definitely stay reason</td>\n",
       "    </tr>\n",
       "  </tbody>\n",
       "</table>\n",
       "</div>"
      ],
      "text/plain": [
       "   rating  label  \\\n",
       "0       4      1   \n",
       "1       2     -1   \n",
       "2       5      1   \n",
       "3       5      1   \n",
       "4       5      1   \n",
       "\n",
       "                                                                                                                                                                                                                                                                                                                                                                                                                                                                                                                                                                                                                                                                                                                                                                                                                                                                                                                                                                                                                                                                                                                                                                                                                                                                                                                                                                                                                                                                                                                                                                                                                                                                                                                                                    review  \\\n",
       "0                                                                                                                                                                                                                                                                                                                                                                                                                                                                                                                                                                                                                                                                                                                                                                                                                                                                                                                                                                                                                                                                                                                                          \"nice hotel expensive parking got good deal stay hotel anniversary, arrived late evening took advice previous reviews did valet parking, check quick easy, little disappointed non-existent view room room clean nice size, bed comfortable woke stiff neck high pillows, not soundproof like heard music room night morning loud bangs doors opening closing hear people talking hallway, maybe just noisy neighbors, aveda bath products nice, did not goldfish stay nice touch taken advantage staying longer, location great walking distance shopping, overall nice experience having pay 40 parking night   \n",
       "1  \"ok nothing special charge diamond member hilton decided chain shot 20th anniversary seattle, start booked suite paid extra website description not, suite bedroom bathroom standard hotel room, took printed reservation desk showed said things like tv couch ect desk clerk told oh mixed suites description kimpton website sorry free breakfast, got kidding, embassy suits sitting room bathroom bedroom unlike kimpton calls suite, 5 day stay offer correct false advertising, send kimpton preferred guest website email asking failure provide suite advertised website reservation description furnished hard copy reservation printout website desk manager duty did not reply solution, send email trip guest survey did not follow email mail, guess tell concerned guest.the staff ranged indifferent not helpful, asked desk good breakfast spots neighborhood hood told no hotels, gee best breakfast spots seattle 1/2 block away convenient hotel does not know exist, arrived late night 11 pm inside run bellman busy chating cell phone help bags.prior arrival emailed hotel inform 20th anniversary half really picky wanted make sure good, got nice email saying like deliver bottle champagne chocolate covered strawberries room arrival celebrate, told needed foam pillows, arrival no champagne strawberries no foam pillows great room view alley high rise building good not better housekeeping staff cleaner room property, impressed left morning shopping room got short trips 2 hours, beds comfortable.not good ac-heat control 4 x 4 inch screen bring green shine directly eyes night, light sensitive tape controls.this not 4 start hotel clean business hotel super high rates, better chain hotels seattle   \n",
       "2                                                                                                                                                                                                                                                                                                                                                                                                                                                                                                                                                                                                                                                                                                                                                                                                                                                                                                                                                                                                                                                                                                                                   \"unique, great stay, wonderful time hotel monaco, location excellent short stroll main downtown shopping area, pet friendly room showed no signs animal hair smells, monaco suite sleeping area big striped curtains pulled closed nice touch felt cosy, goldfish named brandi enjoyed, did n't partake free wine coffee/tea service lobby thought great feature, great staff friendly, free wireless internet hotel worked suite 2 laptops, decor lovely eclectic mix pattens color palatte, animal print bathrobes feel like rock stars, nice did n't look like sterile chain hotel hotel personality excellent stay   \n",
       "3                                                                                                                                                                                                                                                                                                                                                                                                                          \"great stay great stay, went seahawk game awesome, downfall view building did n't complain, room huge staff helpful, booked hotels website seahawk package, no charge parking got voucher taxi, problem taxi driver did n't want accept voucher barely spoke english, funny thing speak arabic called started making comments girlfriend cell phone buddy, took second realize just said fact speak language face priceless, ass told, said large city, told head doorman issue called cab company promply answer did n't, apologized offered pay taxi, bucks 2 miles stadium, game plan taxi return going humpin, great walk did n't mind, right christmas wonderful lights, homeless stowed away building entrances leave, police presence not greatest area stadium, activities 7 blocks pike street waterfront great coffee shops way, hotel mantained foyer awesome, wine tasting available evening, best dog, taking st. bernard time family, safes hotel located service desk room, bathroom huge jetted tub huge, funny house keeping walked girlfriend getting dressed, did n't hear knock doing turn service, screamed girlfriend screams hit floor laughing, started talking spanish worked, place recommend price, check online deals just good not better, besite contains deals vouchers travel websites n't tell   \n",
       "4                                                                                                                                                                                                                                                                                                                                                                                                                                                                                                                                                                                                                                                                                                                 \"love monaco staff husband stayed hotel crazy weekend attending memorial service best friend husband celebrating 12th wedding anniversary, talk mixed emotions, booked suite hotel monte carlos, loaned beautiful fan-tanned goldfish named joliet weekend visited dogs worked desk human companions, room decorated nicely couch used pillows, l'occitane bath amenities welcome sight, room quiet peaceful, wireless internet access wonderful server went morning leaving problems printing boarding passes, afternoon reception serves oenophile-satisfying wine australia scrumptious cookies, restaurant closed renovation stay finally ate food good drinks better, word caution restaurant larger person not sit booths wo n't fit, 5'6 125 lbs husband 5'9 175. table smack-against stomach couple inches space mighty uncomfortable patron larger pregnant, bad design opinion place decorated funky welcoming way metal wood handblown glass light fixtures expect seattle capital glass art industry, definitely stay reason   \n",
       "\n",
       "                                                                                                                                                                                                                                                                                                                                                                                                                                                                                                                                                                                                                                                                                                                                                                                                                                                                                                                                                                                                                                                                                                                                                                                                                                                                                                                                                                                                                                                                                                                                                                                                                              clean_review  \n",
       "0                                                                                                                                                                                                                                                                                                                                                                                                                                                                                                                                                                                                                                                                                                                                                                                                                                                                                                                                                                                                                                                                    nice hotel expensive parking got good deal stay hotel anniversary arrived late evening took advice previous reviews valet parking check quick easy little disappointed non existent view room room clean nice size bed comfortable woke stiff neck high pillows soundproof like heard music room night morning loud bangs doors opening closing hear people talking hallway maybe noisy neighbors aveda bath products nice goldfish stay nice touch taken advantage staying longer location great walking distance shopping overall nice experience pay parking night  \n",
       "1  ok nothing special charge diamond member hilton decided chain shot anniversary seattle start booked suite paid extra website description suite bedroom bathroom standard hotel room took printed reservation desk showed said things like tv couch ect desk clerk told oh mixed suites description kimpton website sorry free breakfast got kidding embassy suits sitting room bathroom bedroom unlike kimpton calls suite day stay offer correct false advertising send kimpton preferred guest website email asking failure provide suite advertised website reservation description furnished hard copy reservation printout website desk manager duty reply solution send email trip guest survey follow email mail guess tell concerned guest staff ranged indifferent helpful asked desk good breakfast spots neighborhood hood told hotels gee best breakfast spots seattle block away convenient hotel know exist arrived late night pm inside run bellman busy chating cell phone help bags prior arrival emailed hotel inform anniversary half really picky wanted make sure good got nice email saying like deliver bottle champagne chocolate covered strawberries room arrival celebrate told needed foam pillows arrival champagne strawberries foam pillows great room view alley high rise building good better housekeeping staff cleaner room property impressed left morning shopping room got short trips hours beds comfortable good ac heat control inch screen bring green shine directly eyes night light sensitive tape controls start hotel clean business hotel super high rates better chain hotels seattle  \n",
       "2                                                                                                                                                                                                                                                                                                                                                                                                                                                                                                                                                                                                                                                                                                                                                                                                                                                                                                                                                                                                                                                     unique great stay wonderful time hotel monaco location excellent short stroll main downtown shopping area pet friendly room showed signs animal hair smells monaco suite sleeping area big striped curtains pulled closed nice touch felt cosy goldfish named brandi enjoyed partake free wine coffee tea service lobby thought great feature great staff friendly free wireless internet hotel worked suite laptops decor lovely eclectic mix pattens color palatte animal print bathrobes feel like rock stars nice look like sterile chain hotel hotel personality excellent stay  \n",
       "3                                                                                                                                                                                                                                                                                                                                                                                                                          great stay great stay went seahawk game awesome downfall view building complain room huge staff helpful booked hotels website seahawk package charge parking got voucher taxi problem taxi driver want accept voucher barely spoke english funny thing speak arabic called started making comments girlfriend cell phone buddy took second realize said fact speak language face priceless ass told said large city told head doorman issue called cab company promply answer apologized offered pay taxi bucks miles stadium game plan taxi return going humpin great walk mind right christmas wonderful lights homeless stowed away building entrances leave police presence greatest area stadium activities blocks pike street waterfront great coffee shops way hotel mantained foyer awesome wine tasting available evening best dog taking bernard time family safes hotel located service desk room bathroom huge jetted tub huge funny house keeping walked girlfriend getting dressed hear knock turn service screamed girlfriend screams hit floor laughing started talking spanish worked place recommend price check online deals good better besite contains deals vouchers travel websites tell  \n",
       "4                                                                                                                                                                                                                                                                                                                                                                                                                                                                                                                                                                                                                                                          love monaco staff husband stayed hotel crazy weekend attending memorial service best friend husband celebrating wedding anniversary talk mixed emotions booked suite hotel monte carlos loaned beautiful fan tanned goldfish named joliet weekend visited dogs worked desk human companions room decorated nicely couch used pillows occitane bath amenities welcome sight room quiet peaceful wireless internet access wonderful server went morning leaving problems printing boarding passes afternoon reception serves oenophile satisfying wine australia scrumptious cookies restaurant closed renovation stay finally ate food good drinks better word caution restaurant larger person sit booths fit lbs husband table smack stomach couple inches space mighty uncomfortable patron larger pregnant bad design opinion place decorated funky welcoming way metal wood handblown glass light fixtures expect seattle capital glass art industry definitely stay reason  "
      ]
     },
     "execution_count": 43,
     "metadata": {},
     "output_type": "execute_result"
    }
   ],
   "source": [
    "processed_data.head()"
   ]
  },
  {
   "cell_type": "markdown",
   "id": "88aa717b",
   "metadata": {},
   "source": [
    "## Pre-processing: spelling correction"
   ]
  },
  {
   "cell_type": "code",
   "execution_count": 44,
   "id": "97e6f855",
   "metadata": {},
   "outputs": [
    {
     "name": "stdout",
     "output_type": "stream",
     "text": [
      "Time taken: 33246.67590093613 seconds\n"
     ]
    }
   ],
   "source": [
    "# Correct spelling and save the result into a new column called \"correct_spell\"\n",
    "\n",
    "import time\n",
    "\n",
    "# Record the start time\n",
    "start_time = time.time()\n",
    "\n",
    "import pandas as pd\n",
    "from autocorrect import Speller\n",
    "\n",
    "# Create a function for spelling correction\n",
    "def spell_correct(text):\n",
    "    spell = Speller()\n",
    "    corrected_text = spell(text)\n",
    "    return corrected_text\n",
    "\n",
    "processed_data['correct_spell'] = processed_data['clean_review'].apply(spell_correct)\n",
    "\n",
    "end_time = time.time()\n",
    "elapsed_time = end_time - start_time\n",
    "\n",
    "print(f\"Time taken: {elapsed_time} seconds\")"
   ]
  },
  {
   "cell_type": "code",
   "execution_count": 45,
   "id": "db280fb0",
   "metadata": {},
   "outputs": [
    {
     "data": {
      "text/html": [
       "<div>\n",
       "<style scoped>\n",
       "    .dataframe tbody tr th:only-of-type {\n",
       "        vertical-align: middle;\n",
       "    }\n",
       "\n",
       "    .dataframe tbody tr th {\n",
       "        vertical-align: top;\n",
       "    }\n",
       "\n",
       "    .dataframe thead th {\n",
       "        text-align: right;\n",
       "    }\n",
       "</style>\n",
       "<table border=\"1\" class=\"dataframe\">\n",
       "  <thead>\n",
       "    <tr style=\"text-align: right;\">\n",
       "      <th></th>\n",
       "      <th>rating</th>\n",
       "      <th>label</th>\n",
       "      <th>review</th>\n",
       "      <th>clean_review</th>\n",
       "      <th>correct_spell</th>\n",
       "    </tr>\n",
       "  </thead>\n",
       "  <tbody>\n",
       "    <tr>\n",
       "      <th>0</th>\n",
       "      <td>4</td>\n",
       "      <td>1</td>\n",
       "      <td>\"nice hotel expensive parking got good deal stay hotel anniversary, arrived late evening took advice previous reviews did valet parking, check quick easy, little disappointed non-existent view room room clean nice size, bed comfortable woke stiff neck high pillows, not soundproof like heard music room night morning loud bangs doors opening closing hear people talking hallway, maybe just noisy neighbors, aveda bath products nice, did not goldfish stay nice touch taken advantage staying longer, location great walking distance shopping, overall nice experience having pay 40 parking night</td>\n",
       "      <td>nice hotel expensive parking got good deal stay hotel anniversary arrived late evening took advice previous reviews valet parking check quick easy little disappointed non existent view room room clean nice size bed comfortable woke stiff neck high pillows soundproof like heard music room night morning loud bangs doors opening closing hear people talking hallway maybe noisy neighbors aveda bath products nice goldfish stay nice touch taken advantage staying longer location great walking distance shopping overall nice experience pay parking night</td>\n",
       "      <td>nice hotel expensive parking got good deal stay hotel anniversary arrived late evening took advice previous reviews valet parking check quick easy little disappointed non existent view room room clean nice size bed comfortable woke stiff neck high pillow soundproof like heard music room night morning loud bands doors opening closing hear people talking hallway maybe noisy neighbors lveda bath products nice goldfish stay nice touch taken advantage staying longer location great walking distance shopping overall nice experience pay parking night</td>\n",
       "    </tr>\n",
       "    <tr>\n",
       "      <th>1</th>\n",
       "      <td>2</td>\n",
       "      <td>-1</td>\n",
       "      <td>\"ok nothing special charge diamond member hilton decided chain shot 20th anniversary seattle, start booked suite paid extra website description not, suite bedroom bathroom standard hotel room, took printed reservation desk showed said things like tv couch ect desk clerk told oh mixed suites description kimpton website sorry free breakfast, got kidding, embassy suits sitting room bathroom bedroom unlike kimpton calls suite, 5 day stay offer correct false advertising, send kimpton preferred guest website email asking failure provide suite advertised website reservation description furnished hard copy reservation printout website desk manager duty did not reply solution, send email trip guest survey did not follow email mail, guess tell concerned guest.the staff ranged indifferent not helpful, asked desk good breakfast spots neighborhood hood told no hotels, gee best breakfast spots seattle 1/2 block away convenient hotel does not know exist, arrived late night 11 pm inside run bellman busy chating cell phone help bags.prior arrival emailed hotel inform 20th anniversary half really picky wanted make sure good, got nice email saying like deliver bottle champagne chocolate covered strawberries room arrival celebrate, told needed foam pillows, arrival no champagne strawberries no foam pillows great room view alley high rise building good not better housekeeping staff cleaner room property, impressed left morning shopping room got short trips 2 hours, beds comfortable.not good ac-heat control 4 x 4 inch screen bring green shine directly eyes night, light sensitive tape controls.this not 4 start hotel clean business hotel super high rates, better chain hotels seattle</td>\n",
       "      <td>ok nothing special charge diamond member hilton decided chain shot anniversary seattle start booked suite paid extra website description suite bedroom bathroom standard hotel room took printed reservation desk showed said things like tv couch ect desk clerk told oh mixed suites description kimpton website sorry free breakfast got kidding embassy suits sitting room bathroom bedroom unlike kimpton calls suite day stay offer correct false advertising send kimpton preferred guest website email asking failure provide suite advertised website reservation description furnished hard copy reservation printout website desk manager duty reply solution send email trip guest survey follow email mail guess tell concerned guest staff ranged indifferent helpful asked desk good breakfast spots neighborhood hood told hotels gee best breakfast spots seattle block away convenient hotel know exist arrived late night pm inside run bellman busy chating cell phone help bags prior arrival emailed hotel inform anniversary half really picky wanted make sure good got nice email saying like deliver bottle champagne chocolate covered strawberries room arrival celebrate told needed foam pillows arrival champagne strawberries foam pillows great room view alley high rise building good better housekeeping staff cleaner room property impressed left morning shopping room got short trips hours beds comfortable good ac heat control inch screen bring green shine directly eyes night light sensitive tape controls start hotel clean business hotel super high rates better chain hotels seattle</td>\n",
       "      <td>ok nothing special charge diamond member hilton decided chain shot anniversary seattle start booked suite paid extra website description suite bedroom bathroom standard hotel room took printed reservation desk showed said things like tv couch ect desk clerk told oh mixed suites description simpson website sorry free breakfast got kidding embassy suits sitting room bathroom bedroom unlike simpson calls suite day stay offer correct false advertising send simpson preferred guest website email asking failure provide suite advertised website reservation description furnished hard copy reservation printout website desk manager duty reply solution send email trip guest survey follow email mail guess tell concerned guest staff ranged indifferent helpful asked desk good breakfast spots neighborhood hood told hotels gee best breakfast spots seattle block away convenient hotel know exist arrived late night pm inside run bella busy charting cell phone help bags prior arrival emailed hotel inform anniversary half really picky wanted make sure good got nice email saying like deliver bottle champagne chocolate covered strawberries room arrival celebrate told needed foam pillow arrival champagne strawberries foam pillow great room view alley high rise building good better housekeeping staff cleaner room property impressed left morning shopping room got short trips hours beds comfortable good ac heat control inch screen bring green shine directly eyes night light sensitive tape controls start hotel clean business hotel super high rates better chain hotels seattle</td>\n",
       "    </tr>\n",
       "    <tr>\n",
       "      <th>2</th>\n",
       "      <td>5</td>\n",
       "      <td>1</td>\n",
       "      <td>\"unique, great stay, wonderful time hotel monaco, location excellent short stroll main downtown shopping area, pet friendly room showed no signs animal hair smells, monaco suite sleeping area big striped curtains pulled closed nice touch felt cosy, goldfish named brandi enjoyed, did n't partake free wine coffee/tea service lobby thought great feature, great staff friendly, free wireless internet hotel worked suite 2 laptops, decor lovely eclectic mix pattens color palatte, animal print bathrobes feel like rock stars, nice did n't look like sterile chain hotel hotel personality excellent stay</td>\n",
       "      <td>unique great stay wonderful time hotel monaco location excellent short stroll main downtown shopping area pet friendly room showed signs animal hair smells monaco suite sleeping area big striped curtains pulled closed nice touch felt cosy goldfish named brandi enjoyed partake free wine coffee tea service lobby thought great feature great staff friendly free wireless internet hotel worked suite laptops decor lovely eclectic mix pattens color palatte animal print bathrobes feel like rock stars nice look like sterile chain hotel hotel personality excellent stay</td>\n",
       "      <td>unique great stay wonderful time hotel monaco location excellent short stroll main downtown shopping area pet friendly room showed signs animal hair smells monaco suite sleeping area big striped curtains pulled closed nice touch felt copy goldfish named brand enjoyed partake free wine coffee tea service lobby thought great feature great staff friendly free wireless internet hotel worked suite laptops decor lovely eclectic mix patterns color palette animal print bathrooms feel like rock stars nice look like sterile chain hotel hotel personality excellent stay</td>\n",
       "    </tr>\n",
       "    <tr>\n",
       "      <th>3</th>\n",
       "      <td>5</td>\n",
       "      <td>1</td>\n",
       "      <td>\"great stay great stay, went seahawk game awesome, downfall view building did n't complain, room huge staff helpful, booked hotels website seahawk package, no charge parking got voucher taxi, problem taxi driver did n't want accept voucher barely spoke english, funny thing speak arabic called started making comments girlfriend cell phone buddy, took second realize just said fact speak language face priceless, ass told, said large city, told head doorman issue called cab company promply answer did n't, apologized offered pay taxi, bucks 2 miles stadium, game plan taxi return going humpin, great walk did n't mind, right christmas wonderful lights, homeless stowed away building entrances leave, police presence not greatest area stadium, activities 7 blocks pike street waterfront great coffee shops way, hotel mantained foyer awesome, wine tasting available evening, best dog, taking st. bernard time family, safes hotel located service desk room, bathroom huge jetted tub huge, funny house keeping walked girlfriend getting dressed, did n't hear knock doing turn service, screamed girlfriend screams hit floor laughing, started talking spanish worked, place recommend price, check online deals just good not better, besite contains deals vouchers travel websites n't tell</td>\n",
       "      <td>great stay great stay went seahawk game awesome downfall view building complain room huge staff helpful booked hotels website seahawk package charge parking got voucher taxi problem taxi driver want accept voucher barely spoke english funny thing speak arabic called started making comments girlfriend cell phone buddy took second realize said fact speak language face priceless ass told said large city told head doorman issue called cab company promply answer apologized offered pay taxi bucks miles stadium game plan taxi return going humpin great walk mind right christmas wonderful lights homeless stowed away building entrances leave police presence greatest area stadium activities blocks pike street waterfront great coffee shops way hotel mantained foyer awesome wine tasting available evening best dog taking bernard time family safes hotel located service desk room bathroom huge jetted tub huge funny house keeping walked girlfriend getting dressed hear knock turn service screamed girlfriend screams hit floor laughing started talking spanish worked place recommend price check online deals good better besite contains deals vouchers travel websites tell</td>\n",
       "      <td>great stay great stay went seahawks game awesome downfall view building complain room huge staff helpful booked hotels website seahawks package charge parking got voucher taxi problem taxi driver want accept voucher barely spoke english funny thing speak arabic called started making comments girlfriend cell phone buddy took second realize said fact speak language face priceless ass told said large city told head doorway issue called cab company promptly answer apologized offered pay taxi bucks miles stadium game plan taxi return going human great walk mind right christmas wonderful lights homeless showed away building entrances leave police presence greatest area stadium activities blocks pike street waterfront great coffee shops way hotel maintained foyer awesome wine tasting available evening best dog taking bernard time family sales hotel located service desk room bathroom huge netted tub huge funny house keeping walked girlfriend getting dressed hear knock turn service streamed girlfriend screams hit floor laughing started talking spanish worked place recommend price check online deals good better beside contains deals vouchers travel websites tell</td>\n",
       "    </tr>\n",
       "    <tr>\n",
       "      <th>4</th>\n",
       "      <td>5</td>\n",
       "      <td>1</td>\n",
       "      <td>\"love monaco staff husband stayed hotel crazy weekend attending memorial service best friend husband celebrating 12th wedding anniversary, talk mixed emotions, booked suite hotel monte carlos, loaned beautiful fan-tanned goldfish named joliet weekend visited dogs worked desk human companions, room decorated nicely couch used pillows, l'occitane bath amenities welcome sight, room quiet peaceful, wireless internet access wonderful server went morning leaving problems printing boarding passes, afternoon reception serves oenophile-satisfying wine australia scrumptious cookies, restaurant closed renovation stay finally ate food good drinks better, word caution restaurant larger person not sit booths wo n't fit, 5'6 125 lbs husband 5'9 175. table smack-against stomach couple inches space mighty uncomfortable patron larger pregnant, bad design opinion place decorated funky welcoming way metal wood handblown glass light fixtures expect seattle capital glass art industry, definitely stay reason</td>\n",
       "      <td>love monaco staff husband stayed hotel crazy weekend attending memorial service best friend husband celebrating wedding anniversary talk mixed emotions booked suite hotel monte carlos loaned beautiful fan tanned goldfish named joliet weekend visited dogs worked desk human companions room decorated nicely couch used pillows occitane bath amenities welcome sight room quiet peaceful wireless internet access wonderful server went morning leaving problems printing boarding passes afternoon reception serves oenophile satisfying wine australia scrumptious cookies restaurant closed renovation stay finally ate food good drinks better word caution restaurant larger person sit booths fit lbs husband table smack stomach couple inches space mighty uncomfortable patron larger pregnant bad design opinion place decorated funky welcoming way metal wood handblown glass light fixtures expect seattle capital glass art industry definitely stay reason</td>\n",
       "      <td>love monaco staff husband stayed hotel crazy weekend attending memorial service best friend husband celebrating wedding anniversary talk mixed emotions booked suite hotel monte carlos loaned beautiful fan banned goldfish named joint weekend visited dogs worked desk human companions room decorated nicely couch used pillow octane bath amenities welcome sight room quiet peaceful wireless internet access wonderful server went morning leaving problems printing boarding passes afternoon reception serves pedophile satisfying wine australia scrumptious cookies restaurant closed renovation stay finally ate food good drinks better word caution restaurant larger person sit booths fit lbs husband table smack stomach couple inches space mighty uncomfortable patron larger pregnant bad design opinion place decorated funky welcoming way metal wood handblown glass light fixtures expect seattle capital glass art industry definitely stay reason</td>\n",
       "    </tr>\n",
       "  </tbody>\n",
       "</table>\n",
       "</div>"
      ],
      "text/plain": [
       "   rating  label  \\\n",
       "0       4      1   \n",
       "1       2     -1   \n",
       "2       5      1   \n",
       "3       5      1   \n",
       "4       5      1   \n",
       "\n",
       "                                                                                                                                                                                                                                                                                                                                                                                                                                                                                                                                                                                                                                                                                                                                                                                                                                                                                                                                                                                                                                                                                                                                                                                                                                                                                                                                                                                                                                                                                                                                                                                                                                                                                                                                                    review  \\\n",
       "0                                                                                                                                                                                                                                                                                                                                                                                                                                                                                                                                                                                                                                                                                                                                                                                                                                                                                                                                                                                                                                                                                                                                          \"nice hotel expensive parking got good deal stay hotel anniversary, arrived late evening took advice previous reviews did valet parking, check quick easy, little disappointed non-existent view room room clean nice size, bed comfortable woke stiff neck high pillows, not soundproof like heard music room night morning loud bangs doors opening closing hear people talking hallway, maybe just noisy neighbors, aveda bath products nice, did not goldfish stay nice touch taken advantage staying longer, location great walking distance shopping, overall nice experience having pay 40 parking night   \n",
       "1  \"ok nothing special charge diamond member hilton decided chain shot 20th anniversary seattle, start booked suite paid extra website description not, suite bedroom bathroom standard hotel room, took printed reservation desk showed said things like tv couch ect desk clerk told oh mixed suites description kimpton website sorry free breakfast, got kidding, embassy suits sitting room bathroom bedroom unlike kimpton calls suite, 5 day stay offer correct false advertising, send kimpton preferred guest website email asking failure provide suite advertised website reservation description furnished hard copy reservation printout website desk manager duty did not reply solution, send email trip guest survey did not follow email mail, guess tell concerned guest.the staff ranged indifferent not helpful, asked desk good breakfast spots neighborhood hood told no hotels, gee best breakfast spots seattle 1/2 block away convenient hotel does not know exist, arrived late night 11 pm inside run bellman busy chating cell phone help bags.prior arrival emailed hotel inform 20th anniversary half really picky wanted make sure good, got nice email saying like deliver bottle champagne chocolate covered strawberries room arrival celebrate, told needed foam pillows, arrival no champagne strawberries no foam pillows great room view alley high rise building good not better housekeeping staff cleaner room property, impressed left morning shopping room got short trips 2 hours, beds comfortable.not good ac-heat control 4 x 4 inch screen bring green shine directly eyes night, light sensitive tape controls.this not 4 start hotel clean business hotel super high rates, better chain hotels seattle   \n",
       "2                                                                                                                                                                                                                                                                                                                                                                                                                                                                                                                                                                                                                                                                                                                                                                                                                                                                                                                                                                                                                                                                                                                                   \"unique, great stay, wonderful time hotel monaco, location excellent short stroll main downtown shopping area, pet friendly room showed no signs animal hair smells, monaco suite sleeping area big striped curtains pulled closed nice touch felt cosy, goldfish named brandi enjoyed, did n't partake free wine coffee/tea service lobby thought great feature, great staff friendly, free wireless internet hotel worked suite 2 laptops, decor lovely eclectic mix pattens color palatte, animal print bathrobes feel like rock stars, nice did n't look like sterile chain hotel hotel personality excellent stay   \n",
       "3                                                                                                                                                                                                                                                                                                                                                                                                                          \"great stay great stay, went seahawk game awesome, downfall view building did n't complain, room huge staff helpful, booked hotels website seahawk package, no charge parking got voucher taxi, problem taxi driver did n't want accept voucher barely spoke english, funny thing speak arabic called started making comments girlfriend cell phone buddy, took second realize just said fact speak language face priceless, ass told, said large city, told head doorman issue called cab company promply answer did n't, apologized offered pay taxi, bucks 2 miles stadium, game plan taxi return going humpin, great walk did n't mind, right christmas wonderful lights, homeless stowed away building entrances leave, police presence not greatest area stadium, activities 7 blocks pike street waterfront great coffee shops way, hotel mantained foyer awesome, wine tasting available evening, best dog, taking st. bernard time family, safes hotel located service desk room, bathroom huge jetted tub huge, funny house keeping walked girlfriend getting dressed, did n't hear knock doing turn service, screamed girlfriend screams hit floor laughing, started talking spanish worked, place recommend price, check online deals just good not better, besite contains deals vouchers travel websites n't tell   \n",
       "4                                                                                                                                                                                                                                                                                                                                                                                                                                                                                                                                                                                                                                                                                                                 \"love monaco staff husband stayed hotel crazy weekend attending memorial service best friend husband celebrating 12th wedding anniversary, talk mixed emotions, booked suite hotel monte carlos, loaned beautiful fan-tanned goldfish named joliet weekend visited dogs worked desk human companions, room decorated nicely couch used pillows, l'occitane bath amenities welcome sight, room quiet peaceful, wireless internet access wonderful server went morning leaving problems printing boarding passes, afternoon reception serves oenophile-satisfying wine australia scrumptious cookies, restaurant closed renovation stay finally ate food good drinks better, word caution restaurant larger person not sit booths wo n't fit, 5'6 125 lbs husband 5'9 175. table smack-against stomach couple inches space mighty uncomfortable patron larger pregnant, bad design opinion place decorated funky welcoming way metal wood handblown glass light fixtures expect seattle capital glass art industry, definitely stay reason   \n",
       "\n",
       "                                                                                                                                                                                                                                                                                                                                                                                                                                                                                                                                                                                                                                                                                                                                                                                                                                                                                                                                                                                                                                                                                                                                                                                                                                                                                                                                                                                                                                                                                                                                                                                                                              clean_review  \\\n",
       "0                                                                                                                                                                                                                                                                                                                                                                                                                                                                                                                                                                                                                                                                                                                                                                                                                                                                                                                                                                                                                                                                    nice hotel expensive parking got good deal stay hotel anniversary arrived late evening took advice previous reviews valet parking check quick easy little disappointed non existent view room room clean nice size bed comfortable woke stiff neck high pillows soundproof like heard music room night morning loud bangs doors opening closing hear people talking hallway maybe noisy neighbors aveda bath products nice goldfish stay nice touch taken advantage staying longer location great walking distance shopping overall nice experience pay parking night   \n",
       "1  ok nothing special charge diamond member hilton decided chain shot anniversary seattle start booked suite paid extra website description suite bedroom bathroom standard hotel room took printed reservation desk showed said things like tv couch ect desk clerk told oh mixed suites description kimpton website sorry free breakfast got kidding embassy suits sitting room bathroom bedroom unlike kimpton calls suite day stay offer correct false advertising send kimpton preferred guest website email asking failure provide suite advertised website reservation description furnished hard copy reservation printout website desk manager duty reply solution send email trip guest survey follow email mail guess tell concerned guest staff ranged indifferent helpful asked desk good breakfast spots neighborhood hood told hotels gee best breakfast spots seattle block away convenient hotel know exist arrived late night pm inside run bellman busy chating cell phone help bags prior arrival emailed hotel inform anniversary half really picky wanted make sure good got nice email saying like deliver bottle champagne chocolate covered strawberries room arrival celebrate told needed foam pillows arrival champagne strawberries foam pillows great room view alley high rise building good better housekeeping staff cleaner room property impressed left morning shopping room got short trips hours beds comfortable good ac heat control inch screen bring green shine directly eyes night light sensitive tape controls start hotel clean business hotel super high rates better chain hotels seattle   \n",
       "2                                                                                                                                                                                                                                                                                                                                                                                                                                                                                                                                                                                                                                                                                                                                                                                                                                                                                                                                                                                                                                                     unique great stay wonderful time hotel monaco location excellent short stroll main downtown shopping area pet friendly room showed signs animal hair smells monaco suite sleeping area big striped curtains pulled closed nice touch felt cosy goldfish named brandi enjoyed partake free wine coffee tea service lobby thought great feature great staff friendly free wireless internet hotel worked suite laptops decor lovely eclectic mix pattens color palatte animal print bathrobes feel like rock stars nice look like sterile chain hotel hotel personality excellent stay   \n",
       "3                                                                                                                                                                                                                                                                                                                                                                                                                          great stay great stay went seahawk game awesome downfall view building complain room huge staff helpful booked hotels website seahawk package charge parking got voucher taxi problem taxi driver want accept voucher barely spoke english funny thing speak arabic called started making comments girlfriend cell phone buddy took second realize said fact speak language face priceless ass told said large city told head doorman issue called cab company promply answer apologized offered pay taxi bucks miles stadium game plan taxi return going humpin great walk mind right christmas wonderful lights homeless stowed away building entrances leave police presence greatest area stadium activities blocks pike street waterfront great coffee shops way hotel mantained foyer awesome wine tasting available evening best dog taking bernard time family safes hotel located service desk room bathroom huge jetted tub huge funny house keeping walked girlfriend getting dressed hear knock turn service screamed girlfriend screams hit floor laughing started talking spanish worked place recommend price check online deals good better besite contains deals vouchers travel websites tell   \n",
       "4                                                                                                                                                                                                                                                                                                                                                                                                                                                                                                                                                                                                                                                          love monaco staff husband stayed hotel crazy weekend attending memorial service best friend husband celebrating wedding anniversary talk mixed emotions booked suite hotel monte carlos loaned beautiful fan tanned goldfish named joliet weekend visited dogs worked desk human companions room decorated nicely couch used pillows occitane bath amenities welcome sight room quiet peaceful wireless internet access wonderful server went morning leaving problems printing boarding passes afternoon reception serves oenophile satisfying wine australia scrumptious cookies restaurant closed renovation stay finally ate food good drinks better word caution restaurant larger person sit booths fit lbs husband table smack stomach couple inches space mighty uncomfortable patron larger pregnant bad design opinion place decorated funky welcoming way metal wood handblown glass light fixtures expect seattle capital glass art industry definitely stay reason   \n",
       "\n",
       "                                                                                                                                                                                                                                                                                                                                                                                                                                                                                                                                                                                                                                                                                                                                                                                                                                                                                                                                                                                                                                                                                                                                                                                                                                                                                                                                                                                                                                                                                                                                                                                                                          correct_spell  \n",
       "0                                                                                                                                                                                                                                                                                                                                                                                                                                                                                                                                                                                                                                                                                                                                                                                                                                                                                                                                                                                                                                                                  nice hotel expensive parking got good deal stay hotel anniversary arrived late evening took advice previous reviews valet parking check quick easy little disappointed non existent view room room clean nice size bed comfortable woke stiff neck high pillow soundproof like heard music room night morning loud bands doors opening closing hear people talking hallway maybe noisy neighbors lveda bath products nice goldfish stay nice touch taken advantage staying longer location great walking distance shopping overall nice experience pay parking night  \n",
       "1  ok nothing special charge diamond member hilton decided chain shot anniversary seattle start booked suite paid extra website description suite bedroom bathroom standard hotel room took printed reservation desk showed said things like tv couch ect desk clerk told oh mixed suites description simpson website sorry free breakfast got kidding embassy suits sitting room bathroom bedroom unlike simpson calls suite day stay offer correct false advertising send simpson preferred guest website email asking failure provide suite advertised website reservation description furnished hard copy reservation printout website desk manager duty reply solution send email trip guest survey follow email mail guess tell concerned guest staff ranged indifferent helpful asked desk good breakfast spots neighborhood hood told hotels gee best breakfast spots seattle block away convenient hotel know exist arrived late night pm inside run bella busy charting cell phone help bags prior arrival emailed hotel inform anniversary half really picky wanted make sure good got nice email saying like deliver bottle champagne chocolate covered strawberries room arrival celebrate told needed foam pillow arrival champagne strawberries foam pillow great room view alley high rise building good better housekeeping staff cleaner room property impressed left morning shopping room got short trips hours beds comfortable good ac heat control inch screen bring green shine directly eyes night light sensitive tape controls start hotel clean business hotel super high rates better chain hotels seattle  \n",
       "2                                                                                                                                                                                                                                                                                                                                                                                                                                                                                                                                                                                                                                                                                                                                                                                                                                                                                                                                                                                                                                                  unique great stay wonderful time hotel monaco location excellent short stroll main downtown shopping area pet friendly room showed signs animal hair smells monaco suite sleeping area big striped curtains pulled closed nice touch felt copy goldfish named brand enjoyed partake free wine coffee tea service lobby thought great feature great staff friendly free wireless internet hotel worked suite laptops decor lovely eclectic mix patterns color palette animal print bathrooms feel like rock stars nice look like sterile chain hotel hotel personality excellent stay  \n",
       "3                                                                                                                                                                                                                                                                                                                                                                                                                    great stay great stay went seahawks game awesome downfall view building complain room huge staff helpful booked hotels website seahawks package charge parking got voucher taxi problem taxi driver want accept voucher barely spoke english funny thing speak arabic called started making comments girlfriend cell phone buddy took second realize said fact speak language face priceless ass told said large city told head doorway issue called cab company promptly answer apologized offered pay taxi bucks miles stadium game plan taxi return going human great walk mind right christmas wonderful lights homeless showed away building entrances leave police presence greatest area stadium activities blocks pike street waterfront great coffee shops way hotel maintained foyer awesome wine tasting available evening best dog taking bernard time family sales hotel located service desk room bathroom huge netted tub huge funny house keeping walked girlfriend getting dressed hear knock turn service streamed girlfriend screams hit floor laughing started talking spanish worked place recommend price check online deals good better beside contains deals vouchers travel websites tell  \n",
       "4                                                                                                                                                                                                                                                                                                                                                                                                                                                                                                                                                                                                                                                           love monaco staff husband stayed hotel crazy weekend attending memorial service best friend husband celebrating wedding anniversary talk mixed emotions booked suite hotel monte carlos loaned beautiful fan banned goldfish named joint weekend visited dogs worked desk human companions room decorated nicely couch used pillow octane bath amenities welcome sight room quiet peaceful wireless internet access wonderful server went morning leaving problems printing boarding passes afternoon reception serves pedophile satisfying wine australia scrumptious cookies restaurant closed renovation stay finally ate food good drinks better word caution restaurant larger person sit booths fit lbs husband table smack stomach couple inches space mighty uncomfortable patron larger pregnant bad design opinion place decorated funky welcoming way metal wood handblown glass light fixtures expect seattle capital glass art industry definitely stay reason  "
      ]
     },
     "execution_count": 45,
     "metadata": {},
     "output_type": "execute_result"
    }
   ],
   "source": [
    "processed_data.head()"
   ]
  },
  {
   "cell_type": "code",
   "execution_count": null,
   "id": "edf31bb3",
   "metadata": {},
   "outputs": [],
   "source": [
    "# Save the DataFrame to a CSV file - to be re-used when needed without repeating previous\n",
    "# work as shown above\n",
    "processed_data.to_csv('stored_processed_data.csv', index=False)"
   ]
  },
  {
   "cell_type": "code",
   "execution_count": 4,
   "id": "bca4761d",
   "metadata": {},
   "outputs": [],
   "source": [
    "# Read the saved data\n",
    "import pandas as pd\n",
    "\n",
    "\n",
    "file_path = '/Users/mahmoudwatfa/Documents/TorontoMetropolitanUni/Capstone820/Coding/stored_processed_data.csv'\n",
    "retrieved_processed_data = pd.read_csv(file_path)"
   ]
  },
  {
   "cell_type": "code",
   "execution_count": 3,
   "id": "ab447de2",
   "metadata": {},
   "outputs": [
    {
     "data": {
      "text/html": [
       "<div>\n",
       "<style scoped>\n",
       "    .dataframe tbody tr th:only-of-type {\n",
       "        vertical-align: middle;\n",
       "    }\n",
       "\n",
       "    .dataframe tbody tr th {\n",
       "        vertical-align: top;\n",
       "    }\n",
       "\n",
       "    .dataframe thead th {\n",
       "        text-align: right;\n",
       "    }\n",
       "</style>\n",
       "<table border=\"1\" class=\"dataframe\">\n",
       "  <thead>\n",
       "    <tr style=\"text-align: right;\">\n",
       "      <th></th>\n",
       "      <th>rating</th>\n",
       "      <th>label</th>\n",
       "      <th>review</th>\n",
       "      <th>clean_review</th>\n",
       "      <th>correct_spell</th>\n",
       "    </tr>\n",
       "  </thead>\n",
       "  <tbody>\n",
       "    <tr>\n",
       "      <th>0</th>\n",
       "      <td>4</td>\n",
       "      <td>1</td>\n",
       "      <td>\"nice hotel expensive parking got good deal st...</td>\n",
       "      <td>nice hotel expensive parking got good deal sta...</td>\n",
       "      <td>nice hotel expensive parking got good deal sta...</td>\n",
       "    </tr>\n",
       "    <tr>\n",
       "      <th>1</th>\n",
       "      <td>2</td>\n",
       "      <td>-1</td>\n",
       "      <td>\"ok nothing special charge diamond member hilt...</td>\n",
       "      <td>ok nothing special charge diamond member hilto...</td>\n",
       "      <td>ok nothing special charge diamond member hilto...</td>\n",
       "    </tr>\n",
       "    <tr>\n",
       "      <th>2</th>\n",
       "      <td>5</td>\n",
       "      <td>1</td>\n",
       "      <td>\"unique, great stay, wonderful time hotel mona...</td>\n",
       "      <td>unique great stay wonderful time hotel monaco ...</td>\n",
       "      <td>unique great stay wonderful time hotel monaco ...</td>\n",
       "    </tr>\n",
       "    <tr>\n",
       "      <th>3</th>\n",
       "      <td>5</td>\n",
       "      <td>1</td>\n",
       "      <td>\"great stay great stay, went seahawk game awes...</td>\n",
       "      <td>great stay great stay went seahawk game awesom...</td>\n",
       "      <td>great stay great stay went seahawks game aweso...</td>\n",
       "    </tr>\n",
       "    <tr>\n",
       "      <th>4</th>\n",
       "      <td>5</td>\n",
       "      <td>1</td>\n",
       "      <td>\"love monaco staff husband stayed hotel crazy ...</td>\n",
       "      <td>love monaco staff husband stayed hotel crazy w...</td>\n",
       "      <td>love monaco staff husband stayed hotel crazy w...</td>\n",
       "    </tr>\n",
       "  </tbody>\n",
       "</table>\n",
       "</div>"
      ],
      "text/plain": [
       "   rating  label                                             review  \\\n",
       "0       4      1  \"nice hotel expensive parking got good deal st...   \n",
       "1       2     -1  \"ok nothing special charge diamond member hilt...   \n",
       "2       5      1  \"unique, great stay, wonderful time hotel mona...   \n",
       "3       5      1  \"great stay great stay, went seahawk game awes...   \n",
       "4       5      1  \"love monaco staff husband stayed hotel crazy ...   \n",
       "\n",
       "                                        clean_review  \\\n",
       "0  nice hotel expensive parking got good deal sta...   \n",
       "1  ok nothing special charge diamond member hilto...   \n",
       "2  unique great stay wonderful time hotel monaco ...   \n",
       "3  great stay great stay went seahawk game awesom...   \n",
       "4  love monaco staff husband stayed hotel crazy w...   \n",
       "\n",
       "                                       correct_spell  \n",
       "0  nice hotel expensive parking got good deal sta...  \n",
       "1  ok nothing special charge diamond member hilto...  \n",
       "2  unique great stay wonderful time hotel monaco ...  \n",
       "3  great stay great stay went seahawks game aweso...  \n",
       "4  love monaco staff husband stayed hotel crazy w...  "
      ]
     },
     "execution_count": 3,
     "metadata": {},
     "output_type": "execute_result"
    }
   ],
   "source": [
    "retrieved_processed_data.head()"
   ]
  },
  {
   "cell_type": "code",
   "execution_count": 5,
   "id": "c95f1ad6",
   "metadata": {},
   "outputs": [
    {
     "data": {
      "text/html": [
       "<div>\n",
       "<style scoped>\n",
       "    .dataframe tbody tr th:only-of-type {\n",
       "        vertical-align: middle;\n",
       "    }\n",
       "\n",
       "    .dataframe tbody tr th {\n",
       "        vertical-align: top;\n",
       "    }\n",
       "\n",
       "    .dataframe thead th {\n",
       "        text-align: right;\n",
       "    }\n",
       "</style>\n",
       "<table border=\"1\" class=\"dataframe\">\n",
       "  <thead>\n",
       "    <tr style=\"text-align: right;\">\n",
       "      <th></th>\n",
       "      <th>rating</th>\n",
       "      <th>label</th>\n",
       "      <th>review</th>\n",
       "      <th>clean_review</th>\n",
       "      <th>correct_spell</th>\n",
       "    </tr>\n",
       "  </thead>\n",
       "  <tbody>\n",
       "    <tr>\n",
       "      <th>0</th>\n",
       "      <td>4</td>\n",
       "      <td>1</td>\n",
       "      <td>\"nice hotel expensive parking got good deal stay hotel anniversary, arrived late evening took advice previous reviews did valet parking, check quick easy, little disappointed non-existent view room room clean nice size, bed comfortable woke stiff neck high pillows, not soundproof like heard music room night morning loud bangs doors opening closing hear people talking hallway, maybe just noisy neighbors, aveda bath products nice, did not goldfish stay nice touch taken advantage staying longer, location great walking distance shopping, overall nice experience having pay 40 parking night</td>\n",
       "      <td>nice hotel expensive parking got good deal stay hotel anniversary arrived late evening took advice previous reviews valet parking check quick easy little disappointed non existent view room room clean nice size bed comfortable woke stiff neck high pillows soundproof like heard music room night morning loud bangs doors opening closing hear people talking hallway maybe noisy neighbors aveda bath products nice goldfish stay nice touch taken advantage staying longer location great walking distance shopping overall nice experience pay parking night</td>\n",
       "      <td>nice hotel expensive parking got good deal stay hotel anniversary arrived late evening took advice previous reviews valet parking check quick easy little disappointed non existent view room room clean nice size bed comfortable woke stiff neck high pillow soundproof like heard music room night morning loud bands doors opening closing hear people talking hallway maybe noisy neighbors lveda bath products nice goldfish stay nice touch taken advantage staying longer location great walking distance shopping overall nice experience pay parking night</td>\n",
       "    </tr>\n",
       "    <tr>\n",
       "      <th>1</th>\n",
       "      <td>2</td>\n",
       "      <td>-1</td>\n",
       "      <td>\"ok nothing special charge diamond member hilton decided chain shot 20th anniversary seattle, start booked suite paid extra website description not, suite bedroom bathroom standard hotel room, took printed reservation desk showed said things like tv couch ect desk clerk told oh mixed suites description kimpton website sorry free breakfast, got kidding, embassy suits sitting room bathroom bedroom unlike kimpton calls suite, 5 day stay offer correct false advertising, send kimpton preferred guest website email asking failure provide suite advertised website reservation description furnished hard copy reservation printout website desk manager duty did not reply solution, send email trip guest survey did not follow email mail, guess tell concerned guest.the staff ranged indifferent not helpful, asked desk good breakfast spots neighborhood hood told no hotels, gee best breakfast spots seattle 1/2 block away convenient hotel does not know exist, arrived late night 11 pm inside run bellman busy chating cell phone help bags.prior arrival emailed hotel inform 20th anniversary half really picky wanted make sure good, got nice email saying like deliver bottle champagne chocolate covered strawberries room arrival celebrate, told needed foam pillows, arrival no champagne strawberries no foam pillows great room view alley high rise building good not better housekeeping staff cleaner room property, impressed left morning shopping room got short trips 2 hours, beds comfortable.not good ac-heat control 4 x 4 inch screen bring green shine directly eyes night, light sensitive tape controls.this not 4 start hotel clean business hotel super high rates, better chain hotels seattle</td>\n",
       "      <td>ok nothing special charge diamond member hilton decided chain shot anniversary seattle start booked suite paid extra website description suite bedroom bathroom standard hotel room took printed reservation desk showed said things like tv couch ect desk clerk told oh mixed suites description kimpton website sorry free breakfast got kidding embassy suits sitting room bathroom bedroom unlike kimpton calls suite day stay offer correct false advertising send kimpton preferred guest website email asking failure provide suite advertised website reservation description furnished hard copy reservation printout website desk manager duty reply solution send email trip guest survey follow email mail guess tell concerned guest staff ranged indifferent helpful asked desk good breakfast spots neighborhood hood told hotels gee best breakfast spots seattle block away convenient hotel know exist arrived late night pm inside run bellman busy chating cell phone help bags prior arrival emailed hotel inform anniversary half really picky wanted make sure good got nice email saying like deliver bottle champagne chocolate covered strawberries room arrival celebrate told needed foam pillows arrival champagne strawberries foam pillows great room view alley high rise building good better housekeeping staff cleaner room property impressed left morning shopping room got short trips hours beds comfortable good ac heat control inch screen bring green shine directly eyes night light sensitive tape controls start hotel clean business hotel super high rates better chain hotels seattle</td>\n",
       "      <td>ok nothing special charge diamond member hilton decided chain shot anniversary seattle start booked suite paid extra website description suite bedroom bathroom standard hotel room took printed reservation desk showed said things like tv couch ect desk clerk told oh mixed suites description simpson website sorry free breakfast got kidding embassy suits sitting room bathroom bedroom unlike simpson calls suite day stay offer correct false advertising send simpson preferred guest website email asking failure provide suite advertised website reservation description furnished hard copy reservation printout website desk manager duty reply solution send email trip guest survey follow email mail guess tell concerned guest staff ranged indifferent helpful asked desk good breakfast spots neighborhood hood told hotels gee best breakfast spots seattle block away convenient hotel know exist arrived late night pm inside run bella busy charting cell phone help bags prior arrival emailed hotel inform anniversary half really picky wanted make sure good got nice email saying like deliver bottle champagne chocolate covered strawberries room arrival celebrate told needed foam pillow arrival champagne strawberries foam pillow great room view alley high rise building good better housekeeping staff cleaner room property impressed left morning shopping room got short trips hours beds comfortable good ac heat control inch screen bring green shine directly eyes night light sensitive tape controls start hotel clean business hotel super high rates better chain hotels seattle</td>\n",
       "    </tr>\n",
       "    <tr>\n",
       "      <th>2</th>\n",
       "      <td>5</td>\n",
       "      <td>1</td>\n",
       "      <td>\"unique, great stay, wonderful time hotel monaco, location excellent short stroll main downtown shopping area, pet friendly room showed no signs animal hair smells, monaco suite sleeping area big striped curtains pulled closed nice touch felt cosy, goldfish named brandi enjoyed, did n't partake free wine coffee/tea service lobby thought great feature, great staff friendly, free wireless internet hotel worked suite 2 laptops, decor lovely eclectic mix pattens color palatte, animal print bathrobes feel like rock stars, nice did n't look like sterile chain hotel hotel personality excellent stay</td>\n",
       "      <td>unique great stay wonderful time hotel monaco location excellent short stroll main downtown shopping area pet friendly room showed signs animal hair smells monaco suite sleeping area big striped curtains pulled closed nice touch felt cosy goldfish named brandi enjoyed partake free wine coffee tea service lobby thought great feature great staff friendly free wireless internet hotel worked suite laptops decor lovely eclectic mix pattens color palatte animal print bathrobes feel like rock stars nice look like sterile chain hotel hotel personality excellent stay</td>\n",
       "      <td>unique great stay wonderful time hotel monaco location excellent short stroll main downtown shopping area pet friendly room showed signs animal hair smells monaco suite sleeping area big striped curtains pulled closed nice touch felt copy goldfish named brand enjoyed partake free wine coffee tea service lobby thought great feature great staff friendly free wireless internet hotel worked suite laptops decor lovely eclectic mix patterns color palette animal print bathrooms feel like rock stars nice look like sterile chain hotel hotel personality excellent stay</td>\n",
       "    </tr>\n",
       "    <tr>\n",
       "      <th>3</th>\n",
       "      <td>5</td>\n",
       "      <td>1</td>\n",
       "      <td>\"great stay great stay, went seahawk game awesome, downfall view building did n't complain, room huge staff helpful, booked hotels website seahawk package, no charge parking got voucher taxi, problem taxi driver did n't want accept voucher barely spoke english, funny thing speak arabic called started making comments girlfriend cell phone buddy, took second realize just said fact speak language face priceless, ass told, said large city, told head doorman issue called cab company promply answer did n't, apologized offered pay taxi, bucks 2 miles stadium, game plan taxi return going humpin, great walk did n't mind, right christmas wonderful lights, homeless stowed away building entrances leave, police presence not greatest area stadium, activities 7 blocks pike street waterfront great coffee shops way, hotel mantained foyer awesome, wine tasting available evening, best dog, taking st. bernard time family, safes hotel located service desk room, bathroom huge jetted tub huge, funny house keeping walked girlfriend getting dressed, did n't hear knock doing turn service, screamed girlfriend screams hit floor laughing, started talking spanish worked, place recommend price, check online deals just good not better, besite contains deals vouchers travel websites n't tell</td>\n",
       "      <td>great stay great stay went seahawk game awesome downfall view building complain room huge staff helpful booked hotels website seahawk package charge parking got voucher taxi problem taxi driver want accept voucher barely spoke english funny thing speak arabic called started making comments girlfriend cell phone buddy took second realize said fact speak language face priceless ass told said large city told head doorman issue called cab company promply answer apologized offered pay taxi bucks miles stadium game plan taxi return going humpin great walk mind right christmas wonderful lights homeless stowed away building entrances leave police presence greatest area stadium activities blocks pike street waterfront great coffee shops way hotel mantained foyer awesome wine tasting available evening best dog taking bernard time family safes hotel located service desk room bathroom huge jetted tub huge funny house keeping walked girlfriend getting dressed hear knock turn service screamed girlfriend screams hit floor laughing started talking spanish worked place recommend price check online deals good better besite contains deals vouchers travel websites tell</td>\n",
       "      <td>great stay great stay went seahawks game awesome downfall view building complain room huge staff helpful booked hotels website seahawks package charge parking got voucher taxi problem taxi driver want accept voucher barely spoke english funny thing speak arabic called started making comments girlfriend cell phone buddy took second realize said fact speak language face priceless ass told said large city told head doorway issue called cab company promptly answer apologized offered pay taxi bucks miles stadium game plan taxi return going human great walk mind right christmas wonderful lights homeless showed away building entrances leave police presence greatest area stadium activities blocks pike street waterfront great coffee shops way hotel maintained foyer awesome wine tasting available evening best dog taking bernard time family sales hotel located service desk room bathroom huge netted tub huge funny house keeping walked girlfriend getting dressed hear knock turn service streamed girlfriend screams hit floor laughing started talking spanish worked place recommend price check online deals good better beside contains deals vouchers travel websites tell</td>\n",
       "    </tr>\n",
       "    <tr>\n",
       "      <th>4</th>\n",
       "      <td>5</td>\n",
       "      <td>1</td>\n",
       "      <td>\"love monaco staff husband stayed hotel crazy weekend attending memorial service best friend husband celebrating 12th wedding anniversary, talk mixed emotions, booked suite hotel monte carlos, loaned beautiful fan-tanned goldfish named joliet weekend visited dogs worked desk human companions, room decorated nicely couch used pillows, l'occitane bath amenities welcome sight, room quiet peaceful, wireless internet access wonderful server went morning leaving problems printing boarding passes, afternoon reception serves oenophile-satisfying wine australia scrumptious cookies, restaurant closed renovation stay finally ate food good drinks better, word caution restaurant larger person not sit booths wo n't fit, 5'6 125 lbs husband 5'9 175. table smack-against stomach couple inches space mighty uncomfortable patron larger pregnant, bad design opinion place decorated funky welcoming way metal wood handblown glass light fixtures expect seattle capital glass art industry, definitely stay reason</td>\n",
       "      <td>love monaco staff husband stayed hotel crazy weekend attending memorial service best friend husband celebrating wedding anniversary talk mixed emotions booked suite hotel monte carlos loaned beautiful fan tanned goldfish named joliet weekend visited dogs worked desk human companions room decorated nicely couch used pillows occitane bath amenities welcome sight room quiet peaceful wireless internet access wonderful server went morning leaving problems printing boarding passes afternoon reception serves oenophile satisfying wine australia scrumptious cookies restaurant closed renovation stay finally ate food good drinks better word caution restaurant larger person sit booths fit lbs husband table smack stomach couple inches space mighty uncomfortable patron larger pregnant bad design opinion place decorated funky welcoming way metal wood handblown glass light fixtures expect seattle capital glass art industry definitely stay reason</td>\n",
       "      <td>love monaco staff husband stayed hotel crazy weekend attending memorial service best friend husband celebrating wedding anniversary talk mixed emotions booked suite hotel monte carlos loaned beautiful fan banned goldfish named joint weekend visited dogs worked desk human companions room decorated nicely couch used pillow octane bath amenities welcome sight room quiet peaceful wireless internet access wonderful server went morning leaving problems printing boarding passes afternoon reception serves pedophile satisfying wine australia scrumptious cookies restaurant closed renovation stay finally ate food good drinks better word caution restaurant larger person sit booths fit lbs husband table smack stomach couple inches space mighty uncomfortable patron larger pregnant bad design opinion place decorated funky welcoming way metal wood handblown glass light fixtures expect seattle capital glass art industry definitely stay reason</td>\n",
       "    </tr>\n",
       "    <tr>\n",
       "      <th>5</th>\n",
       "      <td>5</td>\n",
       "      <td>1</td>\n",
       "      <td>\"cozy stay rainy city, husband spent 7 nights monaco early january 2008. business trip chance come ride.we booked monte carlo suite proved comfortable longish stay, room 905 located street building, street noise not problem view interesting rooms building look dank alley midsection large office building, suite comfortable plenty room spread, bathroom attractive squeaky clean small comparison generous proportions sitting sleeping areas, lots comfortable seating options good lighting plenty storage clothing luggage, hotel staff friendly efficient, housekeeping staff did great job pleasant, requests responded quickly.the location quite good, easy walk pike street market seattle art museum notch shopping dining options.a positive experience</td>\n",
       "      <td>cozy stay rainy city husband spent nights monaco early january business trip chance come ride booked monte carlo suite proved comfortable longish stay room located street building street noise problem view interesting rooms building look dank alley midsection large office building suite comfortable plenty room spread bathroom attractive squeaky clean small comparison generous proportions sitting sleeping areas lots comfortable seating options good lighting plenty storage clothing luggage hotel staff friendly efficient housekeeping staff great job pleasant requests responded quickly location quite good easy walk pike street market seattle art museum notch shopping dining options positive experience</td>\n",
       "      <td>copy stay rainy city husband spent nights monaco early january business trip chance come ride booked monte carlo suite proved comfortable longest stay room located street building street noise problem view interesting rooms building look rank alley dissection large office building suite comfortable plenty room spread bathroom attractive sneaky clean small comparison generous proportions sitting sleeping areas lots comfortable seating options good lighting plenty storage clothing luggage hotel staff friendly efficient housekeeping staff great job pleasant requests responded quickly location quite good easy walk pike street market seattle art museum notch shopping dining options positive experience</td>\n",
       "    </tr>\n",
       "    <tr>\n",
       "      <th>6</th>\n",
       "      <td>4</td>\n",
       "      <td>1</td>\n",
       "      <td>\"excellent staff, housekeeping quality hotel chocked staff make feel home, experienced exceptional service desk staff concierge door men maid service needs work, maid failed tuck sheets foot bed instance soiled sheets used, staff quickley resolved soiled sheets issue, guess relates employee not reflection rest staff.we received excellent advice concierge regarding resturants area happy hour wine tasting nice touch staff went way make feel home.great location like close good food shopping took play 5th street theather well.pikes market pioneer square access mono rail short walking distance</td>\n",
       "      <td>excellent staff housekeeping quality hotel chocked staff make feel home experienced exceptional service desk staff concierge door men maid service needs work maid failed tuck sheets foot bed instance soiled sheets used staff quickley resolved soiled sheets issue guess relates employee reflection rest staff received excellent advice concierge regarding resturants area happy hour wine tasting nice touch staff went way make feel home great location like close good food shopping took play street theather well pikes market pioneer square access mono rail short walking distance</td>\n",
       "      <td>excellent staff housekeeping quality hotel checked staff make feel home experienced exceptional service desk staff converge door men maid service needs work maid failed tuck sheets foot bed instance sailed sheets used staff quickly resolved sailed sheets issue guess relates employee reflection rest staff received excellent advice converge regarding restaurants area happy hour wine tasting nice touch staff went way make feel home great location like close good food shopping took play street theater well likes market pioneer square access mono rail short walking distance</td>\n",
       "    </tr>\n",
       "    <tr>\n",
       "      <th>7</th>\n",
       "      <td>5</td>\n",
       "      <td>1</td>\n",
       "      <td>\"hotel stayed hotel monaco cruise, rooms generous decorated uniquely, hotel remodeled pacific bell building charm sturdiness, everytime walked bell men felt like coming home, secure, great single travelers, location fabulous, walk things pike market space needle.little grocery/drug store block away, today green, bravo, 1 double bed room room bed couch separated curtain, snoring mom slept curtain, great food nearby</td>\n",
       "      <td>hotel stayed hotel monaco cruise rooms generous decorated uniquely hotel remodeled pacific bell building charm sturdiness everytime walked bell men felt like coming home secure great single travelers location fabulous walk things pike market space needle little grocery drug store block away today green bravo double bed room room bed couch separated curtain snoring mom slept curtain great food nearby</td>\n",
       "      <td>hotel stayed hotel monaco cruise rooms generous decorated uniquely hotel remodeled pacific bell building charm sturdiness overtime walked bell men felt like coming home secure great single travelers location fabulous walk things pike market space needle little grocery drug store block away today green bravo double bed room room bed couch separated curtain scoring mom slept curtain great food nearby</td>\n",
       "    </tr>\n",
       "    <tr>\n",
       "      <th>8</th>\n",
       "      <td>5</td>\n",
       "      <td>1</td>\n",
       "      <td>\"excellent stayed hotel monaco past w/e delight, reception staff friendly professional room smart comfortable bed, particularly liked reception small dog received staff guests spoke loved, mild negative distance uphill ppmarket restaurants 1st, overall great experience</td>\n",
       "      <td>excellent stayed hotel monaco past delight reception staff friendly professional room smart comfortable bed particularly liked reception small dog received staff guests spoke loved mild negative distance uphill ppmarket restaurants overall great experience</td>\n",
       "      <td>excellent stayed hotel monaco past delight reception staff friendly professional room smart comfortable bed particularly liked reception small dog received staff guests spoke loved mild negative distance uphill market restaurants overall great experience</td>\n",
       "    </tr>\n",
       "    <tr>\n",
       "      <th>9</th>\n",
       "      <td>2</td>\n",
       "      <td>-1</td>\n",
       "      <td>\"poor value stayed monaco seattle july, nice hotel priced 100- 150 night not, hotel takes beating quotient, experience simply average, nothing exceptional paying 300+ n't ca n't terribly disappointed, wife stayed nicest suites 200/night felt like overpaying, best advice shop, quality-wise league average marriott nice best western</td>\n",
       "      <td>poor value stayed monaco seattle july nice hotel priced night hotel takes beating quotient experience simply average nothing exceptional paying ca terribly disappointed wife stayed nicest suites night felt like overpaying best advice shop quality wise league average marriott nice best western</td>\n",
       "      <td>poor value stayed monaco seattle july nice hotel priced night hotel takes beating quotient experience simply average nothing exceptional paying ca terribly disappointed wife stayed incest suites night felt like overtaking best advice shop quality wise league average marriott nice best western</td>\n",
       "    </tr>\n",
       "  </tbody>\n",
       "</table>\n",
       "</div>"
      ],
      "text/plain": [
       "   rating  label  \\\n",
       "0       4      1   \n",
       "1       2     -1   \n",
       "2       5      1   \n",
       "3       5      1   \n",
       "4       5      1   \n",
       "5       5      1   \n",
       "6       4      1   \n",
       "7       5      1   \n",
       "8       5      1   \n",
       "9       2     -1   \n",
       "\n",
       "                                                                                                                                                                                                                                                                                                                                                                                                                                                                                                                                                                                                                                                                                                                                                                                                                                                                                                                                                                                                                                                                                                                                                                                                                                                                                                                                                                                                                                                                                                                                                                                                                                                                                                                                                    review  \\\n",
       "0                                                                                                                                                                                                                                                                                                                                                                                                                                                                                                                                                                                                                                                                                                                                                                                                                                                                                                                                                                                                                                                                                                                                          \"nice hotel expensive parking got good deal stay hotel anniversary, arrived late evening took advice previous reviews did valet parking, check quick easy, little disappointed non-existent view room room clean nice size, bed comfortable woke stiff neck high pillows, not soundproof like heard music room night morning loud bangs doors opening closing hear people talking hallway, maybe just noisy neighbors, aveda bath products nice, did not goldfish stay nice touch taken advantage staying longer, location great walking distance shopping, overall nice experience having pay 40 parking night   \n",
       "1  \"ok nothing special charge diamond member hilton decided chain shot 20th anniversary seattle, start booked suite paid extra website description not, suite bedroom bathroom standard hotel room, took printed reservation desk showed said things like tv couch ect desk clerk told oh mixed suites description kimpton website sorry free breakfast, got kidding, embassy suits sitting room bathroom bedroom unlike kimpton calls suite, 5 day stay offer correct false advertising, send kimpton preferred guest website email asking failure provide suite advertised website reservation description furnished hard copy reservation printout website desk manager duty did not reply solution, send email trip guest survey did not follow email mail, guess tell concerned guest.the staff ranged indifferent not helpful, asked desk good breakfast spots neighborhood hood told no hotels, gee best breakfast spots seattle 1/2 block away convenient hotel does not know exist, arrived late night 11 pm inside run bellman busy chating cell phone help bags.prior arrival emailed hotel inform 20th anniversary half really picky wanted make sure good, got nice email saying like deliver bottle champagne chocolate covered strawberries room arrival celebrate, told needed foam pillows, arrival no champagne strawberries no foam pillows great room view alley high rise building good not better housekeeping staff cleaner room property, impressed left morning shopping room got short trips 2 hours, beds comfortable.not good ac-heat control 4 x 4 inch screen bring green shine directly eyes night, light sensitive tape controls.this not 4 start hotel clean business hotel super high rates, better chain hotels seattle   \n",
       "2                                                                                                                                                                                                                                                                                                                                                                                                                                                                                                                                                                                                                                                                                                                                                                                                                                                                                                                                                                                                                                                                                                                                   \"unique, great stay, wonderful time hotel monaco, location excellent short stroll main downtown shopping area, pet friendly room showed no signs animal hair smells, monaco suite sleeping area big striped curtains pulled closed nice touch felt cosy, goldfish named brandi enjoyed, did n't partake free wine coffee/tea service lobby thought great feature, great staff friendly, free wireless internet hotel worked suite 2 laptops, decor lovely eclectic mix pattens color palatte, animal print bathrobes feel like rock stars, nice did n't look like sterile chain hotel hotel personality excellent stay   \n",
       "3                                                                                                                                                                                                                                                                                                                                                                                                                          \"great stay great stay, went seahawk game awesome, downfall view building did n't complain, room huge staff helpful, booked hotels website seahawk package, no charge parking got voucher taxi, problem taxi driver did n't want accept voucher barely spoke english, funny thing speak arabic called started making comments girlfriend cell phone buddy, took second realize just said fact speak language face priceless, ass told, said large city, told head doorman issue called cab company promply answer did n't, apologized offered pay taxi, bucks 2 miles stadium, game plan taxi return going humpin, great walk did n't mind, right christmas wonderful lights, homeless stowed away building entrances leave, police presence not greatest area stadium, activities 7 blocks pike street waterfront great coffee shops way, hotel mantained foyer awesome, wine tasting available evening, best dog, taking st. bernard time family, safes hotel located service desk room, bathroom huge jetted tub huge, funny house keeping walked girlfriend getting dressed, did n't hear knock doing turn service, screamed girlfriend screams hit floor laughing, started talking spanish worked, place recommend price, check online deals just good not better, besite contains deals vouchers travel websites n't tell   \n",
       "4                                                                                                                                                                                                                                                                                                                                                                                                                                                                                                                                                                                                                                                                                                                 \"love monaco staff husband stayed hotel crazy weekend attending memorial service best friend husband celebrating 12th wedding anniversary, talk mixed emotions, booked suite hotel monte carlos, loaned beautiful fan-tanned goldfish named joliet weekend visited dogs worked desk human companions, room decorated nicely couch used pillows, l'occitane bath amenities welcome sight, room quiet peaceful, wireless internet access wonderful server went morning leaving problems printing boarding passes, afternoon reception serves oenophile-satisfying wine australia scrumptious cookies, restaurant closed renovation stay finally ate food good drinks better, word caution restaurant larger person not sit booths wo n't fit, 5'6 125 lbs husband 5'9 175. table smack-against stomach couple inches space mighty uncomfortable patron larger pregnant, bad design opinion place decorated funky welcoming way metal wood handblown glass light fixtures expect seattle capital glass art industry, definitely stay reason   \n",
       "5                                                                                                                                                                                                                                                                                                                                                                                                                                                                                                                                                                                                                                                                                                                                                                                                                                                                                                                                                                               \"cozy stay rainy city, husband spent 7 nights monaco early january 2008. business trip chance come ride.we booked monte carlo suite proved comfortable longish stay, room 905 located street building, street noise not problem view interesting rooms building look dank alley midsection large office building, suite comfortable plenty room spread, bathroom attractive squeaky clean small comparison generous proportions sitting sleeping areas, lots comfortable seating options good lighting plenty storage clothing luggage, hotel staff friendly efficient, housekeeping staff did great job pleasant, requests responded quickly.the location quite good, easy walk pike street market seattle art museum notch shopping dining options.a positive experience   \n",
       "6                                                                                                                                                                                                                                                                                                                                                                                                                                                                                                                                                                                                                                                                                                                                                                                                                                                                                                                                                                                                                                                                                                                                      \"excellent staff, housekeeping quality hotel chocked staff make feel home, experienced exceptional service desk staff concierge door men maid service needs work, maid failed tuck sheets foot bed instance soiled sheets used, staff quickley resolved soiled sheets issue, guess relates employee not reflection rest staff.we received excellent advice concierge regarding resturants area happy hour wine tasting nice touch staff went way make feel home.great location like close good food shopping took play 5th street theather well.pikes market pioneer square access mono rail short walking distance   \n",
       "7                                                                                                                                                                                                                                                                                                                                                                                                                                                                                                                                                                                                                                                                                                                                                                                                                                                                                                                                                                                                                                                                                                                                                                                                                                                                                                                        \"hotel stayed hotel monaco cruise, rooms generous decorated uniquely, hotel remodeled pacific bell building charm sturdiness, everytime walked bell men felt like coming home, secure, great single travelers, location fabulous, walk things pike market space needle.little grocery/drug store block away, today green, bravo, 1 double bed room room bed couch separated curtain, snoring mom slept curtain, great food nearby   \n",
       "8                                                                                                                                                                                                                                                                                                                                                                                                                                                                                                                                                                                                                                                                                                                                                                                                                                                                                                                                                                                                                                                                                                                                                                                                                                                                                                                                                                                                                                                                            \"excellent stayed hotel monaco past w/e delight, reception staff friendly professional room smart comfortable bed, particularly liked reception small dog received staff guests spoke loved, mild negative distance uphill ppmarket restaurants 1st, overall great experience   \n",
       "9                                                                                                                                                                                                                                                                                                                                                                                                                                                                                                                                                                                                                                                                                                                                                                                                                                                                                                                                                                                                                                                                                                                                                                                                                                                                                                                                                                                                              \"poor value stayed monaco seattle july, nice hotel priced 100- 150 night not, hotel takes beating quotient, experience simply average, nothing exceptional paying 300+ n't ca n't terribly disappointed, wife stayed nicest suites 200/night felt like overpaying, best advice shop, quality-wise league average marriott nice best western   \n",
       "\n",
       "                                                                                                                                                                                                                                                                                                                                                                                                                                                                                                                                                                                                                                                                                                                                                                                                                                                                                                                                                                                                                                                                                                                                                                                                                                                                                                                                                                                                                                                                                                                                                                                                                              clean_review  \\\n",
       "0                                                                                                                                                                                                                                                                                                                                                                                                                                                                                                                                                                                                                                                                                                                                                                                                                                                                                                                                                                                                                                                                    nice hotel expensive parking got good deal stay hotel anniversary arrived late evening took advice previous reviews valet parking check quick easy little disappointed non existent view room room clean nice size bed comfortable woke stiff neck high pillows soundproof like heard music room night morning loud bangs doors opening closing hear people talking hallway maybe noisy neighbors aveda bath products nice goldfish stay nice touch taken advantage staying longer location great walking distance shopping overall nice experience pay parking night   \n",
       "1  ok nothing special charge diamond member hilton decided chain shot anniversary seattle start booked suite paid extra website description suite bedroom bathroom standard hotel room took printed reservation desk showed said things like tv couch ect desk clerk told oh mixed suites description kimpton website sorry free breakfast got kidding embassy suits sitting room bathroom bedroom unlike kimpton calls suite day stay offer correct false advertising send kimpton preferred guest website email asking failure provide suite advertised website reservation description furnished hard copy reservation printout website desk manager duty reply solution send email trip guest survey follow email mail guess tell concerned guest staff ranged indifferent helpful asked desk good breakfast spots neighborhood hood told hotels gee best breakfast spots seattle block away convenient hotel know exist arrived late night pm inside run bellman busy chating cell phone help bags prior arrival emailed hotel inform anniversary half really picky wanted make sure good got nice email saying like deliver bottle champagne chocolate covered strawberries room arrival celebrate told needed foam pillows arrival champagne strawberries foam pillows great room view alley high rise building good better housekeeping staff cleaner room property impressed left morning shopping room got short trips hours beds comfortable good ac heat control inch screen bring green shine directly eyes night light sensitive tape controls start hotel clean business hotel super high rates better chain hotels seattle   \n",
       "2                                                                                                                                                                                                                                                                                                                                                                                                                                                                                                                                                                                                                                                                                                                                                                                                                                                                                                                                                                                                                                                     unique great stay wonderful time hotel monaco location excellent short stroll main downtown shopping area pet friendly room showed signs animal hair smells monaco suite sleeping area big striped curtains pulled closed nice touch felt cosy goldfish named brandi enjoyed partake free wine coffee tea service lobby thought great feature great staff friendly free wireless internet hotel worked suite laptops decor lovely eclectic mix pattens color palatte animal print bathrobes feel like rock stars nice look like sterile chain hotel hotel personality excellent stay   \n",
       "3                                                                                                                                                                                                                                                                                                                                                                                                                          great stay great stay went seahawk game awesome downfall view building complain room huge staff helpful booked hotels website seahawk package charge parking got voucher taxi problem taxi driver want accept voucher barely spoke english funny thing speak arabic called started making comments girlfriend cell phone buddy took second realize said fact speak language face priceless ass told said large city told head doorman issue called cab company promply answer apologized offered pay taxi bucks miles stadium game plan taxi return going humpin great walk mind right christmas wonderful lights homeless stowed away building entrances leave police presence greatest area stadium activities blocks pike street waterfront great coffee shops way hotel mantained foyer awesome wine tasting available evening best dog taking bernard time family safes hotel located service desk room bathroom huge jetted tub huge funny house keeping walked girlfriend getting dressed hear knock turn service screamed girlfriend screams hit floor laughing started talking spanish worked place recommend price check online deals good better besite contains deals vouchers travel websites tell   \n",
       "4                                                                                                                                                                                                                                                                                                                                                                                                                                                                                                                                                                                                                                                          love monaco staff husband stayed hotel crazy weekend attending memorial service best friend husband celebrating wedding anniversary talk mixed emotions booked suite hotel monte carlos loaned beautiful fan tanned goldfish named joliet weekend visited dogs worked desk human companions room decorated nicely couch used pillows occitane bath amenities welcome sight room quiet peaceful wireless internet access wonderful server went morning leaving problems printing boarding passes afternoon reception serves oenophile satisfying wine australia scrumptious cookies restaurant closed renovation stay finally ate food good drinks better word caution restaurant larger person sit booths fit lbs husband table smack stomach couple inches space mighty uncomfortable patron larger pregnant bad design opinion place decorated funky welcoming way metal wood handblown glass light fixtures expect seattle capital glass art industry definitely stay reason   \n",
       "5                                                                                                                                                                                                                                                                                                                                                                                                                                                                                                                                                                                                                                                                                                                                                                                                                                                                                                       cozy stay rainy city husband spent nights monaco early january business trip chance come ride booked monte carlo suite proved comfortable longish stay room located street building street noise problem view interesting rooms building look dank alley midsection large office building suite comfortable plenty room spread bathroom attractive squeaky clean small comparison generous proportions sitting sleeping areas lots comfortable seating options good lighting plenty storage clothing luggage hotel staff friendly efficient housekeeping staff great job pleasant requests responded quickly location quite good easy walk pike street market seattle art museum notch shopping dining options positive experience   \n",
       "6                                                                                                                                                                                                                                                                                                                                                                                                                                                                                                                                                                                                                                                                                                                                                                                                                                                                                                                                                                                                                                       excellent staff housekeeping quality hotel chocked staff make feel home experienced exceptional service desk staff concierge door men maid service needs work maid failed tuck sheets foot bed instance soiled sheets used staff quickley resolved soiled sheets issue guess relates employee reflection rest staff received excellent advice concierge regarding resturants area happy hour wine tasting nice touch staff went way make feel home great location like close good food shopping took play street theather well pikes market pioneer square access mono rail short walking distance   \n",
       "7                                                                                                                                                                                                                                                                                                                                                                                                                                                                                                                                                                                                                                                                                                                                                                                                                                                                                                                                                                                                                                                                                                                                                                                                                       hotel stayed hotel monaco cruise rooms generous decorated uniquely hotel remodeled pacific bell building charm sturdiness everytime walked bell men felt like coming home secure great single travelers location fabulous walk things pike market space needle little grocery drug store block away today green bravo double bed room room bed couch separated curtain snoring mom slept curtain great food nearby   \n",
       "8                                                                                                                                                                                                                                                                                                                                                                                                                                                                                                                                                                                                                                                                                                                                                                                                                                                                                                                                                                                                                                                                                                                                                                                                                                                                                                                                                                         excellent stayed hotel monaco past delight reception staff friendly professional room smart comfortable bed particularly liked reception small dog received staff guests spoke loved mild negative distance uphill ppmarket restaurants overall great experience   \n",
       "9                                                                                                                                                                                                                                                                                                                                                                                                                                                                                                                                                                                                                                                                                                                                                                                                                                                                                                                                                                                                                                                                                                                                                                                                                                                                                                                                    poor value stayed monaco seattle july nice hotel priced night hotel takes beating quotient experience simply average nothing exceptional paying ca terribly disappointed wife stayed nicest suites night felt like overpaying best advice shop quality wise league average marriott nice best western   \n",
       "\n",
       "                                                                                                                                                                                                                                                                                                                                                                                                                                                                                                                                                                                                                                                                                                                                                                                                                                                                                                                                                                                                                                                                                                                                                                                                                                                                                                                                                                                                                                                                                                                                                                                                                          correct_spell  \n",
       "0                                                                                                                                                                                                                                                                                                                                                                                                                                                                                                                                                                                                                                                                                                                                                                                                                                                                                                                                                                                                                                                                  nice hotel expensive parking got good deal stay hotel anniversary arrived late evening took advice previous reviews valet parking check quick easy little disappointed non existent view room room clean nice size bed comfortable woke stiff neck high pillow soundproof like heard music room night morning loud bands doors opening closing hear people talking hallway maybe noisy neighbors lveda bath products nice goldfish stay nice touch taken advantage staying longer location great walking distance shopping overall nice experience pay parking night  \n",
       "1  ok nothing special charge diamond member hilton decided chain shot anniversary seattle start booked suite paid extra website description suite bedroom bathroom standard hotel room took printed reservation desk showed said things like tv couch ect desk clerk told oh mixed suites description simpson website sorry free breakfast got kidding embassy suits sitting room bathroom bedroom unlike simpson calls suite day stay offer correct false advertising send simpson preferred guest website email asking failure provide suite advertised website reservation description furnished hard copy reservation printout website desk manager duty reply solution send email trip guest survey follow email mail guess tell concerned guest staff ranged indifferent helpful asked desk good breakfast spots neighborhood hood told hotels gee best breakfast spots seattle block away convenient hotel know exist arrived late night pm inside run bella busy charting cell phone help bags prior arrival emailed hotel inform anniversary half really picky wanted make sure good got nice email saying like deliver bottle champagne chocolate covered strawberries room arrival celebrate told needed foam pillow arrival champagne strawberries foam pillow great room view alley high rise building good better housekeeping staff cleaner room property impressed left morning shopping room got short trips hours beds comfortable good ac heat control inch screen bring green shine directly eyes night light sensitive tape controls start hotel clean business hotel super high rates better chain hotels seattle  \n",
       "2                                                                                                                                                                                                                                                                                                                                                                                                                                                                                                                                                                                                                                                                                                                                                                                                                                                                                                                                                                                                                                                  unique great stay wonderful time hotel monaco location excellent short stroll main downtown shopping area pet friendly room showed signs animal hair smells monaco suite sleeping area big striped curtains pulled closed nice touch felt copy goldfish named brand enjoyed partake free wine coffee tea service lobby thought great feature great staff friendly free wireless internet hotel worked suite laptops decor lovely eclectic mix patterns color palette animal print bathrooms feel like rock stars nice look like sterile chain hotel hotel personality excellent stay  \n",
       "3                                                                                                                                                                                                                                                                                                                                                                                                                    great stay great stay went seahawks game awesome downfall view building complain room huge staff helpful booked hotels website seahawks package charge parking got voucher taxi problem taxi driver want accept voucher barely spoke english funny thing speak arabic called started making comments girlfriend cell phone buddy took second realize said fact speak language face priceless ass told said large city told head doorway issue called cab company promptly answer apologized offered pay taxi bucks miles stadium game plan taxi return going human great walk mind right christmas wonderful lights homeless showed away building entrances leave police presence greatest area stadium activities blocks pike street waterfront great coffee shops way hotel maintained foyer awesome wine tasting available evening best dog taking bernard time family sales hotel located service desk room bathroom huge netted tub huge funny house keeping walked girlfriend getting dressed hear knock turn service streamed girlfriend screams hit floor laughing started talking spanish worked place recommend price check online deals good better beside contains deals vouchers travel websites tell  \n",
       "4                                                                                                                                                                                                                                                                                                                                                                                                                                                                                                                                                                                                                                                           love monaco staff husband stayed hotel crazy weekend attending memorial service best friend husband celebrating wedding anniversary talk mixed emotions booked suite hotel monte carlos loaned beautiful fan banned goldfish named joint weekend visited dogs worked desk human companions room decorated nicely couch used pillow octane bath amenities welcome sight room quiet peaceful wireless internet access wonderful server went morning leaving problems printing boarding passes afternoon reception serves pedophile satisfying wine australia scrumptious cookies restaurant closed renovation stay finally ate food good drinks better word caution restaurant larger person sit booths fit lbs husband table smack stomach couple inches space mighty uncomfortable patron larger pregnant bad design opinion place decorated funky welcoming way metal wood handblown glass light fixtures expect seattle capital glass art industry definitely stay reason  \n",
       "5                                                                                                                                                                                                                                                                                                                                                                                                                                                                                                                                                                                                                                                                                                                                                                                                                                                                                                     copy stay rainy city husband spent nights monaco early january business trip chance come ride booked monte carlo suite proved comfortable longest stay room located street building street noise problem view interesting rooms building look rank alley dissection large office building suite comfortable plenty room spread bathroom attractive sneaky clean small comparison generous proportions sitting sleeping areas lots comfortable seating options good lighting plenty storage clothing luggage hotel staff friendly efficient housekeeping staff great job pleasant requests responded quickly location quite good easy walk pike street market seattle art museum notch shopping dining options positive experience  \n",
       "6                                                                                                                                                                                                                                                                                                                                                                                                                                                                                                                                                                                                                                                                                                                                                                                                                                                                                                                                                                                                                                       excellent staff housekeeping quality hotel checked staff make feel home experienced exceptional service desk staff converge door men maid service needs work maid failed tuck sheets foot bed instance sailed sheets used staff quickly resolved sailed sheets issue guess relates employee reflection rest staff received excellent advice converge regarding restaurants area happy hour wine tasting nice touch staff went way make feel home great location like close good food shopping took play street theater well likes market pioneer square access mono rail short walking distance  \n",
       "7                                                                                                                                                                                                                                                                                                                                                                                                                                                                                                                                                                                                                                                                                                                                                                                                                                                                                                                                                                                                                                                                                                                                                                                                                     hotel stayed hotel monaco cruise rooms generous decorated uniquely hotel remodeled pacific bell building charm sturdiness overtime walked bell men felt like coming home secure great single travelers location fabulous walk things pike market space needle little grocery drug store block away today green bravo double bed room room bed couch separated curtain scoring mom slept curtain great food nearby  \n",
       "8                                                                                                                                                                                                                                                                                                                                                                                                                                                                                                                                                                                                                                                                                                                                                                                                                                                                                                                                                                                                                                                                                                                                                                                                                                                                                                                                                                        excellent stayed hotel monaco past delight reception staff friendly professional room smart comfortable bed particularly liked reception small dog received staff guests spoke loved mild negative distance uphill market restaurants overall great experience  \n",
       "9                                                                                                                                                                                                                                                                                                                                                                                                                                                                                                                                                                                                                                                                                                                                                                                                                                                                                                                                                                                                                                                                                                                                                                                                                                                                                                                                 poor value stayed monaco seattle july nice hotel priced night hotel takes beating quotient experience simply average nothing exceptional paying ca terribly disappointed wife stayed incest suites night felt like overtaking best advice shop quality wise league average marriott nice best western  "
      ]
     },
     "execution_count": 5,
     "metadata": {},
     "output_type": "execute_result"
    }
   ],
   "source": [
    "pd.set_option('display.max_colwidth', 2000)\n",
    "retrieved_processed_data.head(10)"
   ]
  },
  {
   "cell_type": "markdown",
   "id": "954df55a",
   "metadata": {},
   "source": [
    "## Pre-processing: apply stemming"
   ]
  },
  {
   "cell_type": "code",
   "execution_count": 6,
   "id": "5b310e04",
   "metadata": {},
   "outputs": [],
   "source": [
    "# Perform stemming\n",
    "import nltk\n",
    "p_stemmer = nltk.PorterStemmer()\n",
    "\n",
    "def stem_text(text_to_stem):\n",
    "    token_words = text_to_stem.split()\n",
    "    stemmed_text = [p_stemmer.stem(word) for word in token_words]\n",
    "    return stemmed_text"
   ]
  },
  {
   "cell_type": "markdown",
   "id": "1972470f",
   "metadata": {},
   "source": [
    "## End pre-processing with stemming"
   ]
  },
  {
   "cell_type": "code",
   "execution_count": null,
   "id": "e9cfdcac",
   "metadata": {},
   "outputs": [],
   "source": [
    "# INTENTIONALLY LEFT EMPTY"
   ]
  },
  {
   "cell_type": "markdown",
   "id": "8e5e20db",
   "metadata": {},
   "source": [
    "# Start Feature generation: TF-IDF"
   ]
  },
  {
   "cell_type": "code",
   "execution_count": 35,
   "id": "5d9b6561",
   "metadata": {},
   "outputs": [
    {
     "name": "stdout",
     "output_type": "stream",
     "text": [
      "(18307, 20611)\n"
     ]
    }
   ],
   "source": [
    "# # Create TF-IDF features\n",
    "from sklearn.feature_extraction.text import TfidfVectorizer\n",
    "\n",
    "tfidf_vect = TfidfVectorizer(analyzer=stem_text)\n",
    "all_data_tfidf = tfidf_vect.fit_transform(retrieved_processed_data['correct_spell'])\n",
    "print(all_data_tfidf.shape)\n",
    "\n"
   ]
  },
  {
   "cell_type": "code",
   "execution_count": 36,
   "id": "3db64435",
   "metadata": {},
   "outputs": [],
   "source": [
    "# Create the final data as X_all_df\n",
    "X_all_df=pd.DataFrame(all_data_tfidf.toarray())\n",
    "X_all_df.columns=tfidf_vect.get_feature_names_out()\n"
   ]
  },
  {
   "cell_type": "code",
   "execution_count": 38,
   "id": "4b4cf58b",
   "metadata": {},
   "outputs": [
    {
     "name": "stdout",
     "output_type": "stream",
     "text": [
      "['__' '___' '____' '___c' '___f' '___îè' '___îè_' '__a' '__ade' '__chain'\n",
      " '__oi' '__rich' '__àhi' '__ç' '__ç_' '__ç__' '__ç_à_he' '__ç_àêo'\n",
      " '__ç_é_' '__çî' '__çî_' '_a' '_after' '_always_' '_bird' '_ck' '_e'\n",
      " '_e__ç_é' '_e__ç_é_' '_f' '_he' '_hen' '_hey' '_hi' '_howev' '_huge_'\n",
      " '_ic' '_int__ç_' '_ip' '_lobbi' '_lowstrass' '_luggag' '_me' '_navbox_'\n",
      " '_o' '_octan' '_on__ç_é_' '_ore' '_ranger' '_riomph' '_rstendamm' '_t'\n",
      " '_though' '_tool' '_torpedo' '_total' '_tre' '_ubb' '_ut' '_which'\n",
      " '_x__ç_' '_èæ' '_êteau' '_ù' 'aa' 'aaa' 'aaaa' 'aaaaaa' 'aaaaaaaaa'\n",
      " 'aaaaaaaaaaaaaaa' 'aaahhh' 'aab' 'aaffaa' 'aah' 'aaron' 'aarrgh' 'ab'\n",
      " 'abac' 'abandon' 'abbeloui' 'abbey' 'abbot' 'abbott' 'abbr' 'abbrev'\n",
      " 'abbrevi' 'abc' 'abd' 'abderahim' 'abdic' 'abdomin' 'abdulaziz' 'abe'\n",
      " 'abel' 'abelian' 'aber' 'abercrombi' 'aberdeen' 'abid' 'abigail' 'abil'\n",
      " 'abl' 'abnorm' 'aboard' 'abod' 'abomin' 'aborigin' 'abort' 'abound'\n",
      " 'about' 'aboutth' 'abov' 'abraham' 'abras' 'abreast' 'abroad' 'abrupt'\n",
      " 'abruzzo' 'absaloutli' 'absenc' 'absent' 'absente' 'absmag' 'absolut'\n",
      " 'absolutelylov' 'absorb' 'absorpt' 'absouloutli' 'abstract' 'absurd'\n",
      " 'abt' 'abuelita' 'abund' 'abundantli' 'abus' 'abysm' 'ac' 'academ'\n",
      " 'academi' 'academia' 'academician__ç_é_' 'acapolco' 'acapulco' 'acc'\n",
      " 'acccomad' 'acced' 'acceler' 'accent' 'accentu' 'accept' 'acceptableday'\n",
      " 'accerif' 'access' 'access__ç' 'accessori' 'accid' 'accident' 'acclaim'\n",
      " 'acclim' 'acclimat' 'acclimatis' 'accolad' 'accomadi' 'accomadt'\n",
      " 'accommod' 'accommodatingbeach' 'accommodationth' 'accomodationaccomod'\n",
      " 'accompani' 'accomplish' 'accord' 'accordingli' 'accordion' 'account'\n",
      " 'accoutr' 'accru' 'accumul' 'accupressur' 'accur' 'accuraci' 'accus'\n",
      " 'accusatori' 'accustom' 'ace' 'ach' 'achiev' 'achingli' 'achogol'\n",
      " 'acidophilu' 'acknowledg' 'acl' 'acomid' 'acommodationsjun' 'acoust'\n",
      " 'acquaint' 'acqualina' 'acquir' 'acr' 'acrobat' 'across' 'acrossth'\n",
      " 'acrosstwo' 'act' 'action' 'activ' 'activepool' 'activities__ç'\n",
      " 'activities__çî_åut' 'activitiesand' 'activitiesth' 'activitiesthi'\n",
      " 'activity__ç' 'activity__ç_é_' 'actor' 'actress' 'actual' 'acumen'\n",
      " 'acupressur' 'acupunctur' 'ad' 'ada' 'adag' 'adam' 'adam__ç_é_'\n",
      " 'adams__ç' 'adapt' 'adaptersbest' 'adaptor' 'add' 'addedconvi' 'addict'\n",
      " 'addit' 'address' 'ade' 'adel' 'adelaid' 'adelphia' 'adenau'\n",
      " 'adenauerplatz' 'adept' 'adequ' 'adher' 'adiant' 'adida' 'adjac' 'adject'\n",
      " 'adjoin' 'adjoint' 'adjourn' 'adjust' 'admin' 'administ' 'administr'\n",
      " 'admir' 'admiralti' 'admiss' 'admit' 'admitt' 'admittedli' 'admonish'\n",
      " 'adn' 'ado' 'adob' 'adolesc' 'adolphu' 'adoplhu' 'adopt' 'ador' 'adorn'\n",
      " 'adraw' 'adrenalin' 'adrian' 'adrift' 'adsl' 'adult' 'adults__ç_' 'adv'\n",
      " 'advanc' 'advance__ç' 'advanceonli' 'advantag' 'adventur' 'adventurebook'\n",
      " 'adventuresom' 'adventursom' 'advers' 'adversari' 'advert' 'advertis'\n",
      " 'adverturist' 'advic' 'advice__çî__on__ç_é_' 'advis' 'advisor'\n",
      " 'advisorand' 'advisori' 'ae' 'aeorib' 'aerial' 'aero' 'aerob' 'aerobat'\n",
      " 'aerobercis' 'aerobus' 'aeroplan' 'aeropuerta' 'aerosol' 'aesthet'\n",
      " 'aesthetician' 'aevi' 'af' 'afa' 'afajita' 'afar' 'affair' 'affect'\n",
      " 'affection' 'afficionado' 'affili' 'affin' 'affini' 'affirm' 'affix'\n",
      " 'afflict' 'affluent' 'afford' 'afield' 'aforement' 'afraid' 'africa'\n",
      " 'african' 'aft' 'after' 'afteral' 'aftermath' 'afternoon' 'afternoontea'\n",
      " 'aftershav' 'aftertast' 'afterthat' 'afterthought' 'afterward' 'ag' 'aga'\n",
      " 'again' 'again__ç' 'again__çî_önd' 'againgareth' 'againkathryn' 'against'\n",
      " 'agar' 'age' 'agenc' 'agenda' 'agent' 'agg' 'agghhh' 'aggrav' 'aggreg'\n",
      " 'aggress' 'aggrev' 'agit' 'ago' 'agon' 'agoni' 'agonist' 'agonizingli'\n",
      " 'agora' 'agosto' 'agrav' 'agre' 'agreeabl' 'agreement' 'agreement__ç_'\n",
      " 'agricultur' 'agua' 'aguadilla' 'aguasviva' 'aguaviva' 'aguidilla' 'ah'\n",
      " 'aha' 'ahd' 'ahead' 'ahhhhh' 'ahhhhhh' 'ahhhhhhhhhhh' 'ahhwwww' 'ahu'\n",
      " 'ai' 'aibonito' 'aid' 'ail' 'ailment' 'aim' 'aimeereynold' 'aimlessli'\n",
      " 'ain__ç_é_' 'ainsdal' 'aint' 'air' 'airborn' 'airbu' 'aircond'\n",
      " 'aircondit' 'aircondition' 'airconditiond' 'airconditiong' 'airconditon'\n",
      " 'aircondt' 'aircraft' 'airdat' 'airfield' 'airflow' 'airfoil' 'airforc'\n",
      " 'airfram' 'airfreshen' 'airlin' 'airplan' 'airport' 'airportbusstop'\n",
      " 'airportkeep' 'airportpric' 'airportr' 'airticket' 'airtim' 'airtour'\n",
      " 'airtrain' 'airtransat' 'airtransit' 'airway' 'aisl' 'aj' 'ajillio' 'ajp'\n",
      " 'aka' 'aki__ç_é_' 'akihabara' 'akin' 'al' 'ala' 'alabama' 'alacart'\n",
      " 'alacatraz' 'alagratia' 'alahambra' 'alain' 'alam' 'alamanni' 'alamkul'\n",
      " 'alamkulkul' 'alammani' 'alamoana' 'alan' 'alankulkul' 'alarm' 'alaska'\n",
      " 'alba' 'albani' 'albania' 'albeit' 'albert' 'alberta' 'albertacanada'\n",
      " 'alberto' 'albertson' 'albion' 'albufera' 'album' 'alcatraaz' 'alcatraz'\n",
      " 'alcatrazcruis' 'alcazar' 'alcohol' 'alcoholwhat' 'alctraz' 'aldeath'\n",
      " 'alder' 'ale' 'alejandro' 'alert' 'alessandro' 'alessio' 'alex' 'alexa'\n",
      " 'alexand' 'alexanderplatz' 'alexanderplaz' 'alexanderplazt' 'alexandra'\n",
      " 'alexandraplatz' 'alexandria' 'alexi' 'alfonso' 'alfr' 'alfred__ç_é_'\n",
      " 'alga' 'algeria']\n"
     ]
    }
   ],
   "source": [
    "the_column_names = tfidf_vect.get_feature_names_out()\n",
    "print(the_column_names[1:500])"
   ]
  },
  {
   "cell_type": "code",
   "execution_count": 39,
   "id": "bc3b4346",
   "metadata": {},
   "outputs": [
    {
     "data": {
      "text/plain": [
       "True"
      ]
     },
     "execution_count": 39,
     "metadata": {},
     "output_type": "execute_result"
    }
   ],
   "source": [
    "# test if ok is in the features\n",
    "\"ok\" in the_column_names"
   ]
  },
  {
   "cell_type": "code",
   "execution_count": 46,
   "id": "80e1d510",
   "metadata": {},
   "outputs": [
    {
     "data": {
      "text/plain": [
       "True"
      ]
     },
     "execution_count": 46,
     "metadata": {},
     "output_type": "execute_result"
    }
   ],
   "source": [
    "\"okay\" in the_column_names"
   ]
  },
  {
   "cell_type": "markdown",
   "id": "ce46b62f",
   "metadata": {},
   "source": [
    "# Split data into train data (70%) & test data (30%)"
   ]
  },
  {
   "cell_type": "code",
   "execution_count": 9,
   "id": "9856a5ae",
   "metadata": {},
   "outputs": [],
   "source": [
    "from sklearn.model_selection import train_test_split\n",
    "\n",
    "\n",
    "# Fix to retain same result\n",
    "random_seed = 22\n",
    "\n",
    "# This represents the 'label' column in retrieved_processed_data\n",
    "label = retrieved_processed_data['label']\n",
    "\n",
    "# Split the data into training and test sets, considering class imbalance\n",
    "X_train, X_test, y_train, y_test = train_test_split(X_all_df, label, test_size=0.3, random_state=random_seed, stratify=label)"
   ]
  },
  {
   "cell_type": "code",
   "execution_count": 47,
   "id": "3c107147",
   "metadata": {},
   "outputs": [
    {
     "data": {
      "text/plain": [
       "5493"
      ]
     },
     "execution_count": 47,
     "metadata": {},
     "output_type": "execute_result"
    }
   ],
   "source": [
    "len(y_test)"
   ]
  },
  {
   "cell_type": "markdown",
   "id": "5f29bb2e",
   "metadata": {},
   "source": [
    "# Train SVM classifier, perform 5-fold cross-validation"
   ]
  },
  {
   "cell_type": "code",
   "execution_count": 11,
   "id": "a16c726e",
   "metadata": {},
   "outputs": [
    {
     "name": "stdout",
     "output_type": "stream",
     "text": [
      "Best parameters: {'C': 10, 'kernel': 'rbf'}\n",
      "Accuracy on test set: 0.9546695794647734\n",
      "Total time in seconds to run SVM with GridSearchCV is: 48966.18931365013\n"
     ]
    }
   ],
   "source": [
    "#SVM with cross validation\n",
    "\n",
    "from sklearn.model_selection import GridSearchCV\n",
    "from sklearn.svm import SVC\n",
    "import time\n",
    "\n",
    "# Instantiate the SVM classifier\n",
    "svm = SVC()\n",
    "\n",
    "# Define the parameter grid to search\n",
    "svm_param_CV = {\n",
    "    'C': [0.1, 1, 10],          # Different values of C\n",
    "    'kernel': ['linear', 'rbf'],    # Different kernel types\n",
    "    \n",
    "}\n",
    "\n",
    "start_svc_CV = time.time()\n",
    "\n",
    "svm_grid_search = GridSearchCV(estimator=svm, param_grid=svm_param_CV, cv=5)\n",
    "\n",
    "\n",
    "svm_grid_search.fit(X_train, y_train)\n",
    "\n",
    "# Print the best parameters found by GridSearchCV\n",
    "print(\"Best parameters:\", svm_grid_search.best_params_)\n",
    "\n",
    "# Get the best model\n",
    "best_svm_model = svm_grid_search.best_estimator_\n",
    "\n",
    "# Evaluate the model on the test set\n",
    "accuracy = best_svm_model.score(X_test, y_test)\n",
    "print(\"Accuracy on test set:\", accuracy)\n",
    "\n",
    "\n",
    "\n",
    "end_svc_CV = time.time()\n",
    "total_svc_time = end_svc_CV - start_svc_CV\n",
    "print(\"Total time in seconds to run SVM with GridSearchCV is:\", total_svc_time)\n"
   ]
  },
  {
   "cell_type": "markdown",
   "id": "6c28cc34",
   "metadata": {},
   "source": [
    "## Train final SVM based on optimal parameters from above\n",
    "## (I understand this info is already available above but\n",
    "## I preferred to re-do this step separately)"
   ]
  },
  {
   "cell_type": "code",
   "execution_count": 12,
   "id": "47966af7",
   "metadata": {},
   "outputs": [
    {
     "name": "stdout",
     "output_type": "stream",
     "text": [
      "Final SVM classifier needs this time in seconds:  1542.6966931819916\n"
     ]
    }
   ],
   "source": [
    "# Build and run SVM classifier using CV parameters from above\n",
    "# Output the performance metrics so that they are visible and saved\n",
    "from sklearn.svm import SVC\n",
    "import time\n",
    "\n",
    "t_svm_start = time.time()\n",
    "\n",
    "best_C = 10\n",
    "best_kernel = 'rbf'\n",
    "svm_classifier = SVC(C=best_C, kernel=best_kernel)\n",
    "# Train the model\n",
    "svm_classifier.fit(X_train, y_train)\n",
    "\n",
    "# Make predictions on the test data\n",
    "svm_predictions = svm_classifier.predict(X_test)\n",
    "\n",
    "t_svm_end = time.time()\n",
    "\n",
    "# Evaluate the model\n",
    "#svm_accuray = accuracy_score(y_test, svm_predictions)\n",
    "#print(\"SVM Accuracy):\", svm_accuray)\n",
    "\n",
    "\n",
    "t_svm_needed = t_svm_end - t_svm_start\n",
    "print(\"Final SVM classifier needs this time in seconds: \", t_svm_needed)"
   ]
  },
  {
   "cell_type": "markdown",
   "id": "93d91775",
   "metadata": {},
   "source": [
    "## Performance metrics for SVM"
   ]
  },
  {
   "cell_type": "code",
   "execution_count": 13,
   "id": "86c6fbce",
   "metadata": {},
   "outputs": [
    {
     "name": "stdout",
     "output_type": "stream",
     "text": [
      "SVM Precision:  0.9600171969045572\n",
      "SVM Recall:  0.9860896445131375\n",
      "SVM Accuracy): 0.9546695794647734\n",
      "SVM F1 Score:  0.9728787713756671\n",
      "Confusion Matrix for SVM:\n",
      "[[ 778  186]\n",
      " [  63 4466]]\n"
     ]
    }
   ],
   "source": [
    "# Compute other SVM performance metrics\n",
    "from sklearn.metrics import precision_score\n",
    "from sklearn.metrics import recall_score\n",
    "from sklearn.metrics import accuracy_score\n",
    "from sklearn.metrics import f1_score\n",
    "from sklearn.metrics import confusion_matrix\n",
    "\n",
    "# Precision\n",
    "svm_precision = precision_score(y_test, svm_predictions)\n",
    "print(\"SVM Precision: \", svm_precision)\n",
    "\n",
    "# Recall\n",
    "svm_recall = recall_score(y_test, svm_predictions)\n",
    "print(\"SVM Recall: \", svm_recall)\n",
    "\n",
    "# Accuracy\n",
    "svm_accuray = accuracy_score(y_test, svm_predictions)\n",
    "print(\"SVM Accuracy):\", svm_accuray)\n",
    "\n",
    "# F1 score\n",
    "svm_f1_score = f1_score(y_test, svm_predictions)\n",
    "print(\"SVM F1 Score: \", svm_f1_score)\n",
    "\n",
    "# Confusion Matrix\n",
    "svm_conf_matrix = confusion_matrix(y_test, svm_predictions)\n",
    "print(f'Confusion Matrix for SVM:\\n{svm_conf_matrix}')"
   ]
  },
  {
   "cell_type": "code",
   "execution_count": 26,
   "id": "bfe36573",
   "metadata": {},
   "outputs": [
    {
     "data": {
      "image/png": "[encoded data removed]",
      "text/plain": [
       "<Figure size 640x480 with 2 Axes>"
      ]
     },
     "metadata": {},
     "output_type": "display_data"
    }
   ],
   "source": [
    "from sklearn import metrics \n",
    "from matplotlib import pyplot as plt\n",
    "svm_cm_display = metrics.ConfusionMatrixDisplay(confusion_matrix = svm_conf_matrix, display_labels = [-1, 1])\n",
    "svm_cm_display.plot()\n",
    "plt.title('Confustion Matrix for Support Vector Machine')\n",
    "plt.show() "
   ]
  },
  {
   "cell_type": "markdown",
   "id": "87cf0997",
   "metadata": {},
   "source": [
    "# Train NB classifier, perform 5-fold cross-validation"
   ]
  },
  {
   "cell_type": "code",
   "execution_count": 13,
   "id": "55ace028",
   "metadata": {},
   "outputs": [
    {
     "name": "stdout",
     "output_type": "stream",
     "text": [
      "Best parameters: {'alpha': 0.1, 'fit_prior': False}\n",
      "Accuracy on test set using Naive Bayes: 0.9249954487529584\n",
      "Total time in seconds to run Naive Bayes with GridSearchCV is: 42.346896171569824\n"
     ]
    }
   ],
   "source": [
    "# Naive Baye's with cross validation\n",
    "\n",
    "from sklearn.naive_bayes import MultinomialNB\n",
    "\n",
    "nb = MultinomialNB()\n",
    "\n",
    "\n",
    "nb_param_grid = {\n",
    "    'alpha': [0.1, 1.0, 10],  # For Laplace smoothing\n",
    "    'fit_prior': [True, False],  # Learn class prior or assume equal prior (respectively)\n",
    "}\n",
    "\n",
    "\n",
    "nb_grid_search = GridSearchCV(estimator=nb, param_grid=nb_param_grid, cv=5)\n",
    "\n",
    "start_nb_CV = time.time()\n",
    "\n",
    "\n",
    "nb_grid_search.fit(X_train, y_train)\n",
    "\n",
    "\n",
    "print(\"Best parameters:\", nb_grid_search.best_params_)\n",
    "\n",
    "\n",
    "# Get the best model\n",
    "best_nb_model = nb_grid_search.best_estimator_\n",
    "\n",
    "# Evaluate the model on the test set\n",
    "nb_accuracy = best_nb_model.score(X_test, y_test)\n",
    "print(\"Accuracy on test set using Naive Bayes:\", nb_accuracy)\n",
    "\n",
    "\n",
    "\n",
    "end_nb_CV = time.time()\n",
    "total_nb_time = end_nb_CV - start_nb_CV\n",
    "print(\"Total time in seconds to run Naive Bayes with GridSearchCV is:\", total_nb_time)\n",
    "\n",
    "\n"
   ]
  },
  {
   "cell_type": "markdown",
   "id": "c012bd84",
   "metadata": {},
   "source": [
    "## Train final NB classifier with optimal parameters from previous step"
   ]
  },
  {
   "cell_type": "code",
   "execution_count": 18,
   "id": "f0ce424a",
   "metadata": {},
   "outputs": [
    {
     "name": "stdout",
     "output_type": "stream",
     "text": [
      "Final NB classifier needs this time in seconds:  0.6587891578674316\n"
     ]
    }
   ],
   "source": [
    "# Run Naive Bayes with best parameters and output performance so that they are saved\n",
    "from sklearn.naive_bayes import MultinomialNB\n",
    "\n",
    "t_nb_start = time.time()\n",
    "\n",
    "best_alpha = 0.1\n",
    "best_fit_prior = False\n",
    "nb_classifier = MultinomialNB(alpha=best_alpha, fit_prior=best_fit_prior)\n",
    "# Train the model\n",
    "nb_classifier.fit(X_train, y_train)\n",
    "\n",
    "# Make predictions on the test data\n",
    "nb_predictions = nb_classifier.predict(X_test)\n",
    "\n",
    "t_nb_end = time.time()\n",
    "\n",
    "t_nb_needed = t_nb_end - t_nb_start\n",
    "print(\"Final NB classifier needs this time in seconds: \", t_nb_needed)"
   ]
  },
  {
   "cell_type": "markdown",
   "id": "043c084a",
   "metadata": {},
   "source": [
    "## Performance metrics for NB classifier"
   ]
  },
  {
   "cell_type": "code",
   "execution_count": 19,
   "id": "9988ab79",
   "metadata": {},
   "outputs": [
    {
     "name": "stdout",
     "output_type": "stream",
     "text": [
      "Naive Bayes Precision:  0.9741994932043307\n",
      "Naive Bayes Recall:  0.9337602119673217\n",
      "Naive Bayes Accuracy): 0.9249954487529584\n",
      "Naive Bayes F1 Score:  0.9535512965050732\n",
      "Confusion Matrix for Naive Bayes:\n",
      "[[ 852  112]\n",
      " [ 300 4229]]\n"
     ]
    }
   ],
   "source": [
    "# Compute other NB performance metrics\n",
    "from sklearn.metrics import precision_score\n",
    "from sklearn.metrics import recall_score\n",
    "from sklearn.metrics import accuracy_score\n",
    "from sklearn.metrics import f1_score\n",
    "from sklearn.metrics import confusion_matrix\n",
    "\n",
    "# Precision\n",
    "nb_precision = precision_score(y_test, nb_predictions)\n",
    "print(\"Naive Bayes Precision: \", nb_precision)\n",
    "\n",
    "# Recall\n",
    "nb_recall = recall_score(y_test, nb_predictions)\n",
    "print(\"Naive Bayes Recall: \", nb_recall)\n",
    "\n",
    "# Accuracy\n",
    "naive_bayes_accuray = accuracy_score(y_test, nb_predictions)\n",
    "print(\"Naive Bayes Accuracy):\", naive_bayes_accuray)\n",
    "\n",
    "# F1 score\n",
    "nb_f1_score = f1_score(y_test, nb_predictions)\n",
    "print(\"Naive Bayes F1 Score: \", nb_f1_score)\n",
    "\n",
    "# Confusion Matrix\n",
    "nb_conf_matrix = confusion_matrix(y_test, nb_predictions)\n",
    "print(f'Confusion Matrix for Naive Bayes:\\n{nb_conf_matrix}')"
   ]
  },
  {
   "cell_type": "code",
   "execution_count": 28,
   "id": "23917957",
   "metadata": {},
   "outputs": [
    {
     "data": {
      "image/png": "[encoded data removed]",
      "text/plain": [
       "<Figure size 640x480 with 2 Axes>"
      ]
     },
     "metadata": {},
     "output_type": "display_data"
    }
   ],
   "source": [
    "from sklearn import metrics \n",
    "cm_display_nb = metrics.ConfusionMatrixDisplay(confusion_matrix = nb_conf_matrix, display_labels = [-1, 1])\n",
    "cm_display_nb.plot()\n",
    "plt.title('Confustion Matrix for Naive Bayes Classifier')\n",
    "plt.show() "
   ]
  },
  {
   "cell_type": "markdown",
   "id": "1af5968e",
   "metadata": {},
   "source": [
    "# Train Logistic Regression, use 5-fold cross-validation for optimal parameters"
   ]
  },
  {
   "cell_type": "code",
   "execution_count": 14,
   "id": "4c9b5993",
   "metadata": {},
   "outputs": [
    {
     "name": "stderr",
     "output_type": "stream",
     "text": [
      "/Users/mahmoudwatfa/anaconda3/lib/python3.11/site-packages/sklearn/linear_model/_logistic.py:460: ConvergenceWarning: lbfgs failed to converge (status=1):\n",
      "STOP: TOTAL NO. of ITERATIONS REACHED LIMIT.\n",
      "\n",
      "Increase the number of iterations (max_iter) or scale the data as shown in:\n",
      "    https://scikit-learn.org/stable/modules/preprocessing.html\n",
      "Please also refer to the documentation for alternative solver options:\n",
      "    https://scikit-learn.org/stable/modules/linear_model.html#logistic-regression\n",
      "  n_iter_i = _check_optimize_result(\n",
      "/Users/mahmoudwatfa/anaconda3/lib/python3.11/site-packages/sklearn/linear_model/_logistic.py:460: ConvergenceWarning: lbfgs failed to converge (status=1):\n",
      "STOP: TOTAL NO. of ITERATIONS REACHED LIMIT.\n",
      "\n",
      "Increase the number of iterations (max_iter) or scale the data as shown in:\n",
      "    https://scikit-learn.org/stable/modules/preprocessing.html\n",
      "Please also refer to the documentation for alternative solver options:\n",
      "    https://scikit-learn.org/stable/modules/linear_model.html#logistic-regression\n",
      "  n_iter_i = _check_optimize_result(\n",
      "/Users/mahmoudwatfa/anaconda3/lib/python3.11/site-packages/sklearn/linear_model/_logistic.py:460: ConvergenceWarning: lbfgs failed to converge (status=1):\n",
      "STOP: TOTAL NO. of ITERATIONS REACHED LIMIT.\n",
      "\n",
      "Increase the number of iterations (max_iter) or scale the data as shown in:\n",
      "    https://scikit-learn.org/stable/modules/preprocessing.html\n",
      "Please also refer to the documentation for alternative solver options:\n",
      "    https://scikit-learn.org/stable/modules/linear_model.html#logistic-regression\n",
      "  n_iter_i = _check_optimize_result(\n",
      "/Users/mahmoudwatfa/anaconda3/lib/python3.11/site-packages/sklearn/linear_model/_logistic.py:460: ConvergenceWarning: lbfgs failed to converge (status=1):\n",
      "STOP: TOTAL NO. of ITERATIONS REACHED LIMIT.\n",
      "\n",
      "Increase the number of iterations (max_iter) or scale the data as shown in:\n",
      "    https://scikit-learn.org/stable/modules/preprocessing.html\n",
      "Please also refer to the documentation for alternative solver options:\n",
      "    https://scikit-learn.org/stable/modules/linear_model.html#logistic-regression\n",
      "  n_iter_i = _check_optimize_result(\n",
      "/Users/mahmoudwatfa/anaconda3/lib/python3.11/site-packages/sklearn/linear_model/_logistic.py:460: ConvergenceWarning: lbfgs failed to converge (status=1):\n",
      "STOP: TOTAL NO. of ITERATIONS REACHED LIMIT.\n",
      "\n",
      "Increase the number of iterations (max_iter) or scale the data as shown in:\n",
      "    https://scikit-learn.org/stable/modules/preprocessing.html\n",
      "Please also refer to the documentation for alternative solver options:\n",
      "    https://scikit-learn.org/stable/modules/linear_model.html#logistic-regression\n",
      "  n_iter_i = _check_optimize_result(\n",
      "/Users/mahmoudwatfa/anaconda3/lib/python3.11/site-packages/sklearn/model_selection/_validation.py:425: FitFailedWarning: \n",
      "15 fits failed out of a total of 30.\n",
      "The score on these train-test partitions for these parameters will be set to nan.\n",
      "If these failures are not expected, you can try to debug them by setting error_score='raise'.\n",
      "\n",
      "Below are more details about the failures:\n",
      "--------------------------------------------------------------------------------\n",
      "15 fits failed with the following error:\n",
      "Traceback (most recent call last):\n",
      "  File \"/Users/mahmoudwatfa/anaconda3/lib/python3.11/site-packages/sklearn/model_selection/_validation.py\", line 732, in _fit_and_score\n",
      "    estimator.fit(X_train, y_train, **fit_params)\n",
      "  File \"/Users/mahmoudwatfa/anaconda3/lib/python3.11/site-packages/sklearn/base.py\", line 1151, in wrapper\n",
      "    return fit_method(estimator, *args, **kwargs)\n",
      "           ^^^^^^^^^^^^^^^^^^^^^^^^^^^^^^^^^^^^^^\n",
      "  File \"/Users/mahmoudwatfa/anaconda3/lib/python3.11/site-packages/sklearn/linear_model/_logistic.py\", line 1168, in fit\n",
      "    solver = _check_solver(self.solver, self.penalty, self.dual)\n",
      "             ^^^^^^^^^^^^^^^^^^^^^^^^^^^^^^^^^^^^^^^^^^^^^^^^^^^\n",
      "  File \"/Users/mahmoudwatfa/anaconda3/lib/python3.11/site-packages/sklearn/linear_model/_logistic.py\", line 56, in _check_solver\n",
      "    raise ValueError(\n",
      "ValueError: Solver lbfgs supports only 'l2' or 'none' penalties, got l1 penalty.\n",
      "\n",
      "  warnings.warn(some_fits_failed_message, FitFailedWarning)\n",
      "/Users/mahmoudwatfa/anaconda3/lib/python3.11/site-packages/sklearn/model_selection/_search.py:976: UserWarning: One or more of the test scores are non-finite: [       nan 0.84891501        nan 0.94459176        nan 0.95263019]\n",
      "  warnings.warn(\n"
     ]
    },
    {
     "name": "stdout",
     "output_type": "stream",
     "text": [
      "Best parameters: {'C': 10, 'penalty': 'l2'}\n",
      "Accuracy on test set using Logistic Regression: 0.9532131804114328\n",
      "Total time in seconds to run Logistic Regression with GridSearchCV is: 121.81369876861572\n"
     ]
    },
    {
     "name": "stderr",
     "output_type": "stream",
     "text": [
      "/Users/mahmoudwatfa/anaconda3/lib/python3.11/site-packages/sklearn/linear_model/_logistic.py:460: ConvergenceWarning: lbfgs failed to converge (status=1):\n",
      "STOP: TOTAL NO. of ITERATIONS REACHED LIMIT.\n",
      "\n",
      "Increase the number of iterations (max_iter) or scale the data as shown in:\n",
      "    https://scikit-learn.org/stable/modules/preprocessing.html\n",
      "Please also refer to the documentation for alternative solver options:\n",
      "    https://scikit-learn.org/stable/modules/linear_model.html#logistic-regression\n",
      "  n_iter_i = _check_optimize_result(\n"
     ]
    }
   ],
   "source": [
    "# Logistic Regression with cross validation\n",
    "from sklearn.linear_model import LogisticRegression\n",
    "lr = LogisticRegression()\n",
    "\n",
    "lr_param_grid = {\n",
    "    'C': [0.1, 1, 10], \n",
    "    'penalty': ['l1', 'l2'],  # Type of penalty to apply\n",
    "}\n",
    "\n",
    "# Create the GridSearchCV object\n",
    "lr_grid_search = GridSearchCV(estimator=lr, param_grid=lr_param_grid, cv=5)\n",
    "\n",
    "start_lr_CV = time.time()\n",
    "\n",
    "# Fit the model to the training data\n",
    "lr_grid_search.fit(X_train, y_train)\n",
    "\n",
    "# Print the best parameters found by GridSearchCV\n",
    "print(\"Best parameters:\", lr_grid_search.best_params_)\n",
    "\n",
    "# Get the best model\n",
    "best_lr_model = lr_grid_search.best_estimator_\n",
    "\n",
    "# Evaluate the model on the test set\n",
    "lr_accuracy = best_lr_model.score(X_test, y_test)\n",
    "print(\"Accuracy on test set using Logistic Regression:\", lr_accuracy)\n",
    "\n",
    "end_lr_CV = time.time()\n",
    "total_lr_time = end_lr_CV - start_lr_CV\n",
    "print(\"Total time in seconds to run Logistic Regression with GridSearchCV is:\", total_lr_time)\n"
   ]
  },
  {
   "cell_type": "markdown",
   "id": "6dfb8b22",
   "metadata": {},
   "source": [
    "## Train final LR classifier with optimal parameters from previous step"
   ]
  },
  {
   "cell_type": "code",
   "execution_count": 22,
   "id": "3ec7f865",
   "metadata": {},
   "outputs": [
    {
     "name": "stdout",
     "output_type": "stream",
     "text": [
      "Final Logistic Regression classifier needs this time in seconds:  11.228628873825073\n"
     ]
    },
    {
     "name": "stderr",
     "output_type": "stream",
     "text": [
      "/Users/mahmoudwatfa/anaconda3/lib/python3.11/site-packages/sklearn/linear_model/_logistic.py:460: ConvergenceWarning: lbfgs failed to converge (status=1):\n",
      "STOP: TOTAL NO. of ITERATIONS REACHED LIMIT.\n",
      "\n",
      "Increase the number of iterations (max_iter) or scale the data as shown in:\n",
      "    https://scikit-learn.org/stable/modules/preprocessing.html\n",
      "Please also refer to the documentation for alternative solver options:\n",
      "    https://scikit-learn.org/stable/modules/linear_model.html#logistic-regression\n",
      "  n_iter_i = _check_optimize_result(\n"
     ]
    }
   ],
   "source": [
    "# General Logistic Regression Classifier using best tuned parameters\n",
    "from sklearn.linear_model import LogisticRegression\n",
    "from sklearn.metrics import accuracy_score\n",
    "\n",
    "t_lr_start = time.time()\n",
    "\n",
    "C_value = 10  # Replace with the desired value\n",
    "lr_classifier = LogisticRegression(C=C_value)\n",
    "\n",
    "# Train the model\n",
    "lr_classifier.fit(X_train, y_train)\n",
    "\n",
    "# Make predictions on the test data\n",
    "lr_predictions = lr_classifier.predict(X_test)\n",
    "\n",
    "t_lr_end = time.time()\n",
    "\n",
    "# Evaluate the model\n",
    "t_lr_needed = t_lr_end - t_lr_start\n",
    "print(\"Final Logistic Regression classifier needs this time in seconds: \", t_lr_needed)"
   ]
  },
  {
   "cell_type": "markdown",
   "id": "720d1561",
   "metadata": {},
   "source": [
    "## Performance metrics for LR"
   ]
  },
  {
   "cell_type": "code",
   "execution_count": 23,
   "id": "7b0cade4",
   "metadata": {},
   "outputs": [],
   "source": [
    "from sklearn.metrics import precision_score\n",
    "from sklearn.metrics import recall_score\n",
    "from sklearn.metrics import accuracy_score\n",
    "from sklearn.metrics import f1_score\n",
    "from sklearn.metrics import confusion_matrix"
   ]
  },
  {
   "cell_type": "code",
   "execution_count": 24,
   "id": "701e6428",
   "metadata": {},
   "outputs": [
    {
     "name": "stdout",
     "output_type": "stream",
     "text": [
      "Logistic Regression Precision:  0.9607420189818809\n",
      "Logistic Regression Recall:  0.9834400529918305\n",
      "Logistic Regression Accuracy): 0.9532131804114328\n",
      "Logistic Regression F1 Score:  0.9719585379159847\n",
      "Confusion Matrix for Logistic Regression:\n",
      "[[ 782  182]\n",
      " [  75 4454]]\n"
     ]
    }
   ],
   "source": [
    "# Get different performance metrics for Logistic Regression classifier\n",
    "\n",
    "# Precision\n",
    "lr_precision = precision_score(y_test, lr_predictions)\n",
    "print(\"Logistic Regression Precision: \", lr_precision)\n",
    "\n",
    "# Recall\n",
    "lr_recall = recall_score(y_test, lr_predictions)\n",
    "print(\"Logistic Regression Recall: \", lr_recall)\n",
    "\n",
    "# Accuracy\n",
    "log_reg_accuray = accuracy_score(y_test, lr_predictions)\n",
    "print(\"Logistic Regression Accuracy):\", log_reg_accuray)\n",
    "\n",
    "\n",
    "# F1 score\n",
    "lr_f1_score = f1_score(y_test, lr_predictions)\n",
    "print(\"Logistic Regression F1 Score: \", lr_f1_score)\n",
    "\n",
    "# Confusion Matrix\n",
    "lr_conf_matrix = confusion_matrix(y_test, lr_predictions)\n",
    "print(f'Confusion Matrix for Logistic Regression:\\n{lr_conf_matrix}')"
   ]
  },
  {
   "cell_type": "code",
   "execution_count": 27,
   "id": "4d33bba6",
   "metadata": {},
   "outputs": [
    {
     "data": {
      "image/png": "[encoded data removed]",
      "text/plain": [
       "<Figure size 640x480 with 2 Axes>"
      ]
     },
     "metadata": {},
     "output_type": "display_data"
    }
   ],
   "source": [
    "from sklearn import metrics \n",
    "lr_cm_display = metrics.ConfusionMatrixDisplay(confusion_matrix = lr_conf_matrix, display_labels = [-1, 1])\n",
    "lr_cm_display.plot()\n",
    "plt.title('Confustion Matrix for Logistic Regression Classifier')\n",
    "plt.show() "
   ]
  },
  {
   "cell_type": "code",
   "execution_count": 5,
   "id": "481299f1",
   "metadata": {},
   "outputs": [
    {
     "data": {
      "image/png": "[encoded data removed]",
      "text/plain": [
       "<Figure size 640x480 with 1 Axes>"
      ]
     },
     "metadata": {},
     "output_type": "display_data"
    }
   ],
   "source": [
    "# Plot of time needed to run each classifier with cross-validation\n",
    "classifier_type = ['Naive Bayes', 'Logistic Regression', 'SVM']\n",
    "time_taken = [42.3468, 121.8136, 1542.6966]\n",
    "\n",
    "\n",
    "plt.bar(classifier_type, time_taken)\n",
    "\n",
    "\n",
    "plt.xlabel('Classifier Type')\n",
    "plt.ylabel('Total Time in Seconds')\n",
    "plt.title('Total Time Required to Perform 5-fold Cross-Validation per Classifier')\n",
    "\n",
    "\n",
    "plt.show()"
   ]
  },
  {
   "cell_type": "markdown",
   "id": "018ae7a1",
   "metadata": {},
   "source": [
    "# END OF CODING"
   ]
  }
 ],
 "metadata": {
  "kernelspec": {
   "display_name": "Python 3 (ipykernel)",
   "language": "python",
   "name": "python3"
  },
  "language_info": {
   "codemirror_mode": {
    "name": "ipython",
    "version": 3
   },
   "file_extension": ".py",
   "mimetype": "text/x-python",
   "name": "python",
   "nbconvert_exporter": "python",
   "pygments_lexer": "ipython3",
   "version": "3.11.5"
  }
 },
 "nbformat": 4,
 "nbformat_minor": 5
}
